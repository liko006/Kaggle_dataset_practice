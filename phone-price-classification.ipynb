{
 "cells": [
  {
   "cell_type": "code",
   "execution_count": 1,
   "id": "better-brain",
   "metadata": {
    "_cell_guid": "b1076dfc-b9ad-4769-8c92-a6c4dae69d19",
    "_uuid": "8f2839f25d086af736a60e9eeb907d3b93b6e0e5",
    "execution": {
     "iopub.execute_input": "2021-06-18T05:07:21.536661Z",
     "iopub.status.busy": "2021-06-18T05:07:21.535989Z",
     "iopub.status.idle": "2021-06-18T05:07:21.554843Z",
     "shell.execute_reply": "2021-06-18T05:07:21.554112Z",
     "shell.execute_reply.started": "2021-06-17T23:44:30.957641Z"
    },
    "papermill": {
     "duration": 0.071558,
     "end_time": "2021-06-18T05:07:21.555061",
     "exception": false,
     "start_time": "2021-06-18T05:07:21.483503",
     "status": "completed"
    },
    "tags": []
   },
   "outputs": [
    {
     "name": "stdout",
     "output_type": "stream",
     "text": [
      "/kaggle/input/mobile-price-classification/train.csv\n",
      "/kaggle/input/mobile-price-classification/test.csv\n"
     ]
    }
   ],
   "source": [
    "# This Python 3 environment comes with many helpful analytics libraries installed\n",
    "# It is defined by the kaggle/python Docker image: https://github.com/kaggle/docker-python\n",
    "# For example, here's several helpful packages to load\n",
    "\n",
    "import numpy as np # linear algebra\n",
    "import pandas as pd # data processing, CSV file I/O (e.g. pd.read_csv)\n",
    "\n",
    "# Input data files are available in the read-only \"../input/\" directory\n",
    "# For example, running this (by clicking run or pressing Shift+Enter) will list all files under the input directory\n",
    "\n",
    "import os\n",
    "for dirname, _, filenames in os.walk('/kaggle/input'):\n",
    "    for filename in filenames:\n",
    "        print(os.path.join(dirname, filename))\n",
    "\n",
    "# You can write up to 20GB to the current directory (/kaggle/working/) that gets preserved as output when you create a version using \"Save & Run All\" \n",
    "# You can also write temporary files to /kaggle/temp/, but they won't be saved outside of the current session"
   ]
  },
  {
   "cell_type": "code",
   "execution_count": 2,
   "id": "smaller-ethiopia",
   "metadata": {
    "execution": {
     "iopub.execute_input": "2021-06-18T05:07:21.641177Z",
     "iopub.status.busy": "2021-06-18T05:07:21.640439Z",
     "iopub.status.idle": "2021-06-18T05:07:22.537829Z",
     "shell.execute_reply": "2021-06-18T05:07:22.537078Z",
     "shell.execute_reply.started": "2021-06-17T23:45:07.538667Z"
    },
    "papermill": {
     "duration": 0.941374,
     "end_time": "2021-06-18T05:07:22.537994",
     "exception": false,
     "start_time": "2021-06-18T05:07:21.596620",
     "status": "completed"
    },
    "tags": []
   },
   "outputs": [],
   "source": [
    "import seaborn as sns\n",
    "import matplotlib.pyplot as plt\n",
    "from scipy.stats import norm"
   ]
  },
  {
   "cell_type": "code",
   "execution_count": 3,
   "id": "assumed-blackberry",
   "metadata": {
    "execution": {
     "iopub.execute_input": "2021-06-18T05:07:22.643819Z",
     "iopub.status.busy": "2021-06-18T05:07:22.639771Z",
     "iopub.status.idle": "2021-06-18T05:07:22.684537Z",
     "shell.execute_reply": "2021-06-18T05:07:22.683912Z",
     "shell.execute_reply.started": "2021-06-17T23:45:08.356181Z"
    },
    "papermill": {
     "duration": 0.102423,
     "end_time": "2021-06-18T05:07:22.684708",
     "exception": false,
     "start_time": "2021-06-18T05:07:22.582285",
     "status": "completed"
    },
    "tags": []
   },
   "outputs": [],
   "source": [
    "df_train = pd.read_csv('/kaggle/input/mobile-price-classification/train.csv')\n",
    "df_test = pd.read_csv('/kaggle/input/mobile-price-classification/test.csv')"
   ]
  },
  {
   "cell_type": "code",
   "execution_count": 4,
   "id": "going-lancaster",
   "metadata": {
    "execution": {
     "iopub.execute_input": "2021-06-18T05:07:22.781007Z",
     "iopub.status.busy": "2021-06-18T05:07:22.780260Z",
     "iopub.status.idle": "2021-06-18T05:07:22.805758Z",
     "shell.execute_reply": "2021-06-18T05:07:22.806294Z",
     "shell.execute_reply.started": "2021-06-17T23:45:08.867170Z"
    },
    "papermill": {
     "duration": 0.0783,
     "end_time": "2021-06-18T05:07:22.806464",
     "exception": false,
     "start_time": "2021-06-18T05:07:22.728164",
     "status": "completed"
    },
    "tags": []
   },
   "outputs": [
    {
     "data": {
      "text/plain": [
       "(   battery_power  blue  clock_speed  dual_sim  fc  four_g  int_memory  m_dep  \\\n",
       " 0            842     0          2.2         0   1       0           7    0.6   \n",
       " 1           1021     1          0.5         1   0       1          53    0.7   \n",
       " 2            563     1          0.5         1   2       1          41    0.9   \n",
       " 3            615     1          2.5         0   0       0          10    0.8   \n",
       " 4           1821     1          1.2         0  13       1          44    0.6   \n",
       " \n",
       "    mobile_wt  n_cores  ...  px_height  px_width   ram  sc_h  sc_w  talk_time  \\\n",
       " 0        188        2  ...         20       756  2549     9     7         19   \n",
       " 1        136        3  ...        905      1988  2631    17     3          7   \n",
       " 2        145        5  ...       1263      1716  2603    11     2          9   \n",
       " 3        131        6  ...       1216      1786  2769    16     8         11   \n",
       " 4        141        2  ...       1208      1212  1411     8     2         15   \n",
       " \n",
       "    three_g  touch_screen  wifi  price_range  \n",
       " 0        0             0     1            1  \n",
       " 1        1             1     0            2  \n",
       " 2        1             1     0            2  \n",
       " 3        1             0     0            2  \n",
       " 4        1             1     0            1  \n",
       " \n",
       " [5 rows x 21 columns],\n",
       "    id  battery_power  blue  clock_speed  dual_sim  fc  four_g  int_memory  \\\n",
       " 0   1           1043     1          1.8         1  14       0           5   \n",
       " 1   2            841     1          0.5         1   4       1          61   \n",
       " 2   3           1807     1          2.8         0   1       0          27   \n",
       " 3   4           1546     0          0.5         1  18       1          25   \n",
       " 4   5           1434     0          1.4         0  11       1          49   \n",
       " \n",
       "    m_dep  mobile_wt  ...  pc  px_height  px_width   ram  sc_h  sc_w  \\\n",
       " 0    0.1        193  ...  16        226      1412  3476    12     7   \n",
       " 1    0.8        191  ...  12        746       857  3895     6     0   \n",
       " 2    0.9        186  ...   4       1270      1366  2396    17    10   \n",
       " 3    0.5         96  ...  20        295      1752  3893    10     0   \n",
       " 4    0.5        108  ...  18        749       810  1773    15     8   \n",
       " \n",
       "    talk_time  three_g  touch_screen  wifi  \n",
       " 0          2        0             1     0  \n",
       " 1          7        1             0     0  \n",
       " 2         10        0             1     1  \n",
       " 3          7        1             1     0  \n",
       " 4          7        1             0     1  \n",
       " \n",
       " [5 rows x 21 columns])"
      ]
     },
     "execution_count": 4,
     "metadata": {},
     "output_type": "execute_result"
    }
   ],
   "source": [
    "df_train.head(), df_test.head()"
   ]
  },
  {
   "cell_type": "code",
   "execution_count": 5,
   "id": "structured-literacy",
   "metadata": {
    "execution": {
     "iopub.execute_input": "2021-06-18T05:07:22.908997Z",
     "iopub.status.busy": "2021-06-18T05:07:22.897915Z",
     "iopub.status.idle": "2021-06-18T05:07:22.913232Z",
     "shell.execute_reply": "2021-06-18T05:07:22.912424Z",
     "shell.execute_reply.started": "2021-06-17T23:45:09.700129Z"
    },
    "papermill": {
     "duration": 0.066169,
     "end_time": "2021-06-18T05:07:22.913389",
     "exception": false,
     "start_time": "2021-06-18T05:07:22.847220",
     "status": "completed"
    },
    "tags": []
   },
   "outputs": [
    {
     "name": "stdout",
     "output_type": "stream",
     "text": [
      "<class 'pandas.core.frame.DataFrame'>\n",
      "RangeIndex: 2000 entries, 0 to 1999\n",
      "Data columns (total 21 columns):\n",
      " #   Column         Non-Null Count  Dtype  \n",
      "---  ------         --------------  -----  \n",
      " 0   battery_power  2000 non-null   int64  \n",
      " 1   blue           2000 non-null   int64  \n",
      " 2   clock_speed    2000 non-null   float64\n",
      " 3   dual_sim       2000 non-null   int64  \n",
      " 4   fc             2000 non-null   int64  \n",
      " 5   four_g         2000 non-null   int64  \n",
      " 6   int_memory     2000 non-null   int64  \n",
      " 7   m_dep          2000 non-null   float64\n",
      " 8   mobile_wt      2000 non-null   int64  \n",
      " 9   n_cores        2000 non-null   int64  \n",
      " 10  pc             2000 non-null   int64  \n",
      " 11  px_height      2000 non-null   int64  \n",
      " 12  px_width       2000 non-null   int64  \n",
      " 13  ram            2000 non-null   int64  \n",
      " 14  sc_h           2000 non-null   int64  \n",
      " 15  sc_w           2000 non-null   int64  \n",
      " 16  talk_time      2000 non-null   int64  \n",
      " 17  three_g        2000 non-null   int64  \n",
      " 18  touch_screen   2000 non-null   int64  \n",
      " 19  wifi           2000 non-null   int64  \n",
      " 20  price_range    2000 non-null   int64  \n",
      "dtypes: float64(2), int64(19)\n",
      "memory usage: 328.2 KB\n"
     ]
    }
   ],
   "source": [
    "df_train.info()"
   ]
  },
  {
   "cell_type": "code",
   "execution_count": 6,
   "id": "comprehensive-preparation",
   "metadata": {
    "execution": {
     "iopub.execute_input": "2021-06-18T05:07:23.009936Z",
     "iopub.status.busy": "2021-06-18T05:07:23.009241Z",
     "iopub.status.idle": "2021-06-18T05:07:23.022883Z",
     "shell.execute_reply": "2021-06-18T05:07:23.022277Z",
     "shell.execute_reply.started": "2021-06-17T23:45:10.215173Z"
    },
    "papermill": {
     "duration": 0.069617,
     "end_time": "2021-06-18T05:07:23.023033",
     "exception": false,
     "start_time": "2021-06-18T05:07:22.953416",
     "status": "completed"
    },
    "tags": []
   },
   "outputs": [
    {
     "data": {
      "text/html": [
       "<div>\n",
       "<style scoped>\n",
       "    .dataframe tbody tr th:only-of-type {\n",
       "        vertical-align: middle;\n",
       "    }\n",
       "\n",
       "    .dataframe tbody tr th {\n",
       "        vertical-align: top;\n",
       "    }\n",
       "\n",
       "    .dataframe thead th {\n",
       "        text-align: right;\n",
       "    }\n",
       "</style>\n",
       "<table border=\"1\" class=\"dataframe\">\n",
       "  <thead>\n",
       "    <tr style=\"text-align: right;\">\n",
       "      <th></th>\n",
       "      <th>id</th>\n",
       "      <th>battery_power</th>\n",
       "      <th>blue</th>\n",
       "      <th>clock_speed</th>\n",
       "      <th>dual_sim</th>\n",
       "      <th>fc</th>\n",
       "      <th>four_g</th>\n",
       "      <th>int_memory</th>\n",
       "      <th>m_dep</th>\n",
       "      <th>mobile_wt</th>\n",
       "      <th>...</th>\n",
       "      <th>pc</th>\n",
       "      <th>px_height</th>\n",
       "      <th>px_width</th>\n",
       "      <th>ram</th>\n",
       "      <th>sc_h</th>\n",
       "      <th>sc_w</th>\n",
       "      <th>talk_time</th>\n",
       "      <th>three_g</th>\n",
       "      <th>touch_screen</th>\n",
       "      <th>wifi</th>\n",
       "    </tr>\n",
       "  </thead>\n",
       "  <tbody>\n",
       "    <tr>\n",
       "      <th>995</th>\n",
       "      <td>996</td>\n",
       "      <td>1700</td>\n",
       "      <td>1</td>\n",
       "      <td>1.9</td>\n",
       "      <td>0</td>\n",
       "      <td>0</td>\n",
       "      <td>1</td>\n",
       "      <td>54</td>\n",
       "      <td>0.5</td>\n",
       "      <td>170</td>\n",
       "      <td>...</td>\n",
       "      <td>17</td>\n",
       "      <td>644</td>\n",
       "      <td>913</td>\n",
       "      <td>2121</td>\n",
       "      <td>14</td>\n",
       "      <td>8</td>\n",
       "      <td>15</td>\n",
       "      <td>1</td>\n",
       "      <td>1</td>\n",
       "      <td>0</td>\n",
       "    </tr>\n",
       "    <tr>\n",
       "      <th>996</th>\n",
       "      <td>997</td>\n",
       "      <td>609</td>\n",
       "      <td>0</td>\n",
       "      <td>1.8</td>\n",
       "      <td>1</td>\n",
       "      <td>0</td>\n",
       "      <td>0</td>\n",
       "      <td>13</td>\n",
       "      <td>0.9</td>\n",
       "      <td>186</td>\n",
       "      <td>...</td>\n",
       "      <td>2</td>\n",
       "      <td>1152</td>\n",
       "      <td>1632</td>\n",
       "      <td>1933</td>\n",
       "      <td>8</td>\n",
       "      <td>1</td>\n",
       "      <td>19</td>\n",
       "      <td>0</td>\n",
       "      <td>1</td>\n",
       "      <td>1</td>\n",
       "    </tr>\n",
       "    <tr>\n",
       "      <th>997</th>\n",
       "      <td>998</td>\n",
       "      <td>1185</td>\n",
       "      <td>0</td>\n",
       "      <td>1.4</td>\n",
       "      <td>0</td>\n",
       "      <td>1</td>\n",
       "      <td>1</td>\n",
       "      <td>8</td>\n",
       "      <td>0.5</td>\n",
       "      <td>80</td>\n",
       "      <td>...</td>\n",
       "      <td>12</td>\n",
       "      <td>477</td>\n",
       "      <td>825</td>\n",
       "      <td>1223</td>\n",
       "      <td>5</td>\n",
       "      <td>0</td>\n",
       "      <td>14</td>\n",
       "      <td>1</td>\n",
       "      <td>0</td>\n",
       "      <td>0</td>\n",
       "    </tr>\n",
       "    <tr>\n",
       "      <th>998</th>\n",
       "      <td>999</td>\n",
       "      <td>1533</td>\n",
       "      <td>1</td>\n",
       "      <td>0.5</td>\n",
       "      <td>1</td>\n",
       "      <td>0</td>\n",
       "      <td>0</td>\n",
       "      <td>50</td>\n",
       "      <td>0.4</td>\n",
       "      <td>171</td>\n",
       "      <td>...</td>\n",
       "      <td>12</td>\n",
       "      <td>38</td>\n",
       "      <td>832</td>\n",
       "      <td>2509</td>\n",
       "      <td>15</td>\n",
       "      <td>11</td>\n",
       "      <td>6</td>\n",
       "      <td>0</td>\n",
       "      <td>1</td>\n",
       "      <td>0</td>\n",
       "    </tr>\n",
       "    <tr>\n",
       "      <th>999</th>\n",
       "      <td>1000</td>\n",
       "      <td>1270</td>\n",
       "      <td>1</td>\n",
       "      <td>0.5</td>\n",
       "      <td>0</td>\n",
       "      <td>4</td>\n",
       "      <td>1</td>\n",
       "      <td>35</td>\n",
       "      <td>0.1</td>\n",
       "      <td>140</td>\n",
       "      <td>...</td>\n",
       "      <td>19</td>\n",
       "      <td>457</td>\n",
       "      <td>608</td>\n",
       "      <td>2828</td>\n",
       "      <td>9</td>\n",
       "      <td>2</td>\n",
       "      <td>3</td>\n",
       "      <td>1</td>\n",
       "      <td>0</td>\n",
       "      <td>1</td>\n",
       "    </tr>\n",
       "  </tbody>\n",
       "</table>\n",
       "<p>5 rows × 21 columns</p>\n",
       "</div>"
      ],
      "text/plain": [
       "       id  battery_power  blue  clock_speed  dual_sim  fc  four_g  int_memory  \\\n",
       "995   996           1700     1          1.9         0   0       1          54   \n",
       "996   997            609     0          1.8         1   0       0          13   \n",
       "997   998           1185     0          1.4         0   1       1           8   \n",
       "998   999           1533     1          0.5         1   0       0          50   \n",
       "999  1000           1270     1          0.5         0   4       1          35   \n",
       "\n",
       "     m_dep  mobile_wt  ...  pc  px_height  px_width   ram  sc_h  sc_w  \\\n",
       "995    0.5        170  ...  17        644       913  2121    14     8   \n",
       "996    0.9        186  ...   2       1152      1632  1933     8     1   \n",
       "997    0.5         80  ...  12        477       825  1223     5     0   \n",
       "998    0.4        171  ...  12         38       832  2509    15    11   \n",
       "999    0.1        140  ...  19        457       608  2828     9     2   \n",
       "\n",
       "     talk_time  three_g  touch_screen  wifi  \n",
       "995         15        1             1     0  \n",
       "996         19        0             1     1  \n",
       "997         14        1             0     0  \n",
       "998          6        0             1     0  \n",
       "999          3        1             0     1  \n",
       "\n",
       "[5 rows x 21 columns]"
      ]
     },
     "execution_count": 6,
     "metadata": {},
     "output_type": "execute_result"
    }
   ],
   "source": [
    "df_test.tail()"
   ]
  },
  {
   "cell_type": "code",
   "execution_count": 7,
   "id": "pediatric-vinyl",
   "metadata": {
    "execution": {
     "iopub.execute_input": "2021-06-18T05:07:23.113234Z",
     "iopub.status.busy": "2021-06-18T05:07:23.112518Z",
     "iopub.status.idle": "2021-06-18T05:07:23.186056Z",
     "shell.execute_reply": "2021-06-18T05:07:23.185350Z",
     "shell.execute_reply.started": "2021-06-17T23:45:11.060389Z"
    },
    "papermill": {
     "duration": 0.122606,
     "end_time": "2021-06-18T05:07:23.186204",
     "exception": false,
     "start_time": "2021-06-18T05:07:23.063598",
     "status": "completed"
    },
    "tags": []
   },
   "outputs": [
    {
     "data": {
      "text/html": [
       "<div>\n",
       "<style scoped>\n",
       "    .dataframe tbody tr th:only-of-type {\n",
       "        vertical-align: middle;\n",
       "    }\n",
       "\n",
       "    .dataframe tbody tr th {\n",
       "        vertical-align: top;\n",
       "    }\n",
       "\n",
       "    .dataframe thead th {\n",
       "        text-align: right;\n",
       "    }\n",
       "</style>\n",
       "<table border=\"1\" class=\"dataframe\">\n",
       "  <thead>\n",
       "    <tr style=\"text-align: right;\">\n",
       "      <th></th>\n",
       "      <th>count</th>\n",
       "      <th>mean</th>\n",
       "      <th>std</th>\n",
       "      <th>min</th>\n",
       "      <th>25%</th>\n",
       "      <th>50%</th>\n",
       "      <th>75%</th>\n",
       "      <th>max</th>\n",
       "    </tr>\n",
       "  </thead>\n",
       "  <tbody>\n",
       "    <tr>\n",
       "      <th>battery_power</th>\n",
       "      <td>2000.0</td>\n",
       "      <td>1238.51850</td>\n",
       "      <td>439.418206</td>\n",
       "      <td>501.0</td>\n",
       "      <td>851.75</td>\n",
       "      <td>1226.0</td>\n",
       "      <td>1615.25</td>\n",
       "      <td>1998.0</td>\n",
       "    </tr>\n",
       "    <tr>\n",
       "      <th>blue</th>\n",
       "      <td>2000.0</td>\n",
       "      <td>0.49500</td>\n",
       "      <td>0.500100</td>\n",
       "      <td>0.0</td>\n",
       "      <td>0.00</td>\n",
       "      <td>0.0</td>\n",
       "      <td>1.00</td>\n",
       "      <td>1.0</td>\n",
       "    </tr>\n",
       "    <tr>\n",
       "      <th>clock_speed</th>\n",
       "      <td>2000.0</td>\n",
       "      <td>1.52225</td>\n",
       "      <td>0.816004</td>\n",
       "      <td>0.5</td>\n",
       "      <td>0.70</td>\n",
       "      <td>1.5</td>\n",
       "      <td>2.20</td>\n",
       "      <td>3.0</td>\n",
       "    </tr>\n",
       "    <tr>\n",
       "      <th>dual_sim</th>\n",
       "      <td>2000.0</td>\n",
       "      <td>0.50950</td>\n",
       "      <td>0.500035</td>\n",
       "      <td>0.0</td>\n",
       "      <td>0.00</td>\n",
       "      <td>1.0</td>\n",
       "      <td>1.00</td>\n",
       "      <td>1.0</td>\n",
       "    </tr>\n",
       "    <tr>\n",
       "      <th>fc</th>\n",
       "      <td>2000.0</td>\n",
       "      <td>4.30950</td>\n",
       "      <td>4.341444</td>\n",
       "      <td>0.0</td>\n",
       "      <td>1.00</td>\n",
       "      <td>3.0</td>\n",
       "      <td>7.00</td>\n",
       "      <td>19.0</td>\n",
       "    </tr>\n",
       "    <tr>\n",
       "      <th>four_g</th>\n",
       "      <td>2000.0</td>\n",
       "      <td>0.52150</td>\n",
       "      <td>0.499662</td>\n",
       "      <td>0.0</td>\n",
       "      <td>0.00</td>\n",
       "      <td>1.0</td>\n",
       "      <td>1.00</td>\n",
       "      <td>1.0</td>\n",
       "    </tr>\n",
       "    <tr>\n",
       "      <th>int_memory</th>\n",
       "      <td>2000.0</td>\n",
       "      <td>32.04650</td>\n",
       "      <td>18.145715</td>\n",
       "      <td>2.0</td>\n",
       "      <td>16.00</td>\n",
       "      <td>32.0</td>\n",
       "      <td>48.00</td>\n",
       "      <td>64.0</td>\n",
       "    </tr>\n",
       "    <tr>\n",
       "      <th>m_dep</th>\n",
       "      <td>2000.0</td>\n",
       "      <td>0.50175</td>\n",
       "      <td>0.288416</td>\n",
       "      <td>0.1</td>\n",
       "      <td>0.20</td>\n",
       "      <td>0.5</td>\n",
       "      <td>0.80</td>\n",
       "      <td>1.0</td>\n",
       "    </tr>\n",
       "    <tr>\n",
       "      <th>mobile_wt</th>\n",
       "      <td>2000.0</td>\n",
       "      <td>140.24900</td>\n",
       "      <td>35.399655</td>\n",
       "      <td>80.0</td>\n",
       "      <td>109.00</td>\n",
       "      <td>141.0</td>\n",
       "      <td>170.00</td>\n",
       "      <td>200.0</td>\n",
       "    </tr>\n",
       "    <tr>\n",
       "      <th>n_cores</th>\n",
       "      <td>2000.0</td>\n",
       "      <td>4.52050</td>\n",
       "      <td>2.287837</td>\n",
       "      <td>1.0</td>\n",
       "      <td>3.00</td>\n",
       "      <td>4.0</td>\n",
       "      <td>7.00</td>\n",
       "      <td>8.0</td>\n",
       "    </tr>\n",
       "    <tr>\n",
       "      <th>pc</th>\n",
       "      <td>2000.0</td>\n",
       "      <td>9.91650</td>\n",
       "      <td>6.064315</td>\n",
       "      <td>0.0</td>\n",
       "      <td>5.00</td>\n",
       "      <td>10.0</td>\n",
       "      <td>15.00</td>\n",
       "      <td>20.0</td>\n",
       "    </tr>\n",
       "    <tr>\n",
       "      <th>px_height</th>\n",
       "      <td>2000.0</td>\n",
       "      <td>645.10800</td>\n",
       "      <td>443.780811</td>\n",
       "      <td>0.0</td>\n",
       "      <td>282.75</td>\n",
       "      <td>564.0</td>\n",
       "      <td>947.25</td>\n",
       "      <td>1960.0</td>\n",
       "    </tr>\n",
       "    <tr>\n",
       "      <th>px_width</th>\n",
       "      <td>2000.0</td>\n",
       "      <td>1251.51550</td>\n",
       "      <td>432.199447</td>\n",
       "      <td>500.0</td>\n",
       "      <td>874.75</td>\n",
       "      <td>1247.0</td>\n",
       "      <td>1633.00</td>\n",
       "      <td>1998.0</td>\n",
       "    </tr>\n",
       "    <tr>\n",
       "      <th>ram</th>\n",
       "      <td>2000.0</td>\n",
       "      <td>2124.21300</td>\n",
       "      <td>1084.732044</td>\n",
       "      <td>256.0</td>\n",
       "      <td>1207.50</td>\n",
       "      <td>2146.5</td>\n",
       "      <td>3064.50</td>\n",
       "      <td>3998.0</td>\n",
       "    </tr>\n",
       "    <tr>\n",
       "      <th>sc_h</th>\n",
       "      <td>2000.0</td>\n",
       "      <td>12.30650</td>\n",
       "      <td>4.213245</td>\n",
       "      <td>5.0</td>\n",
       "      <td>9.00</td>\n",
       "      <td>12.0</td>\n",
       "      <td>16.00</td>\n",
       "      <td>19.0</td>\n",
       "    </tr>\n",
       "    <tr>\n",
       "      <th>sc_w</th>\n",
       "      <td>2000.0</td>\n",
       "      <td>5.76700</td>\n",
       "      <td>4.356398</td>\n",
       "      <td>0.0</td>\n",
       "      <td>2.00</td>\n",
       "      <td>5.0</td>\n",
       "      <td>9.00</td>\n",
       "      <td>18.0</td>\n",
       "    </tr>\n",
       "    <tr>\n",
       "      <th>talk_time</th>\n",
       "      <td>2000.0</td>\n",
       "      <td>11.01100</td>\n",
       "      <td>5.463955</td>\n",
       "      <td>2.0</td>\n",
       "      <td>6.00</td>\n",
       "      <td>11.0</td>\n",
       "      <td>16.00</td>\n",
       "      <td>20.0</td>\n",
       "    </tr>\n",
       "    <tr>\n",
       "      <th>three_g</th>\n",
       "      <td>2000.0</td>\n",
       "      <td>0.76150</td>\n",
       "      <td>0.426273</td>\n",
       "      <td>0.0</td>\n",
       "      <td>1.00</td>\n",
       "      <td>1.0</td>\n",
       "      <td>1.00</td>\n",
       "      <td>1.0</td>\n",
       "    </tr>\n",
       "    <tr>\n",
       "      <th>touch_screen</th>\n",
       "      <td>2000.0</td>\n",
       "      <td>0.50300</td>\n",
       "      <td>0.500116</td>\n",
       "      <td>0.0</td>\n",
       "      <td>0.00</td>\n",
       "      <td>1.0</td>\n",
       "      <td>1.00</td>\n",
       "      <td>1.0</td>\n",
       "    </tr>\n",
       "    <tr>\n",
       "      <th>wifi</th>\n",
       "      <td>2000.0</td>\n",
       "      <td>0.50700</td>\n",
       "      <td>0.500076</td>\n",
       "      <td>0.0</td>\n",
       "      <td>0.00</td>\n",
       "      <td>1.0</td>\n",
       "      <td>1.00</td>\n",
       "      <td>1.0</td>\n",
       "    </tr>\n",
       "    <tr>\n",
       "      <th>price_range</th>\n",
       "      <td>2000.0</td>\n",
       "      <td>1.50000</td>\n",
       "      <td>1.118314</td>\n",
       "      <td>0.0</td>\n",
       "      <td>0.75</td>\n",
       "      <td>1.5</td>\n",
       "      <td>2.25</td>\n",
       "      <td>3.0</td>\n",
       "    </tr>\n",
       "  </tbody>\n",
       "</table>\n",
       "</div>"
      ],
      "text/plain": [
       "                count        mean          std    min      25%     50%  \\\n",
       "battery_power  2000.0  1238.51850   439.418206  501.0   851.75  1226.0   \n",
       "blue           2000.0     0.49500     0.500100    0.0     0.00     0.0   \n",
       "clock_speed    2000.0     1.52225     0.816004    0.5     0.70     1.5   \n",
       "dual_sim       2000.0     0.50950     0.500035    0.0     0.00     1.0   \n",
       "fc             2000.0     4.30950     4.341444    0.0     1.00     3.0   \n",
       "four_g         2000.0     0.52150     0.499662    0.0     0.00     1.0   \n",
       "int_memory     2000.0    32.04650    18.145715    2.0    16.00    32.0   \n",
       "m_dep          2000.0     0.50175     0.288416    0.1     0.20     0.5   \n",
       "mobile_wt      2000.0   140.24900    35.399655   80.0   109.00   141.0   \n",
       "n_cores        2000.0     4.52050     2.287837    1.0     3.00     4.0   \n",
       "pc             2000.0     9.91650     6.064315    0.0     5.00    10.0   \n",
       "px_height      2000.0   645.10800   443.780811    0.0   282.75   564.0   \n",
       "px_width       2000.0  1251.51550   432.199447  500.0   874.75  1247.0   \n",
       "ram            2000.0  2124.21300  1084.732044  256.0  1207.50  2146.5   \n",
       "sc_h           2000.0    12.30650     4.213245    5.0     9.00    12.0   \n",
       "sc_w           2000.0     5.76700     4.356398    0.0     2.00     5.0   \n",
       "talk_time      2000.0    11.01100     5.463955    2.0     6.00    11.0   \n",
       "three_g        2000.0     0.76150     0.426273    0.0     1.00     1.0   \n",
       "touch_screen   2000.0     0.50300     0.500116    0.0     0.00     1.0   \n",
       "wifi           2000.0     0.50700     0.500076    0.0     0.00     1.0   \n",
       "price_range    2000.0     1.50000     1.118314    0.0     0.75     1.5   \n",
       "\n",
       "                   75%     max  \n",
       "battery_power  1615.25  1998.0  \n",
       "blue              1.00     1.0  \n",
       "clock_speed       2.20     3.0  \n",
       "dual_sim          1.00     1.0  \n",
       "fc                7.00    19.0  \n",
       "four_g            1.00     1.0  \n",
       "int_memory       48.00    64.0  \n",
       "m_dep             0.80     1.0  \n",
       "mobile_wt       170.00   200.0  \n",
       "n_cores           7.00     8.0  \n",
       "pc               15.00    20.0  \n",
       "px_height       947.25  1960.0  \n",
       "px_width       1633.00  1998.0  \n",
       "ram            3064.50  3998.0  \n",
       "sc_h             16.00    19.0  \n",
       "sc_w              9.00    18.0  \n",
       "talk_time        16.00    20.0  \n",
       "three_g           1.00     1.0  \n",
       "touch_screen      1.00     1.0  \n",
       "wifi              1.00     1.0  \n",
       "price_range       2.25     3.0  "
      ]
     },
     "execution_count": 7,
     "metadata": {},
     "output_type": "execute_result"
    }
   ],
   "source": [
    "df_train.describe().T"
   ]
  },
  {
   "cell_type": "code",
   "execution_count": 8,
   "id": "handy-colombia",
   "metadata": {
    "execution": {
     "iopub.execute_input": "2021-06-18T05:07:23.278347Z",
     "iopub.status.busy": "2021-06-18T05:07:23.277338Z",
     "iopub.status.idle": "2021-06-18T05:07:23.282149Z",
     "shell.execute_reply": "2021-06-18T05:07:23.281467Z",
     "shell.execute_reply.started": "2021-06-17T23:45:11.173235Z"
    },
    "papermill": {
     "duration": 0.05434,
     "end_time": "2021-06-18T05:07:23.282295",
     "exception": false,
     "start_time": "2021-06-18T05:07:23.227955",
     "status": "completed"
    },
    "tags": []
   },
   "outputs": [
    {
     "data": {
      "text/plain": [
       "battery_power    0\n",
       "blue             0\n",
       "clock_speed      0\n",
       "dual_sim         0\n",
       "fc               0\n",
       "four_g           0\n",
       "int_memory       0\n",
       "m_dep            0\n",
       "mobile_wt        0\n",
       "n_cores          0\n",
       "pc               0\n",
       "px_height        0\n",
       "px_width         0\n",
       "ram              0\n",
       "sc_h             0\n",
       "sc_w             0\n",
       "talk_time        0\n",
       "three_g          0\n",
       "touch_screen     0\n",
       "wifi             0\n",
       "price_range      0\n",
       "dtype: int64"
      ]
     },
     "execution_count": 8,
     "metadata": {},
     "output_type": "execute_result"
    }
   ],
   "source": [
    "df_train.isnull().sum()"
   ]
  },
  {
   "cell_type": "code",
   "execution_count": 9,
   "id": "shaped-elder",
   "metadata": {
    "execution": {
     "iopub.execute_input": "2021-06-18T05:07:23.374784Z",
     "iopub.status.busy": "2021-06-18T05:07:23.373808Z",
     "iopub.status.idle": "2021-06-18T05:07:23.378236Z",
     "shell.execute_reply": "2021-06-18T05:07:23.377640Z",
     "shell.execute_reply.started": "2021-06-17T23:45:12.758350Z"
    },
    "papermill": {
     "duration": 0.051787,
     "end_time": "2021-06-18T05:07:23.378377",
     "exception": false,
     "start_time": "2021-06-18T05:07:23.326590",
     "status": "completed"
    },
    "tags": []
   },
   "outputs": [
    {
     "data": {
      "text/plain": [
       "Index(['battery_power', 'blue', 'clock_speed', 'dual_sim', 'fc', 'four_g',\n",
       "       'int_memory', 'm_dep', 'mobile_wt', 'n_cores', 'pc', 'px_height',\n",
       "       'px_width', 'ram', 'sc_h', 'sc_w', 'talk_time', 'three_g',\n",
       "       'touch_screen', 'wifi', 'price_range'],\n",
       "      dtype='object')"
      ]
     },
     "execution_count": 9,
     "metadata": {},
     "output_type": "execute_result"
    }
   ],
   "source": [
    "df_train.columns"
   ]
  },
  {
   "cell_type": "code",
   "execution_count": 10,
   "id": "likely-welding",
   "metadata": {
    "execution": {
     "iopub.execute_input": "2021-06-18T05:07:23.467606Z",
     "iopub.status.busy": "2021-06-18T05:07:23.466539Z",
     "iopub.status.idle": "2021-06-18T05:07:23.468982Z",
     "shell.execute_reply": "2021-06-18T05:07:23.469415Z",
     "shell.execute_reply.started": "2021-06-17T23:45:13.206576Z"
    },
    "papermill": {
     "duration": 0.049155,
     "end_time": "2021-06-18T05:07:23.469587",
     "exception": false,
     "start_time": "2021-06-18T05:07:23.420432",
     "status": "completed"
    },
    "tags": []
   },
   "outputs": [],
   "source": [
    "cat_cols = ['blue', 'dual_sim', 'four_g', 'n_cores', 'three_g', 'touch_screen', 'wifi']"
   ]
  },
  {
   "cell_type": "code",
   "execution_count": 11,
   "id": "valued-hamburg",
   "metadata": {
    "execution": {
     "iopub.execute_input": "2021-06-18T05:07:23.556987Z",
     "iopub.status.busy": "2021-06-18T05:07:23.556011Z",
     "iopub.status.idle": "2021-06-18T05:07:23.570450Z",
     "shell.execute_reply": "2021-06-18T05:07:23.569936Z",
     "shell.execute_reply.started": "2021-06-17T23:45:13.567208Z"
    },
    "papermill": {
     "duration": 0.059236,
     "end_time": "2021-06-18T05:07:23.570604",
     "exception": false,
     "start_time": "2021-06-18T05:07:23.511368",
     "status": "completed"
    },
    "tags": []
   },
   "outputs": [],
   "source": [
    "df_train[cat_cols] = df_train[cat_cols].astype('category')"
   ]
  },
  {
   "cell_type": "code",
   "execution_count": 12,
   "id": "marked-intelligence",
   "metadata": {
    "execution": {
     "iopub.execute_input": "2021-06-18T05:07:23.659770Z",
     "iopub.status.busy": "2021-06-18T05:07:23.659084Z",
     "iopub.status.idle": "2021-06-18T05:07:23.661487Z",
     "shell.execute_reply": "2021-06-18T05:07:23.661946Z",
     "shell.execute_reply.started": "2021-06-17T23:45:14.154026Z"
    },
    "papermill": {
     "duration": 0.049757,
     "end_time": "2021-06-18T05:07:23.662121",
     "exception": false,
     "start_time": "2021-06-18T05:07:23.612364",
     "status": "completed"
    },
    "tags": []
   },
   "outputs": [],
   "source": [
    "num_cols = ['battery_power', 'clock_speed', 'fc','int_memory', 'm_dep', 'mobile_wt', \n",
    "            'pc', 'px_height', 'px_width', 'ram', 'sc_h', 'sc_w', 'talk_time']"
   ]
  },
  {
   "cell_type": "code",
   "execution_count": 13,
   "id": "instrumental-diabetes",
   "metadata": {
    "execution": {
     "iopub.execute_input": "2021-06-18T05:07:23.752653Z",
     "iopub.status.busy": "2021-06-18T05:07:23.751633Z",
     "iopub.status.idle": "2021-06-18T05:07:23.753904Z",
     "shell.execute_reply": "2021-06-18T05:07:23.754388Z",
     "shell.execute_reply.started": "2021-06-17T23:45:14.694829Z"
    },
    "papermill": {
     "duration": 0.050088,
     "end_time": "2021-06-18T05:07:23.754559",
     "exception": false,
     "start_time": "2021-06-18T05:07:23.704471",
     "status": "completed"
    },
    "tags": []
   },
   "outputs": [],
   "source": [
    "labels = df_train['price_range']"
   ]
  },
  {
   "cell_type": "code",
   "execution_count": 14,
   "id": "integrated-impact",
   "metadata": {
    "execution": {
     "iopub.execute_input": "2021-06-18T05:07:23.843785Z",
     "iopub.status.busy": "2021-06-18T05:07:23.842816Z",
     "iopub.status.idle": "2021-06-18T05:07:24.019573Z",
     "shell.execute_reply": "2021-06-18T05:07:24.019024Z",
     "shell.execute_reply.started": "2021-06-17T23:45:16.009542Z"
    },
    "papermill": {
     "duration": 0.222365,
     "end_time": "2021-06-18T05:07:24.019739",
     "exception": false,
     "start_time": "2021-06-18T05:07:23.797374",
     "status": "completed"
    },
    "tags": []
   },
   "outputs": [
    {
     "data": {
      "image/png": "[encoded data removed]",
      "text/plain": [
       "<Figure size 720x360 with 1 Axes>"
      ]
     },
     "metadata": {
      "needs_background": "light"
     },
     "output_type": "display_data"
    }
   ],
   "source": [
    "plt.figure(figsize=(10,5))\n",
    "sns.countplot(data=df_train, x='price_range')\n",
    "plt.title('Price Range distribution across data', fontsize=12)\n",
    "plt.xlabel('Price Range', fontsize=10)\n",
    "plt.ylabel('Frequency', )\n",
    "plt.show()"
   ]
  },
  {
   "cell_type": "code",
   "execution_count": 15,
   "id": "psychological-identifier",
   "metadata": {
    "execution": {
     "iopub.execute_input": "2021-06-18T05:07:24.113440Z",
     "iopub.status.busy": "2021-06-18T05:07:24.112775Z",
     "iopub.status.idle": "2021-06-18T05:07:24.126065Z",
     "shell.execute_reply": "2021-06-18T05:07:24.124813Z",
     "shell.execute_reply.started": "2021-06-17T23:45:16.321669Z"
    },
    "papermill": {
     "duration": 0.062856,
     "end_time": "2021-06-18T05:07:24.126215",
     "exception": false,
     "start_time": "2021-06-18T05:07:24.063359",
     "status": "completed"
    },
    "tags": []
   },
   "outputs": [],
   "source": [
    "corrPear = df_train[num_cols].corr(method='pearson')\n",
    "corrSpea = df_train[num_cols].corr(method='spearman')"
   ]
  },
  {
   "cell_type": "code",
   "execution_count": 16,
   "id": "quantitative-northern",
   "metadata": {
    "execution": {
     "iopub.execute_input": "2021-06-18T05:07:24.261261Z",
     "iopub.status.busy": "2021-06-18T05:07:24.244285Z",
     "iopub.status.idle": "2021-06-18T05:07:25.286552Z",
     "shell.execute_reply": "2021-06-18T05:07:25.287219Z",
     "shell.execute_reply.started": "2021-06-17T23:45:16.612732Z"
    },
    "papermill": {
     "duration": 1.118246,
     "end_time": "2021-06-18T05:07:25.287411",
     "exception": false,
     "start_time": "2021-06-18T05:07:24.169165",
     "status": "completed"
    },
    "tags": []
   },
   "outputs": [
    {
     "data": {
      "image/png": "[encoded data removed]",
      "text/plain": [
       "<Figure size 720x576 with 2 Axes>"
      ]
     },
     "metadata": {
      "needs_background": "light"
     },
     "output_type": "display_data"
    }
   ],
   "source": [
    "plt.figure(figsize=(10,8))\n",
    "sns.heatmap(corrPear, annot=True)\n",
    "plt.xlabel('columns')\n",
    "plt.ylabel('columns')\n",
    "plt.show()"
   ]
  },
  {
   "cell_type": "code",
   "execution_count": 17,
   "id": "upset-surge",
   "metadata": {
    "execution": {
     "iopub.execute_input": "2021-06-18T05:07:25.385065Z",
     "iopub.status.busy": "2021-06-18T05:07:25.384295Z",
     "iopub.status.idle": "2021-06-18T05:07:26.559994Z",
     "shell.execute_reply": "2021-06-18T05:07:26.559276Z",
     "shell.execute_reply.started": "2021-06-17T23:45:17.665473Z"
    },
    "papermill": {
     "duration": 1.225031,
     "end_time": "2021-06-18T05:07:26.560143",
     "exception": false,
     "start_time": "2021-06-18T05:07:25.335112",
     "status": "completed"
    },
    "tags": []
   },
   "outputs": [
    {
     "data": {
      "image/png": "[encoded data removed]",
      "text/plain": [
       "<Figure size 720x576 with 2 Axes>"
      ]
     },
     "metadata": {
      "needs_background": "light"
     },
     "output_type": "display_data"
    }
   ],
   "source": [
    "plt.figure(figsize=(10,8))\n",
    "sns.heatmap(corrSpea, annot=True)\n",
    "plt.xlabel('columns')\n",
    "plt.ylabel('columns')\n",
    "plt.show()"
   ]
  },
  {
   "cell_type": "code",
   "execution_count": 18,
   "id": "headed-employment",
   "metadata": {
    "execution": {
     "iopub.execute_input": "2021-06-18T05:07:26.679007Z",
     "iopub.status.busy": "2021-06-18T05:07:26.676614Z",
     "iopub.status.idle": "2021-06-18T05:07:27.501982Z",
     "shell.execute_reply": "2021-06-18T05:07:27.501449Z",
     "shell.execute_reply.started": "2021-06-17T23:45:18.824089Z"
    },
    "papermill": {
     "duration": 0.891711,
     "end_time": "2021-06-18T05:07:27.502125",
     "exception": false,
     "start_time": "2021-06-18T05:07:26.610414",
     "status": "completed"
    },
    "tags": []
   },
   "outputs": [
    {
     "name": "stderr",
     "output_type": "stream",
     "text": [
      "/opt/conda/lib/python3.7/site-packages/seaborn/distributions.py:2557: FutureWarning: `distplot` is a deprecated function and will be removed in a future version. Please adapt your code to use either `displot` (a figure-level function with similar flexibility) or `histplot` (an axes-level function for histograms).\n",
      "  warnings.warn(msg, FutureWarning)\n",
      "/opt/conda/lib/python3.7/site-packages/seaborn/distributions.py:2557: FutureWarning: `distplot` is a deprecated function and will be removed in a future version. Please adapt your code to use either `displot` (a figure-level function with similar flexibility) or `histplot` (an axes-level function for histograms).\n",
      "  warnings.warn(msg, FutureWarning)\n",
      "/opt/conda/lib/python3.7/site-packages/seaborn/distributions.py:2557: FutureWarning: `distplot` is a deprecated function and will be removed in a future version. Please adapt your code to use either `displot` (a figure-level function with similar flexibility) or `histplot` (an axes-level function for histograms).\n",
      "  warnings.warn(msg, FutureWarning)\n",
      "/opt/conda/lib/python3.7/site-packages/seaborn/distributions.py:2557: FutureWarning: `distplot` is a deprecated function and will be removed in a future version. Please adapt your code to use either `displot` (a figure-level function with similar flexibility) or `histplot` (an axes-level function for histograms).\n",
      "  warnings.warn(msg, FutureWarning)\n"
     ]
    },
    {
     "data": {
      "image/png": "[encoded data removed]",
      "text/plain": [
       "<Figure size 1440x432 with 4 Axes>"
      ]
     },
     "metadata": {
      "needs_background": "light"
     },
     "output_type": "display_data"
    }
   ],
   "source": [
    "f, ax = plt.subplots(1, 4, figsize=(20,6))\n",
    "sns.distplot(df_train['battery_power'], fit=norm, color='#F65151', ax=ax[0])\n",
    "sns.distplot(df_train['clock_speed'], fit=norm, color='#DEF991', ax=ax[1])\n",
    "sns.distplot(df_train['fc'], fit=norm, color='#8ECAF7', ax=ax[2])\n",
    "sns.distplot(df_train['int_memory'], fit=norm, color='#DDA8F1', ax=ax[3])\n",
    "plt.show()"
   ]
  },
  {
   "cell_type": "code",
   "execution_count": 19,
   "id": "recorded-listening",
   "metadata": {
    "execution": {
     "iopub.execute_input": "2021-06-18T05:07:27.609525Z",
     "iopub.status.busy": "2021-06-18T05:07:27.608787Z",
     "iopub.status.idle": "2021-06-18T05:07:28.331619Z",
     "shell.execute_reply": "2021-06-18T05:07:28.330995Z",
     "shell.execute_reply.started": "2021-06-17T23:45:19.651780Z"
    },
    "papermill": {
     "duration": 0.777672,
     "end_time": "2021-06-18T05:07:28.331771",
     "exception": false,
     "start_time": "2021-06-18T05:07:27.554099",
     "status": "completed"
    },
    "tags": []
   },
   "outputs": [
    {
     "name": "stderr",
     "output_type": "stream",
     "text": [
      "/opt/conda/lib/python3.7/site-packages/seaborn/distributions.py:2557: FutureWarning: `distplot` is a deprecated function and will be removed in a future version. Please adapt your code to use either `displot` (a figure-level function with similar flexibility) or `histplot` (an axes-level function for histograms).\n",
      "  warnings.warn(msg, FutureWarning)\n",
      "/opt/conda/lib/python3.7/site-packages/seaborn/distributions.py:2557: FutureWarning: `distplot` is a deprecated function and will be removed in a future version. Please adapt your code to use either `displot` (a figure-level function with similar flexibility) or `histplot` (an axes-level function for histograms).\n",
      "  warnings.warn(msg, FutureWarning)\n",
      "/opt/conda/lib/python3.7/site-packages/seaborn/distributions.py:2557: FutureWarning: `distplot` is a deprecated function and will be removed in a future version. Please adapt your code to use either `displot` (a figure-level function with similar flexibility) or `histplot` (an axes-level function for histograms).\n",
      "  warnings.warn(msg, FutureWarning)\n",
      "/opt/conda/lib/python3.7/site-packages/seaborn/distributions.py:2557: FutureWarning: `distplot` is a deprecated function and will be removed in a future version. Please adapt your code to use either `displot` (a figure-level function with similar flexibility) or `histplot` (an axes-level function for histograms).\n",
      "  warnings.warn(msg, FutureWarning)\n"
     ]
    },
    {
     "data": {
      "image/png": "[encoded data removed]",
      "text/plain": [
       "<Figure size 1440x432 with 4 Axes>"
      ]
     },
     "metadata": {
      "needs_background": "light"
     },
     "output_type": "display_data"
    }
   ],
   "source": [
    "f, ax = plt.subplots(1, 4, figsize=(20,6))\n",
    "sns.distplot(df_train['ram'], fit=norm, color='#F65151', ax=ax[0])\n",
    "sns.distplot(df_train['sc_h'], fit=norm, color='#DEF991', ax=ax[1])\n",
    "sns.distplot(df_train['sc_w'], fit=norm, color='#8ECAF7', ax=ax[2])\n",
    "sns.distplot(df_train['talk_time'], fit=norm, color='#DDA8F1', ax=ax[3])\n",
    "plt.show()"
   ]
  },
  {
   "cell_type": "code",
   "execution_count": 20,
   "id": "found-anaheim",
   "metadata": {
    "execution": {
     "iopub.execute_input": "2021-06-18T05:07:28.449281Z",
     "iopub.status.busy": "2021-06-18T05:07:28.448562Z",
     "iopub.status.idle": "2021-06-18T05:07:28.631971Z",
     "shell.execute_reply": "2021-06-18T05:07:28.632508Z",
     "shell.execute_reply.started": "2021-06-17T23:45:20.373565Z"
    },
    "papermill": {
     "duration": 0.245905,
     "end_time": "2021-06-18T05:07:28.632694",
     "exception": false,
     "start_time": "2021-06-18T05:07:28.386789",
     "status": "completed"
    },
    "tags": []
   },
   "outputs": [
    {
     "data": {
      "image/png": "[encoded data removed]",
      "text/plain": [
       "<Figure size 720x432 with 1 Axes>"
      ]
     },
     "metadata": {
      "needs_background": "light"
     },
     "output_type": "display_data"
    }
   ],
   "source": [
    "plt.figure(figsize=(10,6))\n",
    "sns.boxplot(data=df_train, x='price_range', y='ram')\n",
    "plt.show()"
   ]
  },
  {
   "cell_type": "code",
   "execution_count": 21,
   "id": "featured-polish",
   "metadata": {
    "execution": {
     "iopub.execute_input": "2021-06-18T05:07:28.746161Z",
     "iopub.status.busy": "2021-06-18T05:07:28.745483Z",
     "iopub.status.idle": "2021-06-18T05:07:29.222691Z",
     "shell.execute_reply": "2021-06-18T05:07:29.223181Z",
     "shell.execute_reply.started": "2021-06-17T23:45:20.557717Z"
    },
    "papermill": {
     "duration": 0.535768,
     "end_time": "2021-06-18T05:07:29.223371",
     "exception": false,
     "start_time": "2021-06-18T05:07:28.687603",
     "status": "completed"
    },
    "tags": []
   },
   "outputs": [
    {
     "data": {
      "image/png": "[encoded data removed]",
      "text/plain": [
       "<Figure size 1440x432 with 4 Axes>"
      ]
     },
     "metadata": {
      "needs_background": "light"
     },
     "output_type": "display_data"
    }
   ],
   "source": [
    "f, ax = plt.subplots(1, 4, figsize=(20,6))\n",
    "sns.countplot(data=df_train, x='blue', hue='price_range', ax=ax[0])\n",
    "sns.countplot(data=df_train, x='four_g', ax=ax[1])\n",
    "sns.countplot(data=df_train, x='wifi', ax=ax[2])\n",
    "sns.countplot(data=df_train, x='n_cores', ax=ax[3])\n",
    "plt.show()"
   ]
  },
  {
   "cell_type": "code",
   "execution_count": 22,
   "id": "offshore-rabbit",
   "metadata": {
    "execution": {
     "iopub.execute_input": "2021-06-18T05:07:29.344384Z",
     "iopub.status.busy": "2021-06-18T05:07:29.343627Z",
     "iopub.status.idle": "2021-06-18T05:07:29.347088Z",
     "shell.execute_reply": "2021-06-18T05:07:29.346330Z",
     "shell.execute_reply.started": "2021-06-17T23:45:21.022974Z"
    },
    "papermill": {
     "duration": 0.067265,
     "end_time": "2021-06-18T05:07:29.347262",
     "exception": false,
     "start_time": "2021-06-18T05:07:29.279997",
     "status": "completed"
    },
    "tags": []
   },
   "outputs": [],
   "source": [
    "df_cat = df_train.drop(num_cols+['price_range'], axis=1)\n",
    "df_num = df_train.drop(cat_cols+['price_range'], axis=1)"
   ]
  },
  {
   "cell_type": "code",
   "execution_count": 23,
   "id": "generous-lewis",
   "metadata": {
    "execution": {
     "iopub.execute_input": "2021-06-18T05:07:29.473488Z",
     "iopub.status.busy": "2021-06-18T05:07:29.472143Z",
     "iopub.status.idle": "2021-06-18T05:07:29.498132Z",
     "shell.execute_reply": "2021-06-18T05:07:29.497443Z",
     "shell.execute_reply.started": "2021-06-17T23:45:21.034139Z"
    },
    "papermill": {
     "duration": 0.094134,
     "end_time": "2021-06-18T05:07:29.498272",
     "exception": false,
     "start_time": "2021-06-18T05:07:29.404138",
     "status": "completed"
    },
    "tags": []
   },
   "outputs": [
    {
     "data": {
      "text/html": [
       "<div>\n",
       "<style scoped>\n",
       "    .dataframe tbody tr th:only-of-type {\n",
       "        vertical-align: middle;\n",
       "    }\n",
       "\n",
       "    .dataframe tbody tr th {\n",
       "        vertical-align: top;\n",
       "    }\n",
       "\n",
       "    .dataframe thead th {\n",
       "        text-align: right;\n",
       "    }\n",
       "</style>\n",
       "<table border=\"1\" class=\"dataframe\">\n",
       "  <thead>\n",
       "    <tr style=\"text-align: right;\">\n",
       "      <th></th>\n",
       "      <th>blue_0</th>\n",
       "      <th>blue_1</th>\n",
       "      <th>dual_sim_0</th>\n",
       "      <th>dual_sim_1</th>\n",
       "      <th>four_g_0</th>\n",
       "      <th>four_g_1</th>\n",
       "      <th>n_cores_1</th>\n",
       "      <th>n_cores_2</th>\n",
       "      <th>n_cores_3</th>\n",
       "      <th>n_cores_4</th>\n",
       "      <th>n_cores_5</th>\n",
       "      <th>n_cores_6</th>\n",
       "      <th>n_cores_7</th>\n",
       "      <th>n_cores_8</th>\n",
       "      <th>three_g_0</th>\n",
       "      <th>three_g_1</th>\n",
       "      <th>touch_screen_0</th>\n",
       "      <th>touch_screen_1</th>\n",
       "      <th>wifi_0</th>\n",
       "      <th>wifi_1</th>\n",
       "    </tr>\n",
       "  </thead>\n",
       "  <tbody>\n",
       "    <tr>\n",
       "      <th>0</th>\n",
       "      <td>1</td>\n",
       "      <td>0</td>\n",
       "      <td>1</td>\n",
       "      <td>0</td>\n",
       "      <td>1</td>\n",
       "      <td>0</td>\n",
       "      <td>0</td>\n",
       "      <td>1</td>\n",
       "      <td>0</td>\n",
       "      <td>0</td>\n",
       "      <td>0</td>\n",
       "      <td>0</td>\n",
       "      <td>0</td>\n",
       "      <td>0</td>\n",
       "      <td>1</td>\n",
       "      <td>0</td>\n",
       "      <td>1</td>\n",
       "      <td>0</td>\n",
       "      <td>0</td>\n",
       "      <td>1</td>\n",
       "    </tr>\n",
       "    <tr>\n",
       "      <th>1</th>\n",
       "      <td>0</td>\n",
       "      <td>1</td>\n",
       "      <td>0</td>\n",
       "      <td>1</td>\n",
       "      <td>0</td>\n",
       "      <td>1</td>\n",
       "      <td>0</td>\n",
       "      <td>0</td>\n",
       "      <td>1</td>\n",
       "      <td>0</td>\n",
       "      <td>0</td>\n",
       "      <td>0</td>\n",
       "      <td>0</td>\n",
       "      <td>0</td>\n",
       "      <td>0</td>\n",
       "      <td>1</td>\n",
       "      <td>0</td>\n",
       "      <td>1</td>\n",
       "      <td>1</td>\n",
       "      <td>0</td>\n",
       "    </tr>\n",
       "    <tr>\n",
       "      <th>2</th>\n",
       "      <td>0</td>\n",
       "      <td>1</td>\n",
       "      <td>0</td>\n",
       "      <td>1</td>\n",
       "      <td>0</td>\n",
       "      <td>1</td>\n",
       "      <td>0</td>\n",
       "      <td>0</td>\n",
       "      <td>0</td>\n",
       "      <td>0</td>\n",
       "      <td>1</td>\n",
       "      <td>0</td>\n",
       "      <td>0</td>\n",
       "      <td>0</td>\n",
       "      <td>0</td>\n",
       "      <td>1</td>\n",
       "      <td>0</td>\n",
       "      <td>1</td>\n",
       "      <td>1</td>\n",
       "      <td>0</td>\n",
       "    </tr>\n",
       "    <tr>\n",
       "      <th>3</th>\n",
       "      <td>0</td>\n",
       "      <td>1</td>\n",
       "      <td>1</td>\n",
       "      <td>0</td>\n",
       "      <td>1</td>\n",
       "      <td>0</td>\n",
       "      <td>0</td>\n",
       "      <td>0</td>\n",
       "      <td>0</td>\n",
       "      <td>0</td>\n",
       "      <td>0</td>\n",
       "      <td>1</td>\n",
       "      <td>0</td>\n",
       "      <td>0</td>\n",
       "      <td>0</td>\n",
       "      <td>1</td>\n",
       "      <td>1</td>\n",
       "      <td>0</td>\n",
       "      <td>1</td>\n",
       "      <td>0</td>\n",
       "    </tr>\n",
       "    <tr>\n",
       "      <th>4</th>\n",
       "      <td>0</td>\n",
       "      <td>1</td>\n",
       "      <td>1</td>\n",
       "      <td>0</td>\n",
       "      <td>0</td>\n",
       "      <td>1</td>\n",
       "      <td>0</td>\n",
       "      <td>1</td>\n",
       "      <td>0</td>\n",
       "      <td>0</td>\n",
       "      <td>0</td>\n",
       "      <td>0</td>\n",
       "      <td>0</td>\n",
       "      <td>0</td>\n",
       "      <td>0</td>\n",
       "      <td>1</td>\n",
       "      <td>0</td>\n",
       "      <td>1</td>\n",
       "      <td>1</td>\n",
       "      <td>0</td>\n",
       "    </tr>\n",
       "    <tr>\n",
       "      <th>...</th>\n",
       "      <td>...</td>\n",
       "      <td>...</td>\n",
       "      <td>...</td>\n",
       "      <td>...</td>\n",
       "      <td>...</td>\n",
       "      <td>...</td>\n",
       "      <td>...</td>\n",
       "      <td>...</td>\n",
       "      <td>...</td>\n",
       "      <td>...</td>\n",
       "      <td>...</td>\n",
       "      <td>...</td>\n",
       "      <td>...</td>\n",
       "      <td>...</td>\n",
       "      <td>...</td>\n",
       "      <td>...</td>\n",
       "      <td>...</td>\n",
       "      <td>...</td>\n",
       "      <td>...</td>\n",
       "      <td>...</td>\n",
       "    </tr>\n",
       "    <tr>\n",
       "      <th>1995</th>\n",
       "      <td>0</td>\n",
       "      <td>1</td>\n",
       "      <td>0</td>\n",
       "      <td>1</td>\n",
       "      <td>0</td>\n",
       "      <td>1</td>\n",
       "      <td>0</td>\n",
       "      <td>0</td>\n",
       "      <td>0</td>\n",
       "      <td>0</td>\n",
       "      <td>0</td>\n",
       "      <td>1</td>\n",
       "      <td>0</td>\n",
       "      <td>0</td>\n",
       "      <td>0</td>\n",
       "      <td>1</td>\n",
       "      <td>0</td>\n",
       "      <td>1</td>\n",
       "      <td>1</td>\n",
       "      <td>0</td>\n",
       "    </tr>\n",
       "    <tr>\n",
       "      <th>1996</th>\n",
       "      <td>0</td>\n",
       "      <td>1</td>\n",
       "      <td>0</td>\n",
       "      <td>1</td>\n",
       "      <td>1</td>\n",
       "      <td>0</td>\n",
       "      <td>0</td>\n",
       "      <td>0</td>\n",
       "      <td>0</td>\n",
       "      <td>1</td>\n",
       "      <td>0</td>\n",
       "      <td>0</td>\n",
       "      <td>0</td>\n",
       "      <td>0</td>\n",
       "      <td>0</td>\n",
       "      <td>1</td>\n",
       "      <td>0</td>\n",
       "      <td>1</td>\n",
       "      <td>0</td>\n",
       "      <td>1</td>\n",
       "    </tr>\n",
       "    <tr>\n",
       "      <th>1997</th>\n",
       "      <td>1</td>\n",
       "      <td>0</td>\n",
       "      <td>0</td>\n",
       "      <td>1</td>\n",
       "      <td>0</td>\n",
       "      <td>1</td>\n",
       "      <td>0</td>\n",
       "      <td>0</td>\n",
       "      <td>0</td>\n",
       "      <td>0</td>\n",
       "      <td>0</td>\n",
       "      <td>0</td>\n",
       "      <td>0</td>\n",
       "      <td>1</td>\n",
       "      <td>0</td>\n",
       "      <td>1</td>\n",
       "      <td>0</td>\n",
       "      <td>1</td>\n",
       "      <td>1</td>\n",
       "      <td>0</td>\n",
       "    </tr>\n",
       "    <tr>\n",
       "      <th>1998</th>\n",
       "      <td>1</td>\n",
       "      <td>0</td>\n",
       "      <td>1</td>\n",
       "      <td>0</td>\n",
       "      <td>0</td>\n",
       "      <td>1</td>\n",
       "      <td>0</td>\n",
       "      <td>0</td>\n",
       "      <td>0</td>\n",
       "      <td>0</td>\n",
       "      <td>1</td>\n",
       "      <td>0</td>\n",
       "      <td>0</td>\n",
       "      <td>0</td>\n",
       "      <td>0</td>\n",
       "      <td>1</td>\n",
       "      <td>0</td>\n",
       "      <td>1</td>\n",
       "      <td>0</td>\n",
       "      <td>1</td>\n",
       "    </tr>\n",
       "    <tr>\n",
       "      <th>1999</th>\n",
       "      <td>0</td>\n",
       "      <td>1</td>\n",
       "      <td>0</td>\n",
       "      <td>1</td>\n",
       "      <td>0</td>\n",
       "      <td>1</td>\n",
       "      <td>0</td>\n",
       "      <td>0</td>\n",
       "      <td>0</td>\n",
       "      <td>0</td>\n",
       "      <td>0</td>\n",
       "      <td>1</td>\n",
       "      <td>0</td>\n",
       "      <td>0</td>\n",
       "      <td>0</td>\n",
       "      <td>1</td>\n",
       "      <td>0</td>\n",
       "      <td>1</td>\n",
       "      <td>0</td>\n",
       "      <td>1</td>\n",
       "    </tr>\n",
       "  </tbody>\n",
       "</table>\n",
       "<p>2000 rows × 20 columns</p>\n",
       "</div>"
      ],
      "text/plain": [
       "      blue_0  blue_1  dual_sim_0  dual_sim_1  four_g_0  four_g_1  n_cores_1  \\\n",
       "0          1       0           1           0         1         0          0   \n",
       "1          0       1           0           1         0         1          0   \n",
       "2          0       1           0           1         0         1          0   \n",
       "3          0       1           1           0         1         0          0   \n",
       "4          0       1           1           0         0         1          0   \n",
       "...      ...     ...         ...         ...       ...       ...        ...   \n",
       "1995       0       1           0           1         0         1          0   \n",
       "1996       0       1           0           1         1         0          0   \n",
       "1997       1       0           0           1         0         1          0   \n",
       "1998       1       0           1           0         0         1          0   \n",
       "1999       0       1           0           1         0         1          0   \n",
       "\n",
       "      n_cores_2  n_cores_3  n_cores_4  n_cores_5  n_cores_6  n_cores_7  \\\n",
       "0             1          0          0          0          0          0   \n",
       "1             0          1          0          0          0          0   \n",
       "2             0          0          0          1          0          0   \n",
       "3             0          0          0          0          1          0   \n",
       "4             1          0          0          0          0          0   \n",
       "...         ...        ...        ...        ...        ...        ...   \n",
       "1995          0          0          0          0          1          0   \n",
       "1996          0          0          1          0          0          0   \n",
       "1997          0          0          0          0          0          0   \n",
       "1998          0          0          0          1          0          0   \n",
       "1999          0          0          0          0          1          0   \n",
       "\n",
       "      n_cores_8  three_g_0  three_g_1  touch_screen_0  touch_screen_1  wifi_0  \\\n",
       "0             0          1          0               1               0       0   \n",
       "1             0          0          1               0               1       1   \n",
       "2             0          0          1               0               1       1   \n",
       "3             0          0          1               1               0       1   \n",
       "4             0          0          1               0               1       1   \n",
       "...         ...        ...        ...             ...             ...     ...   \n",
       "1995          0          0          1               0               1       1   \n",
       "1996          0          0          1               0               1       0   \n",
       "1997          1          0          1               0               1       1   \n",
       "1998          0          0          1               0               1       0   \n",
       "1999          0          0          1               0               1       0   \n",
       "\n",
       "      wifi_1  \n",
       "0          1  \n",
       "1          0  \n",
       "2          0  \n",
       "3          0  \n",
       "4          0  \n",
       "...      ...  \n",
       "1995       0  \n",
       "1996       1  \n",
       "1997       0  \n",
       "1998       1  \n",
       "1999       1  \n",
       "\n",
       "[2000 rows x 20 columns]"
      ]
     },
     "execution_count": 23,
     "metadata": {},
     "output_type": "execute_result"
    }
   ],
   "source": [
    "dummy = pd.get_dummies(df_cat)\n",
    "dummy"
   ]
  },
  {
   "cell_type": "code",
   "execution_count": 24,
   "id": "continent-marketing",
   "metadata": {
    "execution": {
     "iopub.execute_input": "2021-06-18T05:07:29.615974Z",
     "iopub.status.busy": "2021-06-18T05:07:29.615011Z",
     "iopub.status.idle": "2021-06-18T05:07:29.942402Z",
     "shell.execute_reply": "2021-06-18T05:07:29.941745Z",
     "shell.execute_reply.started": "2021-06-17T23:45:21.079965Z"
    },
    "papermill": {
     "duration": 0.387619,
     "end_time": "2021-06-18T05:07:29.942541",
     "exception": false,
     "start_time": "2021-06-18T05:07:29.554922",
     "status": "completed"
    },
    "tags": []
   },
   "outputs": [
    {
     "data": {
      "text/plain": [
       "(      battery_power  clock_speed        fc  int_memory     m_dep  mobile_wt  \\\n",
       " 0          0.227789         0.68  0.052632    0.080645  0.555556   0.900000   \n",
       " 1          0.347361         0.00  0.000000    0.822581  0.666667   0.466667   \n",
       " 2          0.041416         0.00  0.105263    0.629032  0.888889   0.541667   \n",
       " 3          0.076152         0.80  0.000000    0.129032  0.777778   0.425000   \n",
       " 4          0.881764         0.28  0.684211    0.677419  0.555556   0.508333   \n",
       " ...             ...          ...       ...         ...       ...        ...   \n",
       " 1995       0.195725         0.00  0.000000    0.000000  0.777778   0.216667   \n",
       " 1996       0.977956         0.84  0.000000    0.596774  0.111111   0.891667   \n",
       " 1997       0.941884         0.16  0.052632    0.548387  0.666667   0.233333   \n",
       " 1998       0.675351         0.16  0.210526    0.709677  0.000000   0.541667   \n",
       " 1999       0.006012         0.60  0.263158    0.693548  0.888889   0.733333   \n",
       " \n",
       "         pc  px_height  px_width       ram      sc_h      sc_w  talk_time  \n",
       " 0     0.10   0.010204  0.170895  0.612774  0.285714  0.388889   0.944444  \n",
       " 1     0.30   0.461735  0.993324  0.634687  0.857143  0.166667   0.277778  \n",
       " 2     0.30   0.644388  0.811749  0.627205  0.428571  0.111111   0.388889  \n",
       " 3     0.45   0.620408  0.858478  0.671566  0.785714  0.444444   0.500000  \n",
       " 4     0.70   0.616327  0.475300  0.308658  0.214286  0.111111   0.722222  \n",
       " ...    ...        ...       ...       ...       ...       ...        ...  \n",
       " 1995  0.70   0.623469  0.927904  0.110102  0.571429  0.222222   0.944444  \n",
       " 1996  0.15   0.466837  0.977971  0.474613  0.428571  0.555556   0.777778  \n",
       " 1997  0.15   0.442857  0.755674  0.748530  0.285714  0.055556   0.166667  \n",
       " 1998  0.25   0.171429  0.113485  0.163816  0.928571  0.555556   0.944444  \n",
       " 1999  0.80   0.246429  0.169559  0.978888  1.000000  0.222222   0.000000  \n",
       " \n",
       " [2000 rows x 13 columns],\n",
       "       battery_power  clock_speed        fc  int_memory     m_dep  mobile_wt  \\\n",
       " 0         -0.902597     0.830779 -0.762495   -1.380644  0.340740   1.349249   \n",
       " 1         -0.495139    -1.253064 -0.992890    1.155024  0.687548  -0.120059   \n",
       " 2         -1.537686    -1.253064 -0.532099    0.493546  1.381165   0.134244   \n",
       " 3         -1.419319     1.198517 -0.992890   -1.215274  1.034357  -0.261339   \n",
       " 4          1.325906    -0.395011  2.002254    0.658915  0.340740   0.021220   \n",
       " ...             ...          ...       ...         ...       ...        ...   \n",
       " 1995      -1.011860    -1.253064 -0.992890   -1.656260  1.034357  -0.967737   \n",
       " 1996       1.653694     1.321096 -0.992890    0.383299 -1.046495   1.320993   \n",
       " 1997       1.530773    -0.762748 -0.762495    0.217930  0.687548  -0.911225   \n",
       " 1998       0.622527    -0.762748 -0.071307    0.769162 -1.393304   0.134244   \n",
       " 1999      -1.658331     0.585621  0.159088    0.714039  1.381165   0.784130   \n",
       " \n",
       "             pc  px_height  px_width       ram      sc_h      sc_w  talk_time  \n",
       " 0    -1.305750  -1.408949 -1.146784  0.391703 -0.784983  0.283103   1.462493  \n",
       " 1    -0.645989   0.585778  1.704465  0.467317  1.114266 -0.635317  -0.734267  \n",
       " 2    -0.645989   1.392684  1.074968  0.441498 -0.310171 -0.864922  -0.368140  \n",
       " 3    -0.151168   1.286750  1.236971  0.594569  0.876859  0.512708  -0.002014  \n",
       " 4     0.673534   1.268718 -0.091452 -0.657666 -1.022389 -0.864922   0.730240  \n",
       " ...        ...        ...       ...       ...       ...       ...        ...  \n",
       " 1995  0.673534   1.300273  1.477661 -1.342799  0.164641 -0.405712   1.462493  \n",
       " 1996 -1.140810   0.608317  1.651235 -0.085031 -0.310171  0.971917   0.913303  \n",
       " 1997 -1.140810   0.502383  0.880565  0.860139 -0.784983 -1.094526  -1.100394  \n",
       " 1998 -0.810929  -0.696707 -1.345816 -1.157454  1.351672  0.971917   1.462493  \n",
       " 1999  1.003414  -0.365380 -1.151413  1.655004  1.589078 -0.405712  -1.649584  \n",
       " \n",
       " [2000 rows x 13 columns])"
      ]
     },
     "execution_count": 24,
     "metadata": {},
     "output_type": "execute_result"
    }
   ],
   "source": [
    "from sklearn.preprocessing import MinMaxScaler, StandardScaler\n",
    "\n",
    "mm_scaler = MinMaxScaler()\n",
    "st_scaler = StandardScaler()\n",
    "df_mmsc = mm_scaler.fit_transform(df_num)\n",
    "df_stsc = st_scaler.fit_transform(df_num)\n",
    "df_mmsc = pd.DataFrame(df_mmsc, columns=df_num.columns)\n",
    "df_stsc = pd.DataFrame(df_stsc, columns=df_num.columns)\n",
    "df_mmsc, df_stsc"
   ]
  },
  {
   "cell_type": "code",
   "execution_count": 25,
   "id": "dirty-modern",
   "metadata": {
    "execution": {
     "iopub.execute_input": "2021-06-18T05:07:30.075029Z",
     "iopub.status.busy": "2021-06-18T05:07:30.074097Z",
     "iopub.status.idle": "2021-06-18T05:07:30.078150Z",
     "shell.execute_reply": "2021-06-18T05:07:30.077596Z",
     "shell.execute_reply.started": "2021-06-17T23:45:21.252769Z"
    },
    "papermill": {
     "duration": 0.077762,
     "end_time": "2021-06-18T05:07:30.078287",
     "exception": false,
     "start_time": "2021-06-18T05:07:30.000525",
     "status": "completed"
    },
    "tags": []
   },
   "outputs": [],
   "source": [
    "df_mmsc_comp = pd.concat([df_mmsc, dummy], axis=1)\n",
    "df_stsc_comp = pd.concat([df_stsc, dummy], axis=1)"
   ]
  },
  {
   "cell_type": "code",
   "execution_count": 26,
   "id": "senior-explorer",
   "metadata": {
    "execution": {
     "iopub.execute_input": "2021-06-18T05:07:30.196735Z",
     "iopub.status.busy": "2021-06-18T05:07:30.196071Z",
     "iopub.status.idle": "2021-06-18T05:07:30.280644Z",
     "shell.execute_reply": "2021-06-18T05:07:30.280080Z",
     "shell.execute_reply.started": "2021-06-17T23:45:21.261212Z"
    },
    "papermill": {
     "duration": 0.145001,
     "end_time": "2021-06-18T05:07:30.280806",
     "exception": false,
     "start_time": "2021-06-18T05:07:30.135805",
     "status": "completed"
    },
    "tags": []
   },
   "outputs": [],
   "source": [
    "from sklearn.model_selection import train_test_split\n",
    "\n",
    "X_train, X_test, y_train, y_test = train_test_split(df_mmsc_comp, labels, test_size=0.2, shuffle=True, random_state=42)\n",
    "X_train2, X_test2, y_train2, y_test2 = train_test_split(df_stsc_comp, labels, test_size=0.2, shuffle=True, random_state=42)\n",
    "\n",
    "X_train, X_val, y_train, y_val = train_test_split(X_train, y_train, test_size=0.1, shuffle=True, random_state=42)\n",
    "X_train2, X_val2, y_train2, y_val2 = train_test_split(X_train2, y_train2, test_size=0.1, shuffle=True, random_state=42)"
   ]
  },
  {
   "cell_type": "code",
   "execution_count": 27,
   "id": "scheduled-permission",
   "metadata": {
    "execution": {
     "iopub.execute_input": "2021-06-18T05:07:30.407126Z",
     "iopub.status.busy": "2021-06-18T05:07:30.406434Z",
     "iopub.status.idle": "2021-06-18T05:07:31.925429Z",
     "shell.execute_reply": "2021-06-18T05:07:31.924847Z",
     "shell.execute_reply.started": "2021-06-18T02:04:42.285991Z"
    },
    "papermill": {
     "duration": 1.580451,
     "end_time": "2021-06-18T05:07:31.925570",
     "exception": false,
     "start_time": "2021-06-18T05:07:30.345119",
     "status": "completed"
    },
    "tags": []
   },
   "outputs": [
    {
     "data": {
      "text/html": [
       "<style type='text/css'>\n",
       ".datatable table.frame { margin-bottom: 0; }\n",
       ".datatable table.frame thead { border-bottom: none; }\n",
       ".datatable table.frame tr.coltypes td {  color: #FFFFFF;  line-height: 6px;  padding: 0 0.5em;}\n",
       ".datatable .bool    { background: #DDDD99; }\n",
       ".datatable .object  { background: #565656; }\n",
       ".datatable .int     { background: #5D9E5D; }\n",
       ".datatable .float   { background: #4040CC; }\n",
       ".datatable .str     { background: #CC4040; }\n",
       ".datatable .row_index {  background: var(--jp-border-color3);  border-right: 1px solid var(--jp-border-color0);  color: var(--jp-ui-font-color3);  font-size: 9px;}\n",
       ".datatable .frame tr.coltypes .row_index {  background: var(--jp-border-color0);}\n",
       ".datatable th:nth-child(2) { padding-left: 12px; }\n",
       ".datatable .hellipsis {  color: var(--jp-cell-editor-border-color);}\n",
       ".datatable .vellipsis {  background: var(--jp-layout-color0);  color: var(--jp-cell-editor-border-color);}\n",
       ".datatable .na {  color: var(--jp-cell-editor-border-color);  font-size: 80%;}\n",
       ".datatable .footer { font-size: 9px; }\n",
       ".datatable .frame_dimensions {  background: var(--jp-border-color3);  border-top: 1px solid var(--jp-border-color0);  color: var(--jp-ui-font-color3);  display: inline-block;  opacity: 0.6;  padding: 1px 10px 1px 5px;}\n",
       "</style>\n"
      ],
      "text/plain": [
       "<IPython.core.display.HTML object>"
      ]
     },
     "metadata": {},
     "output_type": "display_data"
    }
   ],
   "source": [
    "import sklearn\n",
    "from sklearn.model_selection import KFold, StratifiedKFold, cross_validate, cross_val_score\n",
    "from sklearn.model_selection import GridSearchCV, RandomizedSearchCV\n",
    "from sklearn.metrics import confusion_matrix, accuracy_score, precision_score\n",
    "from sklearn.metrics import recall_score, f1_score, roc_auc_score\n",
    "from sklearn.metrics import classification_report\n",
    "\n",
    "from sklearn import tree\n",
    "from catboost import CatBoostClassifier\n",
    "from sklearn.neighbors import KNeighborsClassifier\n",
    "from sklearn.ensemble import RandomForestClassifier, GradientBoostingClassifier\n",
    "from sklearn.naive_bayes import GaussianNB\n",
    "from lightgbm import LGBMClassifier\n",
    "from xgboost import XGBClassifier"
   ]
  },
  {
   "cell_type": "code",
   "execution_count": 28,
   "id": "canadian-welding",
   "metadata": {
    "execution": {
     "iopub.execute_input": "2021-06-18T05:07:32.051169Z",
     "iopub.status.busy": "2021-06-18T05:07:32.050502Z",
     "iopub.status.idle": "2021-06-18T05:07:32.054045Z",
     "shell.execute_reply": "2021-06-18T05:07:32.053491Z",
     "shell.execute_reply.started": "2021-06-17T23:45:22.998847Z"
    },
    "papermill": {
     "duration": 0.070652,
     "end_time": "2021-06-18T05:07:32.054187",
     "exception": false,
     "start_time": "2021-06-18T05:07:31.983535",
     "status": "completed"
    },
    "tags": []
   },
   "outputs": [],
   "source": [
    "catbst = CatBoostClassifier(random_state=42)\n",
    "knc = KNeighborsClassifier()\n",
    "rf = RandomForestClassifier(random_state=42)\n",
    "gb = GradientBoostingClassifier(random_state=42)\n",
    "gnb = GaussianNB()\n",
    "lgbm = LGBMClassifier(random_state=42)\n",
    "xgb = XGBClassifier(random_state=42)"
   ]
  },
  {
   "cell_type": "code",
   "execution_count": 29,
   "id": "verified-arthur",
   "metadata": {
    "execution": {
     "iopub.execute_input": "2021-06-18T05:07:32.173742Z",
     "iopub.status.busy": "2021-06-18T05:07:32.173110Z",
     "iopub.status.idle": "2021-06-18T05:07:32.581524Z",
     "shell.execute_reply": "2021-06-18T05:07:32.582583Z",
     "shell.execute_reply.started": "2021-06-17T23:45:23.012016Z"
    },
    "papermill": {
     "duration": 0.470397,
     "end_time": "2021-06-18T05:07:32.582792",
     "exception": false,
     "start_time": "2021-06-18T05:07:32.112395",
     "status": "completed"
    },
    "tags": []
   },
   "outputs": [
    {
     "name": "stdout",
     "output_type": "stream",
     "text": [
      "              precision    recall  f1-score   support\n",
      "\n",
      "           0       0.91      0.91      0.91        47\n",
      "           1       0.77      0.79      0.78        29\n",
      "           2       0.83      0.72      0.77        40\n",
      "           3       0.83      0.91      0.87        44\n",
      "\n",
      "    accuracy                           0.84       160\n",
      "   macro avg       0.84      0.84      0.83       160\n",
      "weighted avg       0.84      0.84      0.84       160\n",
      "\n"
     ]
    }
   ],
   "source": [
    "rf_model = rf.fit(X_train, y_train)\n",
    "pred = rf_model.predict(X_val)\n",
    "\n",
    "print(classification_report(y_val, pred))"
   ]
  },
  {
   "cell_type": "code",
   "execution_count": 30,
   "id": "narrow-boards",
   "metadata": {
    "execution": {
     "iopub.execute_input": "2021-06-18T05:07:32.709109Z",
     "iopub.status.busy": "2021-06-18T05:07:32.708157Z",
     "iopub.status.idle": "2021-06-18T05:07:33.114080Z",
     "shell.execute_reply": "2021-06-18T05:07:33.113362Z",
     "shell.execute_reply.started": "2021-06-17T23:45:23.410845Z"
    },
    "papermill": {
     "duration": 0.472639,
     "end_time": "2021-06-18T05:07:33.114225",
     "exception": false,
     "start_time": "2021-06-18T05:07:32.641586",
     "status": "completed"
    },
    "tags": []
   },
   "outputs": [
    {
     "name": "stdout",
     "output_type": "stream",
     "text": [
      "              precision    recall  f1-score   support\n",
      "\n",
      "           0       0.94      0.96      0.95       105\n",
      "           1       0.86      0.81      0.84        91\n",
      "           2       0.74      0.82      0.78        92\n",
      "           3       0.92      0.87      0.89       112\n",
      "\n",
      "    accuracy                           0.87       400\n",
      "   macro avg       0.87      0.86      0.86       400\n",
      "weighted avg       0.87      0.87      0.87       400\n",
      "\n"
     ]
    }
   ],
   "source": [
    "rf_model = rf.fit(X_train2, y_train2)\n",
    "pred = rf_model.predict(X_test2)\n",
    "\n",
    "print(classification_report(y_test2, pred))"
   ]
  },
  {
   "cell_type": "code",
   "execution_count": 31,
   "id": "undefined-collar",
   "metadata": {
    "execution": {
     "iopub.execute_input": "2021-06-18T05:07:33.245440Z",
     "iopub.status.busy": "2021-06-18T05:07:33.244410Z",
     "iopub.status.idle": "2021-06-18T05:07:35.350844Z",
     "shell.execute_reply": "2021-06-18T05:07:35.351588Z",
     "shell.execute_reply.started": "2021-06-17T23:45:25.690281Z"
    },
    "papermill": {
     "duration": 2.17621,
     "end_time": "2021-06-18T05:07:35.351812",
     "exception": false,
     "start_time": "2021-06-18T05:07:33.175602",
     "status": "completed"
    },
    "tags": []
   },
   "outputs": [
    {
     "name": "stdout",
     "output_type": "stream",
     "text": [
      "              precision    recall  f1-score   support\n",
      "\n",
      "           0       0.92      0.98      0.95        47\n",
      "           1       0.88      0.79      0.84        29\n",
      "           2       0.85      0.82      0.84        40\n",
      "           3       0.89      0.91      0.90        44\n",
      "\n",
      "    accuracy                           0.89       160\n",
      "   macro avg       0.88      0.88      0.88       160\n",
      "weighted avg       0.89      0.89      0.89       160\n",
      "\n"
     ]
    }
   ],
   "source": [
    "gb_model = gb.fit(X_train, y_train)\n",
    "pred = gb_model.predict(X_val)\n",
    "\n",
    "print(classification_report(y_val, pred))"
   ]
  },
  {
   "cell_type": "code",
   "execution_count": 32,
   "id": "possible-necessity",
   "metadata": {
    "execution": {
     "iopub.execute_input": "2021-06-18T05:07:35.476521Z",
     "iopub.status.busy": "2021-06-18T05:07:35.475532Z",
     "iopub.status.idle": "2021-06-18T05:07:36.115955Z",
     "shell.execute_reply": "2021-06-18T05:07:36.116767Z",
     "shell.execute_reply.started": "2021-06-18T05:06:08.575071Z"
    },
    "papermill": {
     "duration": 0.705744,
     "end_time": "2021-06-18T05:07:36.117082",
     "exception": false,
     "start_time": "2021-06-18T05:07:35.411338",
     "status": "completed"
    },
    "tags": []
   },
   "outputs": [
    {
     "name": "stdout",
     "output_type": "stream",
     "text": [
      "[05:07:35] WARNING: ../src/learner.cc:1095: Starting in XGBoost 1.3.0, the default evaluation metric used with the objective 'multi:softprob' was changed from 'merror' to 'mlogloss'. Explicitly set eval_metric if you'd like to restore the old behavior.\n"
     ]
    },
    {
     "name": "stderr",
     "output_type": "stream",
     "text": [
      "/opt/conda/lib/python3.7/site-packages/xgboost/sklearn.py:1146: UserWarning: The use of label encoder in XGBClassifier is deprecated and will be removed in a future release. To remove this warning, do the following: 1) Pass option use_label_encoder=False when constructing XGBClassifier object; and 2) Encode your labels (y) as integers starting with 0, i.e. 0, 1, 2, ..., [num_class - 1].\n",
      "  warnings.warn(label_encoder_deprecation_msg, UserWarning)\n"
     ]
    },
    {
     "name": "stdout",
     "output_type": "stream",
     "text": [
      "              precision    recall  f1-score   support\n",
      "\n",
      "           0       0.96      0.94      0.95       105\n",
      "           1       0.86      0.95      0.90        91\n",
      "           2       0.86      0.85      0.85        92\n",
      "           3       0.94      0.89      0.92       112\n",
      "\n",
      "    accuracy                           0.91       400\n",
      "   macro avg       0.91      0.91      0.91       400\n",
      "weighted avg       0.91      0.91      0.91       400\n",
      "\n",
      "0.9055842115466235\n"
     ]
    },
    {
     "name": "stderr",
     "output_type": "stream",
     "text": [
      "/opt/conda/lib/python3.7/site-packages/xgboost/data.py:114: UserWarning: Use subset (sliced data) of np.ndarray is not recommended because it will generate extra copies and increase memory consumption\n",
      "  \"because it will generate extra copies and increase \" +\n"
     ]
    }
   ],
   "source": [
    "xgb_model = xgb.fit(X_train2, y_train2)\n",
    "pred = xgb_model.predict(X_test2)\n",
    "\n",
    "print(classification_report(y_test2, pred))\n",
    "print(f1_score(y_test2, pred, average='macro'))"
   ]
  },
  {
   "cell_type": "code",
   "execution_count": 33,
   "id": "roman-answer",
   "metadata": {
    "execution": {
     "iopub.execute_input": "2021-06-18T05:07:36.243441Z",
     "iopub.status.busy": "2021-06-18T05:07:36.242812Z",
     "iopub.status.idle": "2021-06-18T05:07:36.737771Z",
     "shell.execute_reply": "2021-06-18T05:07:36.738377Z",
     "shell.execute_reply.started": "2021-06-17T23:45:31.771396Z"
    },
    "papermill": {
     "duration": 0.559516,
     "end_time": "2021-06-18T05:07:36.738577",
     "exception": false,
     "start_time": "2021-06-18T05:07:36.179061",
     "status": "completed"
    },
    "tags": []
   },
   "outputs": [
    {
     "name": "stdout",
     "output_type": "stream",
     "text": [
      "              precision    recall  f1-score   support\n",
      "\n",
      "           0       0.96      0.96      0.96        47\n",
      "           1       0.84      0.90      0.87        29\n",
      "           2       0.85      0.82      0.84        40\n",
      "           3       0.91      0.89      0.90        44\n",
      "\n",
      "    accuracy                           0.89       160\n",
      "   macro avg       0.89      0.89      0.89       160\n",
      "weighted avg       0.89      0.89      0.89       160\n",
      "\n"
     ]
    }
   ],
   "source": [
    "lgbm_model = lgbm.fit(X_train, y_train)\n",
    "pred = lgbm_model.predict(X_val)\n",
    "\n",
    "print(classification_report(y_val, pred))"
   ]
  },
  {
   "cell_type": "code",
   "execution_count": 34,
   "id": "honest-baptist",
   "metadata": {
    "execution": {
     "iopub.execute_input": "2021-06-18T05:07:36.867263Z",
     "iopub.status.busy": "2021-06-18T05:07:36.866356Z",
     "iopub.status.idle": "2021-06-18T05:07:36.885963Z",
     "shell.execute_reply": "2021-06-18T05:07:36.886561Z",
     "shell.execute_reply.started": "2021-06-17T23:45:32.251883Z"
    },
    "papermill": {
     "duration": 0.086106,
     "end_time": "2021-06-18T05:07:36.886768",
     "exception": false,
     "start_time": "2021-06-18T05:07:36.800662",
     "status": "completed"
    },
    "tags": []
   },
   "outputs": [
    {
     "name": "stdout",
     "output_type": "stream",
     "text": [
      "              precision    recall  f1-score   support\n",
      "\n",
      "           0       0.00      0.00      0.00       105\n",
      "           1       0.00      0.00      0.00        91\n",
      "           2       0.11      0.26      0.15        92\n",
      "           3       0.62      1.00      0.77       112\n",
      "\n",
      "    accuracy                           0.34       400\n",
      "   macro avg       0.18      0.32      0.23       400\n",
      "weighted avg       0.20      0.34      0.25       400\n",
      "\n"
     ]
    },
    {
     "name": "stderr",
     "output_type": "stream",
     "text": [
      "/opt/conda/lib/python3.7/site-packages/xgboost/data.py:114: UserWarning: Use subset (sliced data) of np.ndarray is not recommended because it will generate extra copies and increase memory consumption\n",
      "  \"because it will generate extra copies and increase \" +\n",
      "/opt/conda/lib/python3.7/site-packages/sklearn/metrics/_classification.py:1245: UndefinedMetricWarning: Precision and F-score are ill-defined and being set to 0.0 in labels with no predicted samples. Use `zero_division` parameter to control this behavior.\n",
      "  _warn_prf(average, modifier, msg_start, len(result))\n",
      "/opt/conda/lib/python3.7/site-packages/sklearn/metrics/_classification.py:1245: UndefinedMetricWarning: Precision and F-score are ill-defined and being set to 0.0 in labels with no predicted samples. Use `zero_division` parameter to control this behavior.\n",
      "  _warn_prf(average, modifier, msg_start, len(result))\n",
      "/opt/conda/lib/python3.7/site-packages/sklearn/metrics/_classification.py:1245: UndefinedMetricWarning: Precision and F-score are ill-defined and being set to 0.0 in labels with no predicted samples. Use `zero_division` parameter to control this behavior.\n",
      "  _warn_prf(average, modifier, msg_start, len(result))\n"
     ]
    }
   ],
   "source": [
    "pred = xgb_model.predict(X_test)\n",
    "print(classification_report(y_test, pred))"
   ]
  },
  {
   "cell_type": "code",
   "execution_count": 35,
   "id": "theoretical-regulation",
   "metadata": {
    "execution": {
     "iopub.execute_input": "2021-06-18T05:07:37.011512Z",
     "iopub.status.busy": "2021-06-18T05:07:37.010824Z",
     "iopub.status.idle": "2021-06-18T05:07:37.017804Z",
     "shell.execute_reply": "2021-06-18T05:07:37.017209Z",
     "shell.execute_reply.started": "2021-06-17T23:45:34.787640Z"
    },
    "papermill": {
     "duration": 0.070478,
     "end_time": "2021-06-18T05:07:37.017962",
     "exception": false,
     "start_time": "2021-06-18T05:07:36.947484",
     "status": "completed"
    },
    "tags": []
   },
   "outputs": [],
   "source": [
    "df_test.drop('id', axis=1, inplace=True)"
   ]
  },
  {
   "cell_type": "code",
   "execution_count": 36,
   "id": "finnish-twist",
   "metadata": {
    "execution": {
     "iopub.execute_input": "2021-06-18T05:07:37.159997Z",
     "iopub.status.busy": "2021-06-18T05:07:37.151190Z",
     "iopub.status.idle": "2021-06-18T05:07:37.164184Z",
     "shell.execute_reply": "2021-06-18T05:07:37.164728Z",
     "shell.execute_reply.started": "2021-06-17T23:45:35.337039Z"
    },
    "papermill": {
     "duration": 0.085321,
     "end_time": "2021-06-18T05:07:37.164907",
     "exception": false,
     "start_time": "2021-06-18T05:07:37.079586",
     "status": "completed"
    },
    "tags": []
   },
   "outputs": [
    {
     "data": {
      "text/html": [
       "<div>\n",
       "<style scoped>\n",
       "    .dataframe tbody tr th:only-of-type {\n",
       "        vertical-align: middle;\n",
       "    }\n",
       "\n",
       "    .dataframe tbody tr th {\n",
       "        vertical-align: top;\n",
       "    }\n",
       "\n",
       "    .dataframe thead th {\n",
       "        text-align: right;\n",
       "    }\n",
       "</style>\n",
       "<table border=\"1\" class=\"dataframe\">\n",
       "  <thead>\n",
       "    <tr style=\"text-align: right;\">\n",
       "      <th></th>\n",
       "      <th>battery_power</th>\n",
       "      <th>blue</th>\n",
       "      <th>clock_speed</th>\n",
       "      <th>dual_sim</th>\n",
       "      <th>fc</th>\n",
       "      <th>four_g</th>\n",
       "      <th>int_memory</th>\n",
       "      <th>m_dep</th>\n",
       "      <th>mobile_wt</th>\n",
       "      <th>n_cores</th>\n",
       "      <th>pc</th>\n",
       "      <th>px_height</th>\n",
       "      <th>px_width</th>\n",
       "      <th>ram</th>\n",
       "      <th>sc_h</th>\n",
       "      <th>sc_w</th>\n",
       "      <th>talk_time</th>\n",
       "      <th>three_g</th>\n",
       "      <th>touch_screen</th>\n",
       "      <th>wifi</th>\n",
       "    </tr>\n",
       "  </thead>\n",
       "  <tbody>\n",
       "    <tr>\n",
       "      <th>0</th>\n",
       "      <td>1043</td>\n",
       "      <td>1</td>\n",
       "      <td>1.8</td>\n",
       "      <td>1</td>\n",
       "      <td>14</td>\n",
       "      <td>0</td>\n",
       "      <td>5</td>\n",
       "      <td>0.1</td>\n",
       "      <td>193</td>\n",
       "      <td>3</td>\n",
       "      <td>16</td>\n",
       "      <td>226</td>\n",
       "      <td>1412</td>\n",
       "      <td>3476</td>\n",
       "      <td>12</td>\n",
       "      <td>7</td>\n",
       "      <td>2</td>\n",
       "      <td>0</td>\n",
       "      <td>1</td>\n",
       "      <td>0</td>\n",
       "    </tr>\n",
       "    <tr>\n",
       "      <th>1</th>\n",
       "      <td>841</td>\n",
       "      <td>1</td>\n",
       "      <td>0.5</td>\n",
       "      <td>1</td>\n",
       "      <td>4</td>\n",
       "      <td>1</td>\n",
       "      <td>61</td>\n",
       "      <td>0.8</td>\n",
       "      <td>191</td>\n",
       "      <td>5</td>\n",
       "      <td>12</td>\n",
       "      <td>746</td>\n",
       "      <td>857</td>\n",
       "      <td>3895</td>\n",
       "      <td>6</td>\n",
       "      <td>0</td>\n",
       "      <td>7</td>\n",
       "      <td>1</td>\n",
       "      <td>0</td>\n",
       "      <td>0</td>\n",
       "    </tr>\n",
       "    <tr>\n",
       "      <th>2</th>\n",
       "      <td>1807</td>\n",
       "      <td>1</td>\n",
       "      <td>2.8</td>\n",
       "      <td>0</td>\n",
       "      <td>1</td>\n",
       "      <td>0</td>\n",
       "      <td>27</td>\n",
       "      <td>0.9</td>\n",
       "      <td>186</td>\n",
       "      <td>3</td>\n",
       "      <td>4</td>\n",
       "      <td>1270</td>\n",
       "      <td>1366</td>\n",
       "      <td>2396</td>\n",
       "      <td>17</td>\n",
       "      <td>10</td>\n",
       "      <td>10</td>\n",
       "      <td>0</td>\n",
       "      <td>1</td>\n",
       "      <td>1</td>\n",
       "    </tr>\n",
       "    <tr>\n",
       "      <th>3</th>\n",
       "      <td>1546</td>\n",
       "      <td>0</td>\n",
       "      <td>0.5</td>\n",
       "      <td>1</td>\n",
       "      <td>18</td>\n",
       "      <td>1</td>\n",
       "      <td>25</td>\n",
       "      <td>0.5</td>\n",
       "      <td>96</td>\n",
       "      <td>8</td>\n",
       "      <td>20</td>\n",
       "      <td>295</td>\n",
       "      <td>1752</td>\n",
       "      <td>3893</td>\n",
       "      <td>10</td>\n",
       "      <td>0</td>\n",
       "      <td>7</td>\n",
       "      <td>1</td>\n",
       "      <td>1</td>\n",
       "      <td>0</td>\n",
       "    </tr>\n",
       "    <tr>\n",
       "      <th>4</th>\n",
       "      <td>1434</td>\n",
       "      <td>0</td>\n",
       "      <td>1.4</td>\n",
       "      <td>0</td>\n",
       "      <td>11</td>\n",
       "      <td>1</td>\n",
       "      <td>49</td>\n",
       "      <td>0.5</td>\n",
       "      <td>108</td>\n",
       "      <td>6</td>\n",
       "      <td>18</td>\n",
       "      <td>749</td>\n",
       "      <td>810</td>\n",
       "      <td>1773</td>\n",
       "      <td>15</td>\n",
       "      <td>8</td>\n",
       "      <td>7</td>\n",
       "      <td>1</td>\n",
       "      <td>0</td>\n",
       "      <td>1</td>\n",
       "    </tr>\n",
       "  </tbody>\n",
       "</table>\n",
       "</div>"
      ],
      "text/plain": [
       "   battery_power  blue  clock_speed  dual_sim  fc  four_g  int_memory  m_dep  \\\n",
       "0           1043     1          1.8         1  14       0           5    0.1   \n",
       "1            841     1          0.5         1   4       1          61    0.8   \n",
       "2           1807     1          2.8         0   1       0          27    0.9   \n",
       "3           1546     0          0.5         1  18       1          25    0.5   \n",
       "4           1434     0          1.4         0  11       1          49    0.5   \n",
       "\n",
       "   mobile_wt  n_cores  pc  px_height  px_width   ram  sc_h  sc_w  talk_time  \\\n",
       "0        193        3  16        226      1412  3476    12     7          2   \n",
       "1        191        5  12        746       857  3895     6     0          7   \n",
       "2        186        3   4       1270      1366  2396    17    10         10   \n",
       "3         96        8  20        295      1752  3893    10     0          7   \n",
       "4        108        6  18        749       810  1773    15     8          7   \n",
       "\n",
       "   three_g  touch_screen  wifi  \n",
       "0        0             1     0  \n",
       "1        1             0     0  \n",
       "2        0             1     1  \n",
       "3        1             1     0  \n",
       "4        1             0     1  "
      ]
     },
     "execution_count": 36,
     "metadata": {},
     "output_type": "execute_result"
    }
   ],
   "source": [
    "df_test.head()"
   ]
  },
  {
   "cell_type": "code",
   "execution_count": 37,
   "id": "harmful-lucas",
   "metadata": {
    "execution": {
     "iopub.execute_input": "2021-06-18T05:07:37.299102Z",
     "iopub.status.busy": "2021-06-18T05:07:37.296685Z",
     "iopub.status.idle": "2021-06-18T05:07:37.304246Z",
     "shell.execute_reply": "2021-06-18T05:07:37.304736Z",
     "shell.execute_reply.started": "2021-06-17T23:45:36.248479Z"
    },
    "papermill": {
     "duration": 0.078405,
     "end_time": "2021-06-18T05:07:37.304940",
     "exception": false,
     "start_time": "2021-06-18T05:07:37.226535",
     "status": "completed"
    },
    "tags": []
   },
   "outputs": [],
   "source": [
    "df_test[cat_cols] = df_test[cat_cols].astype('category')"
   ]
  },
  {
   "cell_type": "code",
   "execution_count": 38,
   "id": "adjustable-consequence",
   "metadata": {
    "execution": {
     "iopub.execute_input": "2021-06-18T05:07:37.438304Z",
     "iopub.status.busy": "2021-06-18T05:07:37.437560Z",
     "iopub.status.idle": "2021-06-18T05:07:37.441010Z",
     "shell.execute_reply": "2021-06-18T05:07:37.440476Z",
     "shell.execute_reply.started": "2021-06-17T23:45:36.874543Z"
    },
    "papermill": {
     "duration": 0.073067,
     "end_time": "2021-06-18T05:07:37.441155",
     "exception": false,
     "start_time": "2021-06-18T05:07:37.368088",
     "status": "completed"
    },
    "tags": []
   },
   "outputs": [],
   "source": [
    "test_cat = df_test[cat_cols]\n",
    "test_num = df_test.drop(cat_cols, axis=1)"
   ]
  },
  {
   "cell_type": "code",
   "execution_count": 39,
   "id": "electoral-going",
   "metadata": {
    "execution": {
     "iopub.execute_input": "2021-06-18T05:07:37.576976Z",
     "iopub.status.busy": "2021-06-18T05:07:37.576101Z",
     "iopub.status.idle": "2021-06-18T05:07:37.600359Z",
     "shell.execute_reply": "2021-06-18T05:07:37.599734Z",
     "shell.execute_reply.started": "2021-06-17T23:45:37.920201Z"
    },
    "papermill": {
     "duration": 0.097213,
     "end_time": "2021-06-18T05:07:37.600496",
     "exception": false,
     "start_time": "2021-06-18T05:07:37.503283",
     "status": "completed"
    },
    "tags": []
   },
   "outputs": [
    {
     "data": {
      "text/html": [
       "<div>\n",
       "<style scoped>\n",
       "    .dataframe tbody tr th:only-of-type {\n",
       "        vertical-align: middle;\n",
       "    }\n",
       "\n",
       "    .dataframe tbody tr th {\n",
       "        vertical-align: top;\n",
       "    }\n",
       "\n",
       "    .dataframe thead th {\n",
       "        text-align: right;\n",
       "    }\n",
       "</style>\n",
       "<table border=\"1\" class=\"dataframe\">\n",
       "  <thead>\n",
       "    <tr style=\"text-align: right;\">\n",
       "      <th></th>\n",
       "      <th>blue_0</th>\n",
       "      <th>blue_1</th>\n",
       "      <th>dual_sim_0</th>\n",
       "      <th>dual_sim_1</th>\n",
       "      <th>four_g_0</th>\n",
       "      <th>four_g_1</th>\n",
       "      <th>n_cores_1</th>\n",
       "      <th>n_cores_2</th>\n",
       "      <th>n_cores_3</th>\n",
       "      <th>n_cores_4</th>\n",
       "      <th>n_cores_5</th>\n",
       "      <th>n_cores_6</th>\n",
       "      <th>n_cores_7</th>\n",
       "      <th>n_cores_8</th>\n",
       "      <th>three_g_0</th>\n",
       "      <th>three_g_1</th>\n",
       "      <th>touch_screen_0</th>\n",
       "      <th>touch_screen_1</th>\n",
       "      <th>wifi_0</th>\n",
       "      <th>wifi_1</th>\n",
       "    </tr>\n",
       "  </thead>\n",
       "  <tbody>\n",
       "    <tr>\n",
       "      <th>0</th>\n",
       "      <td>0</td>\n",
       "      <td>1</td>\n",
       "      <td>0</td>\n",
       "      <td>1</td>\n",
       "      <td>1</td>\n",
       "      <td>0</td>\n",
       "      <td>0</td>\n",
       "      <td>0</td>\n",
       "      <td>1</td>\n",
       "      <td>0</td>\n",
       "      <td>0</td>\n",
       "      <td>0</td>\n",
       "      <td>0</td>\n",
       "      <td>0</td>\n",
       "      <td>1</td>\n",
       "      <td>0</td>\n",
       "      <td>0</td>\n",
       "      <td>1</td>\n",
       "      <td>1</td>\n",
       "      <td>0</td>\n",
       "    </tr>\n",
       "    <tr>\n",
       "      <th>1</th>\n",
       "      <td>0</td>\n",
       "      <td>1</td>\n",
       "      <td>0</td>\n",
       "      <td>1</td>\n",
       "      <td>0</td>\n",
       "      <td>1</td>\n",
       "      <td>0</td>\n",
       "      <td>0</td>\n",
       "      <td>0</td>\n",
       "      <td>0</td>\n",
       "      <td>1</td>\n",
       "      <td>0</td>\n",
       "      <td>0</td>\n",
       "      <td>0</td>\n",
       "      <td>0</td>\n",
       "      <td>1</td>\n",
       "      <td>1</td>\n",
       "      <td>0</td>\n",
       "      <td>1</td>\n",
       "      <td>0</td>\n",
       "    </tr>\n",
       "    <tr>\n",
       "      <th>2</th>\n",
       "      <td>0</td>\n",
       "      <td>1</td>\n",
       "      <td>1</td>\n",
       "      <td>0</td>\n",
       "      <td>1</td>\n",
       "      <td>0</td>\n",
       "      <td>0</td>\n",
       "      <td>0</td>\n",
       "      <td>1</td>\n",
       "      <td>0</td>\n",
       "      <td>0</td>\n",
       "      <td>0</td>\n",
       "      <td>0</td>\n",
       "      <td>0</td>\n",
       "      <td>1</td>\n",
       "      <td>0</td>\n",
       "      <td>0</td>\n",
       "      <td>1</td>\n",
       "      <td>0</td>\n",
       "      <td>1</td>\n",
       "    </tr>\n",
       "    <tr>\n",
       "      <th>3</th>\n",
       "      <td>1</td>\n",
       "      <td>0</td>\n",
       "      <td>0</td>\n",
       "      <td>1</td>\n",
       "      <td>0</td>\n",
       "      <td>1</td>\n",
       "      <td>0</td>\n",
       "      <td>0</td>\n",
       "      <td>0</td>\n",
       "      <td>0</td>\n",
       "      <td>0</td>\n",
       "      <td>0</td>\n",
       "      <td>0</td>\n",
       "      <td>1</td>\n",
       "      <td>0</td>\n",
       "      <td>1</td>\n",
       "      <td>0</td>\n",
       "      <td>1</td>\n",
       "      <td>1</td>\n",
       "      <td>0</td>\n",
       "    </tr>\n",
       "    <tr>\n",
       "      <th>4</th>\n",
       "      <td>1</td>\n",
       "      <td>0</td>\n",
       "      <td>1</td>\n",
       "      <td>0</td>\n",
       "      <td>0</td>\n",
       "      <td>1</td>\n",
       "      <td>0</td>\n",
       "      <td>0</td>\n",
       "      <td>0</td>\n",
       "      <td>0</td>\n",
       "      <td>0</td>\n",
       "      <td>1</td>\n",
       "      <td>0</td>\n",
       "      <td>0</td>\n",
       "      <td>0</td>\n",
       "      <td>1</td>\n",
       "      <td>1</td>\n",
       "      <td>0</td>\n",
       "      <td>0</td>\n",
       "      <td>1</td>\n",
       "    </tr>\n",
       "    <tr>\n",
       "      <th>...</th>\n",
       "      <td>...</td>\n",
       "      <td>...</td>\n",
       "      <td>...</td>\n",
       "      <td>...</td>\n",
       "      <td>...</td>\n",
       "      <td>...</td>\n",
       "      <td>...</td>\n",
       "      <td>...</td>\n",
       "      <td>...</td>\n",
       "      <td>...</td>\n",
       "      <td>...</td>\n",
       "      <td>...</td>\n",
       "      <td>...</td>\n",
       "      <td>...</td>\n",
       "      <td>...</td>\n",
       "      <td>...</td>\n",
       "      <td>...</td>\n",
       "      <td>...</td>\n",
       "      <td>...</td>\n",
       "      <td>...</td>\n",
       "    </tr>\n",
       "    <tr>\n",
       "      <th>995</th>\n",
       "      <td>0</td>\n",
       "      <td>1</td>\n",
       "      <td>1</td>\n",
       "      <td>0</td>\n",
       "      <td>0</td>\n",
       "      <td>1</td>\n",
       "      <td>0</td>\n",
       "      <td>0</td>\n",
       "      <td>0</td>\n",
       "      <td>0</td>\n",
       "      <td>0</td>\n",
       "      <td>0</td>\n",
       "      <td>1</td>\n",
       "      <td>0</td>\n",
       "      <td>0</td>\n",
       "      <td>1</td>\n",
       "      <td>0</td>\n",
       "      <td>1</td>\n",
       "      <td>1</td>\n",
       "      <td>0</td>\n",
       "    </tr>\n",
       "    <tr>\n",
       "      <th>996</th>\n",
       "      <td>1</td>\n",
       "      <td>0</td>\n",
       "      <td>0</td>\n",
       "      <td>1</td>\n",
       "      <td>1</td>\n",
       "      <td>0</td>\n",
       "      <td>0</td>\n",
       "      <td>0</td>\n",
       "      <td>0</td>\n",
       "      <td>1</td>\n",
       "      <td>0</td>\n",
       "      <td>0</td>\n",
       "      <td>0</td>\n",
       "      <td>0</td>\n",
       "      <td>1</td>\n",
       "      <td>0</td>\n",
       "      <td>0</td>\n",
       "      <td>1</td>\n",
       "      <td>0</td>\n",
       "      <td>1</td>\n",
       "    </tr>\n",
       "    <tr>\n",
       "      <th>997</th>\n",
       "      <td>1</td>\n",
       "      <td>0</td>\n",
       "      <td>1</td>\n",
       "      <td>0</td>\n",
       "      <td>0</td>\n",
       "      <td>1</td>\n",
       "      <td>1</td>\n",
       "      <td>0</td>\n",
       "      <td>0</td>\n",
       "      <td>0</td>\n",
       "      <td>0</td>\n",
       "      <td>0</td>\n",
       "      <td>0</td>\n",
       "      <td>0</td>\n",
       "      <td>0</td>\n",
       "      <td>1</td>\n",
       "      <td>1</td>\n",
       "      <td>0</td>\n",
       "      <td>1</td>\n",
       "      <td>0</td>\n",
       "    </tr>\n",
       "    <tr>\n",
       "      <th>998</th>\n",
       "      <td>0</td>\n",
       "      <td>1</td>\n",
       "      <td>0</td>\n",
       "      <td>1</td>\n",
       "      <td>1</td>\n",
       "      <td>0</td>\n",
       "      <td>0</td>\n",
       "      <td>1</td>\n",
       "      <td>0</td>\n",
       "      <td>0</td>\n",
       "      <td>0</td>\n",
       "      <td>0</td>\n",
       "      <td>0</td>\n",
       "      <td>0</td>\n",
       "      <td>1</td>\n",
       "      <td>0</td>\n",
       "      <td>0</td>\n",
       "      <td>1</td>\n",
       "      <td>1</td>\n",
       "      <td>0</td>\n",
       "    </tr>\n",
       "    <tr>\n",
       "      <th>999</th>\n",
       "      <td>0</td>\n",
       "      <td>1</td>\n",
       "      <td>1</td>\n",
       "      <td>0</td>\n",
       "      <td>0</td>\n",
       "      <td>1</td>\n",
       "      <td>0</td>\n",
       "      <td>0</td>\n",
       "      <td>0</td>\n",
       "      <td>0</td>\n",
       "      <td>0</td>\n",
       "      <td>1</td>\n",
       "      <td>0</td>\n",
       "      <td>0</td>\n",
       "      <td>0</td>\n",
       "      <td>1</td>\n",
       "      <td>1</td>\n",
       "      <td>0</td>\n",
       "      <td>0</td>\n",
       "      <td>1</td>\n",
       "    </tr>\n",
       "  </tbody>\n",
       "</table>\n",
       "<p>1000 rows × 20 columns</p>\n",
       "</div>"
      ],
      "text/plain": [
       "     blue_0  blue_1  dual_sim_0  dual_sim_1  four_g_0  four_g_1  n_cores_1  \\\n",
       "0         0       1           0           1         1         0          0   \n",
       "1         0       1           0           1         0         1          0   \n",
       "2         0       1           1           0         1         0          0   \n",
       "3         1       0           0           1         0         1          0   \n",
       "4         1       0           1           0         0         1          0   \n",
       "..      ...     ...         ...         ...       ...       ...        ...   \n",
       "995       0       1           1           0         0         1          0   \n",
       "996       1       0           0           1         1         0          0   \n",
       "997       1       0           1           0         0         1          1   \n",
       "998       0       1           0           1         1         0          0   \n",
       "999       0       1           1           0         0         1          0   \n",
       "\n",
       "     n_cores_2  n_cores_3  n_cores_4  n_cores_5  n_cores_6  n_cores_7  \\\n",
       "0            0          1          0          0          0          0   \n",
       "1            0          0          0          1          0          0   \n",
       "2            0          1          0          0          0          0   \n",
       "3            0          0          0          0          0          0   \n",
       "4            0          0          0          0          1          0   \n",
       "..         ...        ...        ...        ...        ...        ...   \n",
       "995          0          0          0          0          0          1   \n",
       "996          0          0          1          0          0          0   \n",
       "997          0          0          0          0          0          0   \n",
       "998          1          0          0          0          0          0   \n",
       "999          0          0          0          0          1          0   \n",
       "\n",
       "     n_cores_8  three_g_0  three_g_1  touch_screen_0  touch_screen_1  wifi_0  \\\n",
       "0            0          1          0               0               1       1   \n",
       "1            0          0          1               1               0       1   \n",
       "2            0          1          0               0               1       0   \n",
       "3            1          0          1               0               1       1   \n",
       "4            0          0          1               1               0       0   \n",
       "..         ...        ...        ...             ...             ...     ...   \n",
       "995          0          0          1               0               1       1   \n",
       "996          0          1          0               0               1       0   \n",
       "997          0          0          1               1               0       1   \n",
       "998          0          1          0               0               1       1   \n",
       "999          0          0          1               1               0       0   \n",
       "\n",
       "     wifi_1  \n",
       "0         0  \n",
       "1         0  \n",
       "2         1  \n",
       "3         0  \n",
       "4         1  \n",
       "..      ...  \n",
       "995       0  \n",
       "996       1  \n",
       "997       0  \n",
       "998       0  \n",
       "999       1  \n",
       "\n",
       "[1000 rows x 20 columns]"
      ]
     },
     "execution_count": 39,
     "metadata": {},
     "output_type": "execute_result"
    }
   ],
   "source": [
    "dummy_test = pd.get_dummies(test_cat)\n",
    "dummy_test"
   ]
  },
  {
   "cell_type": "code",
   "execution_count": 40,
   "id": "trained-senator",
   "metadata": {
    "execution": {
     "iopub.execute_input": "2021-06-18T05:07:37.732339Z",
     "iopub.status.busy": "2021-06-18T05:07:37.731304Z",
     "iopub.status.idle": "2021-06-18T05:07:37.738466Z",
     "shell.execute_reply": "2021-06-18T05:07:37.737861Z",
     "shell.execute_reply.started": "2021-06-17T23:45:41.670062Z"
    },
    "papermill": {
     "duration": 0.075707,
     "end_time": "2021-06-18T05:07:37.738602",
     "exception": false,
     "start_time": "2021-06-18T05:07:37.662895",
     "status": "completed"
    },
    "tags": []
   },
   "outputs": [],
   "source": [
    "test_stsc = st_scaler.fit_transform(test_num)\n",
    "test_stsc = pd.DataFrame(test_stsc, columns=test_num.columns)"
   ]
  },
  {
   "cell_type": "code",
   "execution_count": 41,
   "id": "parliamentary-defense",
   "metadata": {
    "execution": {
     "iopub.execute_input": "2021-06-18T05:07:37.871734Z",
     "iopub.status.busy": "2021-06-18T05:07:37.871069Z",
     "iopub.status.idle": "2021-06-18T05:07:37.873751Z",
     "shell.execute_reply": "2021-06-18T05:07:37.873130Z",
     "shell.execute_reply.started": "2021-06-17T23:45:42.208291Z"
    },
    "papermill": {
     "duration": 0.072174,
     "end_time": "2021-06-18T05:07:37.873900",
     "exception": false,
     "start_time": "2021-06-18T05:07:37.801726",
     "status": "completed"
    },
    "tags": []
   },
   "outputs": [],
   "source": [
    "df_test_comp = pd.concat([test_stsc, dummy_test], axis=1)"
   ]
  },
  {
   "cell_type": "code",
   "execution_count": 42,
   "id": "confidential-saturn",
   "metadata": {
    "execution": {
     "iopub.execute_input": "2021-06-18T05:07:38.003284Z",
     "iopub.status.busy": "2021-06-18T05:07:38.002520Z",
     "iopub.status.idle": "2021-06-18T05:07:38.022630Z",
     "shell.execute_reply": "2021-06-18T05:07:38.022080Z",
     "shell.execute_reply.started": "2021-06-17T23:45:43.283770Z"
    },
    "papermill": {
     "duration": 0.086342,
     "end_time": "2021-06-18T05:07:38.022809",
     "exception": false,
     "start_time": "2021-06-18T05:07:37.936467",
     "status": "completed"
    },
    "tags": []
   },
   "outputs": [
    {
     "name": "stderr",
     "output_type": "stream",
     "text": [
      "/opt/conda/lib/python3.7/site-packages/xgboost/data.py:114: UserWarning: Use subset (sliced data) of np.ndarray is not recommended because it will generate extra copies and increase memory consumption\n",
      "  \"because it will generate extra copies and increase \" +\n"
     ]
    },
    {
     "data": {
      "text/plain": [
       "array([3, 3, 2, 3, 1, 3, 3, 1, 3, 0, 3, 3, 0, 0, 2, 0, 2, 1, 3, 2, 1, 3,\n",
       "       1, 1, 3, 0, 2, 0, 3, 0, 2, 0, 3, 0, 1, 1, 3, 1, 2, 1, 1, 2, 0, 0,\n",
       "       0, 1, 0, 3, 1, 2, 1, 0, 3, 0, 3, 1, 3, 1, 1, 3, 3, 2, 0, 1, 1, 1,\n",
       "       1, 3, 1, 2, 1, 2, 2, 3, 3, 0, 2, 0, 2, 3, 1, 3, 3, 0, 3, 0, 3, 1,\n",
       "       3, 0, 1, 2, 2, 0, 2, 1, 0, 2, 1, 2, 1, 0, 0, 3, 0, 2, 0, 1, 2, 3,\n",
       "       3, 2, 1, 3, 3, 3, 3, 2, 3, 0, 0, 3, 2, 1, 2, 0, 3, 2, 3, 2, 0, 2,\n",
       "       1, 1, 3, 1, 1, 0, 3, 2, 1, 2, 1, 2, 2, 3, 3, 2, 2, 3, 2, 3, 0, 0,\n",
       "       3, 2, 3, 3, 3, 3, 2, 2, 3, 3, 3, 3, 1, 0, 3, 0, 0, 0, 1, 1, 0, 1,\n",
       "       0, 0, 1, 2, 1, 0, 0, 1, 1, 2, 2, 1, 0, 0, 0, 1, 0, 3, 2, 0, 2, 2,\n",
       "       2, 3, 1, 2, 2, 3, 3, 2, 2, 1, 0, 0, 1, 2, 0, 2, 3, 3, 0, 2, 0, 3,\n",
       "       2, 3, 3, 0, 0, 1, 0, 3, 0, 1, 0, 2, 2, 1, 2, 1, 3, 0, 3, 1, 2, 0,\n",
       "       0, 2, 1, 3, 2, 3, 1, 1, 3, 0, 0, 2, 3, 3, 1, 3, 1, 0, 3, 2, 1, 2,\n",
       "       3, 3, 3, 1, 0, 1, 2, 3, 1, 1, 3, 2, 0, 3, 0, 0, 2, 0, 0, 3, 2, 3,\n",
       "       3, 2, 1, 3, 3, 2, 3, 2, 2, 1, 2, 0, 2, 3, 1, 0, 0, 3, 0, 3, 0, 1,\n",
       "       2, 0, 2, 3, 1, 3, 2, 2, 1, 2, 0, 0, 0, 1, 3, 2, 0, 0, 0, 3, 2, 0,\n",
       "       2, 3, 1, 2, 2, 2, 3, 1, 3, 3, 2, 2, 2, 3, 3, 0, 3, 0, 3, 1, 3, 1,\n",
       "       3, 3, 0, 1, 0, 3, 1, 3, 2, 3, 0, 0, 0, 0, 2, 0, 0, 2, 2, 1, 2, 2,\n",
       "       2, 0, 1, 0, 0, 3, 2, 0, 3, 1, 2, 2, 1, 2, 3, 1, 1, 2, 2, 1, 2, 0,\n",
       "       1, 1, 0, 3, 2, 1, 0, 1, 0, 0, 1, 1, 0, 0, 0, 2, 2, 3, 1, 3, 0, 2,\n",
       "       0, 3, 0, 1, 1, 0, 1, 0, 3, 2, 3, 3, 1, 3, 1, 3, 1, 3, 2, 0, 1, 2,\n",
       "       1, 2, 0, 0, 0, 1, 2, 1, 0, 3, 2, 0, 2, 2, 0, 0, 3, 1, 1, 0, 2, 2,\n",
       "       3, 0, 3, 0, 2, 3, 2, 3, 0, 2, 0, 2, 2, 0, 1, 2, 0, 0, 1, 1, 1, 3,\n",
       "       3, 3, 2, 3, 1, 2, 2, 3, 3, 3, 2, 0, 2, 1, 2, 2, 1, 0, 2, 2, 0, 0,\n",
       "       0, 3, 1, 1, 2, 2, 2, 0, 3, 0, 2, 2, 0, 3, 0, 2, 3, 0, 1, 1, 3, 3,\n",
       "       1, 1, 1, 3, 2, 0, 2, 1, 3, 0, 3, 3, 1, 2, 2, 2, 3, 0, 1, 2, 3, 1,\n",
       "       3, 2, 3, 1, 1, 1, 0, 3, 1, 0, 3, 2, 3, 2, 0, 3, 3, 3, 2, 3, 3, 1,\n",
       "       2, 1, 2, 3, 3, 1, 0, 1, 1, 2, 2, 1, 0, 0, 2, 2, 3, 2, 0, 2, 1, 3,\n",
       "       3, 0, 1, 3, 0, 2, 1, 0, 0, 0, 2, 1, 0, 1, 1, 2, 2, 0, 2, 2, 1, 0,\n",
       "       3, 0, 0, 3, 2, 0, 0, 0, 0, 0, 3, 0, 3, 1, 3, 2, 1, 3, 2, 0, 1, 1,\n",
       "       3, 1, 2, 2, 0, 3, 0, 2, 0, 2, 0, 0, 1, 1, 1, 2, 1, 3, 1, 3, 2, 2,\n",
       "       1, 3, 2, 0, 1, 2, 0, 3, 3, 0, 2, 1, 1, 2, 0, 3, 2, 0, 3, 2, 3, 0,\n",
       "       0, 3, 0, 1, 2, 3, 2, 2, 2, 2, 1, 2, 3, 0, 1, 1, 1, 2, 2, 0, 0, 1,\n",
       "       0, 0, 3, 1, 1, 2, 0, 0, 1, 1, 3, 0, 3, 2, 3, 0, 0, 1, 2, 1, 1, 0,\n",
       "       1, 1, 0, 1, 1, 0, 0, 3, 3, 0, 3, 1, 2, 3, 0, 1, 0, 2, 2, 0, 3, 1,\n",
       "       0, 3, 0, 1, 0, 3, 3, 3, 2, 3, 0, 3, 2, 0, 0, 0, 3, 3, 2, 0, 2, 2,\n",
       "       3, 1, 0, 3, 2, 0, 3, 1, 2, 1, 1, 1, 3, 1, 1, 1, 2, 0, 0, 1, 2, 0,\n",
       "       2, 0, 0, 0, 0, 3, 3, 3, 3, 0, 1, 2, 2, 1, 0, 0, 2, 1, 0, 2, 0, 2,\n",
       "       2, 2, 1, 2, 0, 2, 1, 3, 0, 0, 3, 1, 3, 0, 0, 2, 2, 3, 1, 2, 2, 1,\n",
       "       0, 0, 2, 3, 0, 3, 0, 0, 0, 2, 2, 1, 2, 0, 3, 2, 1, 2, 3, 3, 0, 1,\n",
       "       1, 2, 1, 2, 2, 0, 1, 3, 1, 1, 3, 1, 2, 3, 1, 1, 1, 2, 3, 3, 0, 2,\n",
       "       3, 0, 2, 3, 2, 2, 2, 3, 2, 0, 1, 2, 0, 2, 1, 1, 2, 2, 2, 1, 2, 1,\n",
       "       0, 1, 3, 1, 0, 1, 2, 3, 1, 0, 0, 2, 2, 2, 3, 0, 3, 3, 2, 1, 3, 0,\n",
       "       1, 3, 1, 2, 1, 2, 3, 2, 0, 3, 0, 2, 3, 0, 3, 2, 2, 3, 1, 0, 2, 3,\n",
       "       1, 0, 2, 1, 2, 1, 2, 0, 2, 2, 0, 2, 3, 2, 3, 0, 2, 1, 1, 2, 2, 3,\n",
       "       3, 0, 2, 1, 2, 1, 3, 1, 1, 3, 0, 1, 0, 0, 3, 2, 2, 0, 0, 0, 0, 3,\n",
       "       2, 3, 3, 0, 0, 2, 1, 0, 2, 2])"
      ]
     },
     "execution_count": 42,
     "metadata": {},
     "output_type": "execute_result"
    }
   ],
   "source": [
    "y_pred = xgb_model.predict(df_test_comp)\n",
    "y_pred"
   ]
  },
  {
   "cell_type": "markdown",
   "id": "broad-incidence",
   "metadata": {
    "papermill": {
     "duration": 0.062239,
     "end_time": "2021-06-18T05:07:38.149526",
     "exception": false,
     "start_time": "2021-06-18T05:07:38.087287",
     "status": "completed"
    },
    "tags": []
   },
   "source": [
    "### GridSearchCV w/ XGB"
   ]
  },
  {
   "cell_type": "code",
   "execution_count": 43,
   "id": "written-grenada",
   "metadata": {
    "execution": {
     "iopub.execute_input": "2021-06-18T05:07:38.288452Z",
     "iopub.status.busy": "2021-06-18T05:07:38.287755Z",
     "iopub.status.idle": "2021-06-18T07:30:35.364588Z",
     "shell.execute_reply": "2021-06-18T07:30:35.363995Z",
     "shell.execute_reply.started": "2021-06-18T02:04:46.731321Z"
    },
    "papermill": {
     "duration": 8577.149853,
     "end_time": "2021-06-18T07:30:35.364840",
     "exception": false,
     "start_time": "2021-06-18T05:07:38.214987",
     "status": "completed"
    },
    "tags": []
   },
   "outputs": [
    {
     "name": "stdout",
     "output_type": "stream",
     "text": [
      "Fitting 3 folds for each of 96 candidates, totalling 288 fits\n"
     ]
    },
    {
     "name": "stderr",
     "output_type": "stream",
     "text": [
      "/opt/conda/lib/python3.7/site-packages/xgboost/sklearn.py:1146: UserWarning: The use of label encoder in XGBClassifier is deprecated and will be removed in a future release. To remove this warning, do the following: 1) Pass option use_label_encoder=False when constructing XGBClassifier object; and 2) Encode your labels (y) as integers starting with 0, i.e. 0, 1, 2, ..., [num_class - 1].\n",
      "  warnings.warn(label_encoder_deprecation_msg, UserWarning)\n"
     ]
    },
    {
     "name": "stdout",
     "output_type": "stream",
     "text": [
      "[07:30:34] WARNING: ../src/learner.cc:573: \n",
      "Parameters: { \"colsample_byleve\", \"silent\" } might not be used.\n",
      "\n",
      "  This may not be accurate due to some parameters are only used in language bindings but\n",
      "  passed down to XGBoost core.  Or some parameters are not used but slip through this\n",
      "  verification. Please open an issue if you find above cases.\n",
      "\n",
      "\n",
      "[07:30:34] WARNING: ../src/learner.cc:1095: Starting in XGBoost 1.3.0, the default evaluation metric used with the objective 'multi:softprob' was changed from 'merror' to 'mlogloss'. Explicitly set eval_metric if you'd like to restore the old behavior.\n",
      "final params  {'booster': 'gbtree', 'colsample_byleve': 0.9, 'colsample_bytree': 0.8, 'gamma': 0, 'max_depth': 6, 'min_child_weight': 3, 'n_estimators': 50, 'nthread': 4, 'objective': 'multi:softmax', 'random_state': 42, 'silent': False}\n",
      "best score  0.897190859137206\n"
     ]
    }
   ],
   "source": [
    "# create XGBClassifier object\n",
    "xgb_clf = XGBClassifier()\n",
    "\n",
    "# set hyperparameters\n",
    "param_gird = { 'booster' : ['gbtree'],\n",
    "               'silent' : [False],\n",
    "               'max_depth' : [5,6,8,9],\n",
    "               'min_child_weight' : [1,3,5],\n",
    "               'gamma' : [0,1,2,3],\n",
    "               'nthread' : [4],\n",
    "               'colsample_bytree' : [0.5, 0.8],\n",
    "               'colsample_byleve' : [0.9],\n",
    "               'n_estimators' : [50],\n",
    "               'objective': ['multi:softmax'],\n",
    "               'random_state' : [42] }\n",
    "\n",
    "# set Kfold\n",
    "cv = StratifiedKFold(n_splits=3)\n",
    "\n",
    "# create GridSearchCV object\n",
    "gscv = GridSearchCV(xgb_clf, param_grid=param_gird, cv=cv, scoring='f1_macro', n_jobs=-1, verbose=3)\n",
    "\n",
    "# fit gscv\n",
    "gscv.fit(X_train2, y_train2)\n",
    "print('final params ', gscv.best_params_)\n",
    "print('best score ', gscv.best_score_)"
   ]
  },
  {
   "cell_type": "code",
   "execution_count": 44,
   "id": "martial-rouge",
   "metadata": {
    "execution": {
     "iopub.execute_input": "2021-06-18T07:30:35.514036Z",
     "iopub.status.busy": "2021-06-18T07:30:35.512978Z",
     "iopub.status.idle": "2021-06-18T07:30:36.393394Z",
     "shell.execute_reply": "2021-06-18T07:30:36.394301Z",
     "shell.execute_reply.started": "2021-06-18T05:04:40.476008Z"
    },
    "papermill": {
     "duration": 0.961283,
     "end_time": "2021-06-18T07:30:36.394521",
     "exception": false,
     "start_time": "2021-06-18T07:30:35.433238",
     "status": "completed"
    },
    "tags": []
   },
   "outputs": [
    {
     "name": "stdout",
     "output_type": "stream",
     "text": [
      "[07:30:35] WARNING: ../src/learner.cc:573: \n",
      "Parameters: { \"colsample_byleve\", \"silent\" } might not be used.\n",
      "\n",
      "  This may not be accurate due to some parameters are only used in language bindings but\n",
      "  passed down to XGBoost core.  Or some parameters are not used but slip through this\n",
      "  verification. Please open an issue if you find above cases.\n",
      "\n",
      "\n",
      "[07:30:35] WARNING: ../src/learner.cc:1095: Starting in XGBoost 1.3.0, the default evaluation metric used with the objective 'multi:softprob' was changed from 'merror' to 'mlogloss'. Explicitly set eval_metric if you'd like to restore the old behavior.\n",
      "[0]\tvalidation_0-mlogloss:1.15807\n",
      "[5]\tvalidation_0-mlogloss:0.63974\n",
      "[10]\tvalidation_0-mlogloss:0.43749\n",
      "[15]\tvalidation_0-mlogloss:0.35833\n",
      "[20]\tvalidation_0-mlogloss:0.31392\n",
      "[25]\tvalidation_0-mlogloss:0.30073\n",
      "[30]\tvalidation_0-mlogloss:0.29525\n",
      "[35]\tvalidation_0-mlogloss:0.28975\n",
      "[40]\tvalidation_0-mlogloss:0.28774\n",
      "[45]\tvalidation_0-mlogloss:0.28390\n",
      "[49]\tvalidation_0-mlogloss:0.28386\n",
      "[07:30:35] WARNING: ../src/learner.cc:573: \n",
      "Parameters: { \"colsample_byleve\", \"silent\" } might not be used.\n",
      "\n",
      "  This may not be accurate due to some parameters are only used in language bindings but\n",
      "  passed down to XGBoost core.  Or some parameters are not used but slip through this\n",
      "  verification. Please open an issue if you find above cases.\n",
      "\n",
      "\n",
      "[07:30:35] WARNING: ../src/learner.cc:1095: Starting in XGBoost 1.3.0, the default evaluation metric used with the objective 'multi:softprob' was changed from 'merror' to 'mlogloss'. Explicitly set eval_metric if you'd like to restore the old behavior.\n",
      "[0]\tvalidation_0-mlogloss:1.15544\n",
      "[5]\tvalidation_0-mlogloss:0.66174\n",
      "[10]\tvalidation_0-mlogloss:0.46094\n",
      "[15]\tvalidation_0-mlogloss:0.39231\n",
      "[20]\tvalidation_0-mlogloss:0.35707\n",
      "[25]\tvalidation_0-mlogloss:0.34296\n",
      "[30]\tvalidation_0-mlogloss:0.33653\n",
      "[35]\tvalidation_0-mlogloss:0.33882\n"
     ]
    },
    {
     "name": "stderr",
     "output_type": "stream",
     "text": [
      "/opt/conda/lib/python3.7/site-packages/xgboost/data.py:114: UserWarning: Use subset (sliced data) of np.ndarray is not recommended because it will generate extra copies and increase memory consumption\n",
      "  \"because it will generate extra copies and increase \" +\n"
     ]
    },
    {
     "name": "stdout",
     "output_type": "stream",
     "text": [
      "[40]\tvalidation_0-mlogloss:0.33811\n",
      "[45]\tvalidation_0-mlogloss:0.34042\n",
      "[49]\tvalidation_0-mlogloss:0.33900\n",
      "[07:30:36] WARNING: ../src/learner.cc:573: \n",
      "Parameters: { \"colsample_byleve\", \"silent\" } might not be used.\n",
      "\n",
      "  This may not be accurate due to some parameters are only used in language bindings but\n",
      "  passed down to XGBoost core.  Or some parameters are not used but slip through this\n",
      "  verification. Please open an issue if you find above cases.\n",
      "\n",
      "\n",
      "[07:30:36] WARNING: ../src/learner.cc:1095: Starting in XGBoost 1.3.0, the default evaluation metric used with the objective 'multi:softprob' was changed from 'merror' to 'mlogloss'. Explicitly set eval_metric if you'd like to restore the old behavior.\n",
      "[0]\tvalidation_0-mlogloss:1.14920\n",
      "[5]\tvalidation_0-mlogloss:0.63159\n",
      "[10]\tvalidation_0-mlogloss:0.42237\n",
      "[15]\tvalidation_0-mlogloss:0.33438\n",
      "[20]\tvalidation_0-mlogloss:0.28812\n",
      "[25]\tvalidation_0-mlogloss:0.27111\n",
      "[30]\tvalidation_0-mlogloss:0.25698\n",
      "[35]\tvalidation_0-mlogloss:0.25163\n",
      "[40]\tvalidation_0-mlogloss:0.24749\n",
      "[45]\tvalidation_0-mlogloss:0.24675\n",
      "[49]\tvalidation_0-mlogloss:0.24590\n",
      "[0. 2. 1. 3. 1. 1. 2. 0. 3. 1. 0. 1. 2. 3. 2. 2. 3. 3. 1. 0. 0. 1. 1. 2.\n",
      " 0. 1. 3. 2. 2. 0. 0. 0. 3. 0. 1. 1. 2. 0. 3. 0. 2. 3. 2. 0. 3. 2. 1. 1.\n",
      " 3. 1. 3. 1. 0. 0. 1. 1. 1. 2. 0. 0. 1. 3. 3. 1. 0. 0. 3. 3. 1. 2. 2. 2.\n",
      " 0. 1. 3. 0. 0. 3. 2. 2. 3. 2. 1. 0. 1. 3. 1. 3. 3. 0. 3. 3. 2. 1. 3. 2.\n",
      " 2. 3. 1. 1. 0. 0. 1. 0. 0. 3. 2. 0. 1. 1. 0. 0. 3. 2. 2. 2. 3. 2. 0. 2.\n",
      " 1. 3. 2. 1. 3. 3. 0. 3. 0. 2. 3. 0. 2. 2. 0. 3. 1. 0. 0. 2. 3. 0. 2. 2.\n",
      " 0. 0. 0. 1. 1. 2. 3. 1. 1. 0. 2. 2. 0. 1. 0. 2. 2. 3. 2. 2. 1. 0. 0. 2.\n",
      " 2. 3. 3. 1. 1. 0. 3. 1. 2. 2. 1. 0. 0. 0. 0. 0. 3. 2. 0. 3. 0. 0. 0. 0.\n",
      " 1. 3. 3. 1. 0. 1. 1. 1. 1. 2. 2. 2. 3. 3. 1. 2. 0. 0. 0. 2. 1. 1. 3. 1.\n",
      " 0. 2. 1. 1. 3. 2. 3. 0. 0. 2. 1. 3. 0. 0. 2. 0. 2. 3. 2. 0. 1. 3. 3. 0.\n",
      " 1. 3. 3. 3. 0. 3. 1. 2. 3. 3. 2. 1. 1. 3. 3. 1. 3. 3. 3. 3. 3. 0. 1. 2.\n",
      " 2. 2. 2. 0. 2. 3. 2. 2. 2. 1. 0. 1. 0. 3. 3. 1. 3. 1. 0. 3. 1. 2. 0. 0.\n",
      " 3. 0. 1. 2. 3. 3. 3. 1. 0. 0. 1. 3. 3. 0. 1. 1. 2. 0. 3. 3. 2. 3. 2. 3.\n",
      " 2. 0. 2. 1. 1. 1. 0. 0. 0. 3. 2. 3. 1. 0. 1. 0. 1. 3. 3. 0. 3. 3. 2. 1.\n",
      " 2. 0. 0. 3. 1. 3. 2. 0. 1. 1. 1. 1. 1. 3. 1. 0. 0. 3. 3. 0. 3. 0. 0. 2.\n",
      " 0. 1. 2. 2. 2. 3. 0. 3. 2. 2. 3. 3. 3. 2. 1. 2. 0. 3. 1. 3. 3. 0. 2. 3.\n",
      " 2. 3. 3. 3. 0. 0. 2. 3. 0. 0. 2. 3. 1. 1. 1. 2.]\n"
     ]
    }
   ],
   "source": [
    "# create best clf\n",
    "best_xgb = gscv.best_estimator_\n",
    "\n",
    "# set train Kfold\n",
    "cv = KFold(n_splits=3, random_state=42, shuffle=True)\n",
    "\n",
    "# train and eval\n",
    "y_pred = np.zeros([400])\n",
    "for tidx, vidx in cv.split(X_train2, y_train2):\n",
    "    X_train_cv = X_train2.iloc[tidx]\n",
    "    y_train_cv = y_train2.iloc[tidx]\n",
    "    X_val_cv = X_train2.iloc[vidx]\n",
    "    y_val_cv = y_train2.iloc[vidx]\n",
    "    \n",
    "    # train with each cv data\n",
    "    best_xgb.fit(X_train_cv, y_train_cv, eval_set=[(X_val_cv, y_val_cv)], early_stopping_rounds=50, verbose=5)\n",
    "    \n",
    "    pred = best_xgb.predict(X_test2)\n",
    "    \n",
    "    y_pred += pred\n",
    "\n",
    "result = (y_pred/3.0).round(0)\n",
    "print(result)"
   ]
  },
  {
   "cell_type": "code",
   "execution_count": 45,
   "id": "assured-appliance",
   "metadata": {
    "execution": {
     "iopub.execute_input": "2021-06-18T07:30:36.569284Z",
     "iopub.status.busy": "2021-06-18T07:30:36.568511Z",
     "iopub.status.idle": "2021-06-18T07:30:36.589041Z",
     "shell.execute_reply": "2021-06-18T07:30:36.589542Z",
     "shell.execute_reply.started": "2021-06-18T05:06:43.066074Z"
    },
    "papermill": {
     "duration": 0.107914,
     "end_time": "2021-06-18T07:30:36.589743",
     "exception": false,
     "start_time": "2021-06-18T07:30:36.481829",
     "status": "completed"
    },
    "tags": []
   },
   "outputs": [
    {
     "name": "stdout",
     "output_type": "stream",
     "text": [
      "              precision    recall  f1-score   support\n",
      "\n",
      "           0       0.95      0.96      0.96       105\n",
      "           1       0.88      0.91      0.90        91\n",
      "           2       0.85      0.85      0.85        92\n",
      "           3       0.94      0.90      0.92       112\n",
      "\n",
      "    accuracy                           0.91       400\n",
      "   macro avg       0.90      0.91      0.91       400\n",
      "weighted avg       0.91      0.91      0.91       400\n",
      "\n",
      "0.9051627934999047\n"
     ]
    }
   ],
   "source": [
    "print(classification_report(y_test2, result))\n",
    "print(f1_score(y_test2, result, average='macro'))"
   ]
  },
  {
   "cell_type": "code",
   "execution_count": 46,
   "id": "split-blast",
   "metadata": {
    "execution": {
     "iopub.execute_input": "2021-06-18T07:30:36.770765Z",
     "iopub.status.busy": "2021-06-18T07:30:36.770118Z",
     "iopub.status.idle": "2021-06-18T07:30:36.789657Z",
     "shell.execute_reply": "2021-06-18T07:30:36.790252Z",
     "shell.execute_reply.started": "2021-06-18T05:02:04.453255Z"
    },
    "papermill": {
     "duration": 0.113558,
     "end_time": "2021-06-18T07:30:36.790467",
     "exception": false,
     "start_time": "2021-06-18T07:30:36.676909",
     "status": "completed"
    },
    "tags": []
   },
   "outputs": [
    {
     "name": "stderr",
     "output_type": "stream",
     "text": [
      "/opt/conda/lib/python3.7/site-packages/xgboost/data.py:114: UserWarning: Use subset (sliced data) of np.ndarray is not recommended because it will generate extra copies and increase memory consumption\n",
      "  \"because it will generate extra copies and increase \" +\n"
     ]
    }
   ],
   "source": [
    "pred = best_xgb.predict(X_test2)"
   ]
  },
  {
   "cell_type": "code",
   "execution_count": 47,
   "id": "fitting-antarctica",
   "metadata": {
    "execution": {
     "iopub.execute_input": "2021-06-18T07:30:36.969189Z",
     "iopub.status.busy": "2021-06-18T07:30:36.968494Z",
     "iopub.status.idle": "2021-06-18T07:30:36.971404Z",
     "shell.execute_reply": "2021-06-18T07:30:36.971904Z",
     "shell.execute_reply.started": "2021-06-18T05:02:12.566625Z"
    },
    "papermill": {
     "duration": 0.094502,
     "end_time": "2021-06-18T07:30:36.972088",
     "exception": false,
     "start_time": "2021-06-18T07:30:36.877586",
     "status": "completed"
    },
    "tags": []
   },
   "outputs": [
    {
     "name": "stdout",
     "output_type": "stream",
     "text": [
      "(400,)\n",
      "[0 2 1 3 1 1 2 0 3 1 0 1 2 3 2 2 3 3 1 0 0 1 1 2 0 1 3 2 2 0 1 0 3 0 1 1 2\n",
      " 0 3 0 2 3 2 0 3 2 1 1 3 1 3 1 0 0 1 1 1 2 0 0 1 3 3 1 0 0 3 3 1 2 2 2 0 1\n",
      " 3 0 0 3 2 2 3 2 1 0 1 3 1 3 3 0 3 3 2 1 3 2 2 3 1 1 0 0 1 0 0 3 2 0 1 1 0\n",
      " 0 3 2 3 2 3 2 0 2 1 3 2 1 3 3 0 3 0 2 3 0 2 2 0 3 1 0 0 2 3 0 2 2 0 0 0 1\n",
      " 1 2 3 1 1 0 2 2 0 1 0 2 2 3 2 2 1 0 0 2 2 3 3 1 1 0 3 1 1 2 1 0 0 0 0 0 3\n",
      " 2 0 3 0 1 0 0 1 3 3 1 0 1 1 1 1 1 2 2 3 3 1 2 0 0 0 2 1 1 3 1 1 2 1 1 3 2\n",
      " 3 0 0 2 1 3 0 0 1 0 2 3 2 0 1 3 3 0 1 3 3 3 0 3 1 2 3 3 2 1 1 3 3 1 3 3 3\n",
      " 3 3 1 1 2 2 2 2 0 2 3 2 2 2 1 0 1 0 2 3 1 3 1 0 3 1 2 0 0 3 0 1 2 3 3 3 1\n",
      " 1 0 1 3 3 0 1 1 2 0 3 3 2 3 1 3 2 0 2 1 2 1 0 0 0 3 3 3 1 0 1 1 1 3 3 0 3\n",
      " 3 2 1 3 0 0 3 1 3 2 0 1 1 1 1 1 3 2 0 0 3 3 0 3 0 0 2 0 1 2 2 2 3 0 2 2 2\n",
      " 3 3 3 2 1 2 0 3 2 3 3 0 2 3 2 3 3 3 1 0 2 3 0 0 2 3 2 1 1 2]\n"
     ]
    }
   ],
   "source": [
    "print(pred.shape)\n",
    "print(pred)"
   ]
  },
  {
   "cell_type": "code",
   "execution_count": 48,
   "id": "endless-compact",
   "metadata": {
    "execution": {
     "iopub.execute_input": "2021-06-18T07:30:37.140699Z",
     "iopub.status.busy": "2021-06-18T07:30:37.140039Z",
     "iopub.status.idle": "2021-06-18T07:30:37.161399Z",
     "shell.execute_reply": "2021-06-18T07:30:37.160795Z",
     "shell.execute_reply.started": "2021-06-18T05:02:39.396750Z"
    },
    "papermill": {
     "duration": 0.106011,
     "end_time": "2021-06-18T07:30:37.161576",
     "exception": false,
     "start_time": "2021-06-18T07:30:37.055565",
     "status": "completed"
    },
    "tags": []
   },
   "outputs": [
    {
     "name": "stdout",
     "output_type": "stream",
     "text": [
      "<class 'pandas.core.frame.DataFrame'>\n",
      "Int64Index: 400 entries, 1860 to 535\n",
      "Data columns (total 33 columns):\n",
      " #   Column          Non-Null Count  Dtype  \n",
      "---  ------          --------------  -----  \n",
      " 0   battery_power   400 non-null    float64\n",
      " 1   clock_speed     400 non-null    float64\n",
      " 2   fc              400 non-null    float64\n",
      " 3   int_memory      400 non-null    float64\n",
      " 4   m_dep           400 non-null    float64\n",
      " 5   mobile_wt       400 non-null    float64\n",
      " 6   pc              400 non-null    float64\n",
      " 7   px_height       400 non-null    float64\n",
      " 8   px_width        400 non-null    float64\n",
      " 9   ram             400 non-null    float64\n",
      " 10  sc_h            400 non-null    float64\n",
      " 11  sc_w            400 non-null    float64\n",
      " 12  talk_time       400 non-null    float64\n",
      " 13  blue_0          400 non-null    uint8  \n",
      " 14  blue_1          400 non-null    uint8  \n",
      " 15  dual_sim_0      400 non-null    uint8  \n",
      " 16  dual_sim_1      400 non-null    uint8  \n",
      " 17  four_g_0        400 non-null    uint8  \n",
      " 18  four_g_1        400 non-null    uint8  \n",
      " 19  n_cores_1       400 non-null    uint8  \n",
      " 20  n_cores_2       400 non-null    uint8  \n",
      " 21  n_cores_3       400 non-null    uint8  \n",
      " 22  n_cores_4       400 non-null    uint8  \n",
      " 23  n_cores_5       400 non-null    uint8  \n",
      " 24  n_cores_6       400 non-null    uint8  \n",
      " 25  n_cores_7       400 non-null    uint8  \n",
      " 26  n_cores_8       400 non-null    uint8  \n",
      " 27  three_g_0       400 non-null    uint8  \n",
      " 28  three_g_1       400 non-null    uint8  \n",
      " 29  touch_screen_0  400 non-null    uint8  \n",
      " 30  touch_screen_1  400 non-null    uint8  \n",
      " 31  wifi_0          400 non-null    uint8  \n",
      " 32  wifi_1          400 non-null    uint8  \n",
      "dtypes: float64(13), uint8(20)\n",
      "memory usage: 51.6 KB\n"
     ]
    }
   ],
   "source": [
    "X_test2.info()"
   ]
  },
  {
   "cell_type": "code",
   "execution_count": null,
   "id": "domestic-bicycle",
   "metadata": {
    "papermill": {
     "duration": 0.084431,
     "end_time": "2021-06-18T07:30:37.332517",
     "exception": false,
     "start_time": "2021-06-18T07:30:37.248086",
     "status": "completed"
    },
    "tags": []
   },
   "outputs": [],
   "source": []
  }
 ],
 "metadata": {
  "kernelspec": {
   "display_name": "Python 3",
   "language": "python",
   "name": "python3"
  },
  "language_info": {
   "codemirror_mode": {
    "name": "ipython",
    "version": 3
   },
   "file_extension": ".py",
   "mimetype": "text/x-python",
   "name": "python",
   "nbconvert_exporter": "python",
   "pygments_lexer": "ipython3",
   "version": "3.7.10"
  },
  "papermill": {
   "default_parameters": {},
   "duration": 8606.470555,
   "end_time": "2021-06-18T07:30:39.230018",
   "environment_variables": {},
   "exception": null,
   "input_path": "__notebook__.ipynb",
   "output_path": "__notebook__.ipynb",
   "parameters": {},
   "start_time": "2021-06-18T05:07:12.759463",
   "version": "2.3.3"
  }
 },
 "nbformat": 4,
 "nbformat_minor": 5
}
