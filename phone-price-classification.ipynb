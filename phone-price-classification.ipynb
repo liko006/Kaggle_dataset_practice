{
 "cells": [
  {
   "cell_type": "code",
   "execution_count": 1,
   "id": "likely-prison",
   "metadata": {
    "_cell_guid": "b1076dfc-b9ad-4769-8c92-a6c4dae69d19",
    "_uuid": "8f2839f25d086af736a60e9eeb907d3b93b6e0e5",
    "execution": {
     "iopub.execute_input": "2021-06-17T02:42:26.208846Z",
     "iopub.status.busy": "2021-06-17T02:42:26.207113Z",
     "iopub.status.idle": "2021-06-17T02:42:26.221702Z",
     "shell.execute_reply": "2021-06-17T02:42:26.222653Z",
     "shell.execute_reply.started": "2021-06-17T01:20:03.062965Z"
    },
    "papermill": {
     "duration": 0.055565,
     "end_time": "2021-06-17T02:42:26.223190",
     "exception": false,
     "start_time": "2021-06-17T02:42:26.167625",
     "status": "completed"
    },
    "tags": []
   },
   "outputs": [
    {
     "name": "stdout",
     "output_type": "stream",
     "text": [
      "/kaggle/input/mobile-price-classification/train.csv\n",
      "/kaggle/input/mobile-price-classification/test.csv\n"
     ]
    }
   ],
   "source": [
    "# This Python 3 environment comes with many helpful analytics libraries installed\n",
    "# It is defined by the kaggle/python Docker image: https://github.com/kaggle/docker-python\n",
    "# For example, here's several helpful packages to load\n",
    "\n",
    "import numpy as np # linear algebra\n",
    "import pandas as pd # data processing, CSV file I/O (e.g. pd.read_csv)\n",
    "\n",
    "# Input data files are available in the read-only \"../input/\" directory\n",
    "# For example, running this (by clicking run or pressing Shift+Enter) will list all files under the input directory\n",
    "\n",
    "import os\n",
    "for dirname, _, filenames in os.walk('/kaggle/input'):\n",
    "    for filename in filenames:\n",
    "        print(os.path.join(dirname, filename))\n",
    "\n",
    "# You can write up to 20GB to the current directory (/kaggle/working/) that gets preserved as output when you create a version using \"Save & Run All\" \n",
    "# You can also write temporary files to /kaggle/temp/, but they won't be saved outside of the current session"
   ]
  },
  {
   "cell_type": "code",
   "execution_count": 2,
   "id": "prospective-timer",
   "metadata": {
    "execution": {
     "iopub.execute_input": "2021-06-17T02:42:26.299594Z",
     "iopub.status.busy": "2021-06-17T02:42:26.298922Z",
     "iopub.status.idle": "2021-06-17T02:42:27.235463Z",
     "shell.execute_reply": "2021-06-17T02:42:27.235981Z",
     "shell.execute_reply.started": "2021-06-17T01:23:48.135524Z"
    },
    "papermill": {
     "duration": 0.97444,
     "end_time": "2021-06-17T02:42:27.236158",
     "exception": false,
     "start_time": "2021-06-17T02:42:26.261718",
     "status": "completed"
    },
    "tags": []
   },
   "outputs": [],
   "source": [
    "import seaborn as sns\n",
    "import matplotlib.pyplot as plt\n",
    "from scipy.stats import norm"
   ]
  },
  {
   "cell_type": "code",
   "execution_count": 3,
   "id": "defensive-fellow",
   "metadata": {
    "execution": {
     "iopub.execute_input": "2021-06-17T02:42:27.324278Z",
     "iopub.status.busy": "2021-06-17T02:42:27.323607Z",
     "iopub.status.idle": "2021-06-17T02:42:27.364168Z",
     "shell.execute_reply": "2021-06-17T02:42:27.363331Z",
     "shell.execute_reply.started": "2021-06-17T01:24:46.384716Z"
    },
    "papermill": {
     "duration": 0.089657,
     "end_time": "2021-06-17T02:42:27.364313",
     "exception": false,
     "start_time": "2021-06-17T02:42:27.274656",
     "status": "completed"
    },
    "tags": []
   },
   "outputs": [],
   "source": [
    "df_train = pd.read_csv('/kaggle/input/mobile-price-classification/train.csv')\n",
    "df_test = pd.read_csv('/kaggle/input/mobile-price-classification/test.csv')"
   ]
  },
  {
   "cell_type": "code",
   "execution_count": 4,
   "id": "dependent-purpose",
   "metadata": {
    "execution": {
     "iopub.execute_input": "2021-06-17T02:42:27.448899Z",
     "iopub.status.busy": "2021-06-17T02:42:27.447804Z",
     "iopub.status.idle": "2021-06-17T02:42:27.481603Z",
     "shell.execute_reply": "2021-06-17T02:42:27.482167Z",
     "shell.execute_reply.started": "2021-06-17T01:25:00.075080Z"
    },
    "papermill": {
     "duration": 0.08323,
     "end_time": "2021-06-17T02:42:27.482348",
     "exception": false,
     "start_time": "2021-06-17T02:42:27.399118",
     "status": "completed"
    },
    "tags": []
   },
   "outputs": [
    {
     "data": {
      "text/plain": [
       "(   battery_power  blue  clock_speed  dual_sim  fc  four_g  int_memory  m_dep  \\\n",
       " 0            842     0          2.2         0   1       0           7    0.6   \n",
       " 1           1021     1          0.5         1   0       1          53    0.7   \n",
       " 2            563     1          0.5         1   2       1          41    0.9   \n",
       " 3            615     1          2.5         0   0       0          10    0.8   \n",
       " 4           1821     1          1.2         0  13       1          44    0.6   \n",
       " \n",
       "    mobile_wt  n_cores  ...  px_height  px_width   ram  sc_h  sc_w  talk_time  \\\n",
       " 0        188        2  ...         20       756  2549     9     7         19   \n",
       " 1        136        3  ...        905      1988  2631    17     3          7   \n",
       " 2        145        5  ...       1263      1716  2603    11     2          9   \n",
       " 3        131        6  ...       1216      1786  2769    16     8         11   \n",
       " 4        141        2  ...       1208      1212  1411     8     2         15   \n",
       " \n",
       "    three_g  touch_screen  wifi  price_range  \n",
       " 0        0             0     1            1  \n",
       " 1        1             1     0            2  \n",
       " 2        1             1     0            2  \n",
       " 3        1             0     0            2  \n",
       " 4        1             1     0            1  \n",
       " \n",
       " [5 rows x 21 columns],\n",
       "    id  battery_power  blue  clock_speed  dual_sim  fc  four_g  int_memory  \\\n",
       " 0   1           1043     1          1.8         1  14       0           5   \n",
       " 1   2            841     1          0.5         1   4       1          61   \n",
       " 2   3           1807     1          2.8         0   1       0          27   \n",
       " 3   4           1546     0          0.5         1  18       1          25   \n",
       " 4   5           1434     0          1.4         0  11       1          49   \n",
       " \n",
       "    m_dep  mobile_wt  ...  pc  px_height  px_width   ram  sc_h  sc_w  \\\n",
       " 0    0.1        193  ...  16        226      1412  3476    12     7   \n",
       " 1    0.8        191  ...  12        746       857  3895     6     0   \n",
       " 2    0.9        186  ...   4       1270      1366  2396    17    10   \n",
       " 3    0.5         96  ...  20        295      1752  3893    10     0   \n",
       " 4    0.5        108  ...  18        749       810  1773    15     8   \n",
       " \n",
       "    talk_time  three_g  touch_screen  wifi  \n",
       " 0          2        0             1     0  \n",
       " 1          7        1             0     0  \n",
       " 2         10        0             1     1  \n",
       " 3          7        1             1     0  \n",
       " 4          7        1             0     1  \n",
       " \n",
       " [5 rows x 21 columns])"
      ]
     },
     "execution_count": 4,
     "metadata": {},
     "output_type": "execute_result"
    }
   ],
   "source": [
    "df_train.head(), df_test.head()"
   ]
  },
  {
   "cell_type": "code",
   "execution_count": 5,
   "id": "healthy-stanley",
   "metadata": {
    "execution": {
     "iopub.execute_input": "2021-06-17T02:42:27.561613Z",
     "iopub.status.busy": "2021-06-17T02:42:27.560852Z",
     "iopub.status.idle": "2021-06-17T02:42:27.583500Z",
     "shell.execute_reply": "2021-06-17T02:42:27.582736Z",
     "shell.execute_reply.started": "2021-06-17T01:25:54.694122Z"
    },
    "papermill": {
     "duration": 0.061136,
     "end_time": "2021-06-17T02:42:27.583709",
     "exception": false,
     "start_time": "2021-06-17T02:42:27.522573",
     "status": "completed"
    },
    "tags": []
   },
   "outputs": [
    {
     "name": "stdout",
     "output_type": "stream",
     "text": [
      "<class 'pandas.core.frame.DataFrame'>\n",
      "RangeIndex: 2000 entries, 0 to 1999\n",
      "Data columns (total 21 columns):\n",
      " #   Column         Non-Null Count  Dtype  \n",
      "---  ------         --------------  -----  \n",
      " 0   battery_power  2000 non-null   int64  \n",
      " 1   blue           2000 non-null   int64  \n",
      " 2   clock_speed    2000 non-null   float64\n",
      " 3   dual_sim       2000 non-null   int64  \n",
      " 4   fc             2000 non-null   int64  \n",
      " 5   four_g         2000 non-null   int64  \n",
      " 6   int_memory     2000 non-null   int64  \n",
      " 7   m_dep          2000 non-null   float64\n",
      " 8   mobile_wt      2000 non-null   int64  \n",
      " 9   n_cores        2000 non-null   int64  \n",
      " 10  pc             2000 non-null   int64  \n",
      " 11  px_height      2000 non-null   int64  \n",
      " 12  px_width       2000 non-null   int64  \n",
      " 13  ram            2000 non-null   int64  \n",
      " 14  sc_h           2000 non-null   int64  \n",
      " 15  sc_w           2000 non-null   int64  \n",
      " 16  talk_time      2000 non-null   int64  \n",
      " 17  three_g        2000 non-null   int64  \n",
      " 18  touch_screen   2000 non-null   int64  \n",
      " 19  wifi           2000 non-null   int64  \n",
      " 20  price_range    2000 non-null   int64  \n",
      "dtypes: float64(2), int64(19)\n",
      "memory usage: 328.2 KB\n"
     ]
    }
   ],
   "source": [
    "df_train.info()"
   ]
  },
  {
   "cell_type": "code",
   "execution_count": 6,
   "id": "radio-andorra",
   "metadata": {
    "execution": {
     "iopub.execute_input": "2021-06-17T02:42:27.675572Z",
     "iopub.status.busy": "2021-06-17T02:42:27.674513Z",
     "iopub.status.idle": "2021-06-17T02:42:27.697142Z",
     "shell.execute_reply": "2021-06-17T02:42:27.696358Z",
     "shell.execute_reply.started": "2021-06-17T02:10:14.360494Z"
    },
    "papermill": {
     "duration": 0.077543,
     "end_time": "2021-06-17T02:42:27.697334",
     "exception": false,
     "start_time": "2021-06-17T02:42:27.619791",
     "status": "completed"
    },
    "tags": []
   },
   "outputs": [
    {
     "data": {
      "text/html": [
       "<div>\n",
       "<style scoped>\n",
       "    .dataframe tbody tr th:only-of-type {\n",
       "        vertical-align: middle;\n",
       "    }\n",
       "\n",
       "    .dataframe tbody tr th {\n",
       "        vertical-align: top;\n",
       "    }\n",
       "\n",
       "    .dataframe thead th {\n",
       "        text-align: right;\n",
       "    }\n",
       "</style>\n",
       "<table border=\"1\" class=\"dataframe\">\n",
       "  <thead>\n",
       "    <tr style=\"text-align: right;\">\n",
       "      <th></th>\n",
       "      <th>id</th>\n",
       "      <th>battery_power</th>\n",
       "      <th>blue</th>\n",
       "      <th>clock_speed</th>\n",
       "      <th>dual_sim</th>\n",
       "      <th>fc</th>\n",
       "      <th>four_g</th>\n",
       "      <th>int_memory</th>\n",
       "      <th>m_dep</th>\n",
       "      <th>mobile_wt</th>\n",
       "      <th>...</th>\n",
       "      <th>pc</th>\n",
       "      <th>px_height</th>\n",
       "      <th>px_width</th>\n",
       "      <th>ram</th>\n",
       "      <th>sc_h</th>\n",
       "      <th>sc_w</th>\n",
       "      <th>talk_time</th>\n",
       "      <th>three_g</th>\n",
       "      <th>touch_screen</th>\n",
       "      <th>wifi</th>\n",
       "    </tr>\n",
       "  </thead>\n",
       "  <tbody>\n",
       "    <tr>\n",
       "      <th>995</th>\n",
       "      <td>996</td>\n",
       "      <td>1700</td>\n",
       "      <td>1</td>\n",
       "      <td>1.9</td>\n",
       "      <td>0</td>\n",
       "      <td>0</td>\n",
       "      <td>1</td>\n",
       "      <td>54</td>\n",
       "      <td>0.5</td>\n",
       "      <td>170</td>\n",
       "      <td>...</td>\n",
       "      <td>17</td>\n",
       "      <td>644</td>\n",
       "      <td>913</td>\n",
       "      <td>2121</td>\n",
       "      <td>14</td>\n",
       "      <td>8</td>\n",
       "      <td>15</td>\n",
       "      <td>1</td>\n",
       "      <td>1</td>\n",
       "      <td>0</td>\n",
       "    </tr>\n",
       "    <tr>\n",
       "      <th>996</th>\n",
       "      <td>997</td>\n",
       "      <td>609</td>\n",
       "      <td>0</td>\n",
       "      <td>1.8</td>\n",
       "      <td>1</td>\n",
       "      <td>0</td>\n",
       "      <td>0</td>\n",
       "      <td>13</td>\n",
       "      <td>0.9</td>\n",
       "      <td>186</td>\n",
       "      <td>...</td>\n",
       "      <td>2</td>\n",
       "      <td>1152</td>\n",
       "      <td>1632</td>\n",
       "      <td>1933</td>\n",
       "      <td>8</td>\n",
       "      <td>1</td>\n",
       "      <td>19</td>\n",
       "      <td>0</td>\n",
       "      <td>1</td>\n",
       "      <td>1</td>\n",
       "    </tr>\n",
       "    <tr>\n",
       "      <th>997</th>\n",
       "      <td>998</td>\n",
       "      <td>1185</td>\n",
       "      <td>0</td>\n",
       "      <td>1.4</td>\n",
       "      <td>0</td>\n",
       "      <td>1</td>\n",
       "      <td>1</td>\n",
       "      <td>8</td>\n",
       "      <td>0.5</td>\n",
       "      <td>80</td>\n",
       "      <td>...</td>\n",
       "      <td>12</td>\n",
       "      <td>477</td>\n",
       "      <td>825</td>\n",
       "      <td>1223</td>\n",
       "      <td>5</td>\n",
       "      <td>0</td>\n",
       "      <td>14</td>\n",
       "      <td>1</td>\n",
       "      <td>0</td>\n",
       "      <td>0</td>\n",
       "    </tr>\n",
       "    <tr>\n",
       "      <th>998</th>\n",
       "      <td>999</td>\n",
       "      <td>1533</td>\n",
       "      <td>1</td>\n",
       "      <td>0.5</td>\n",
       "      <td>1</td>\n",
       "      <td>0</td>\n",
       "      <td>0</td>\n",
       "      <td>50</td>\n",
       "      <td>0.4</td>\n",
       "      <td>171</td>\n",
       "      <td>...</td>\n",
       "      <td>12</td>\n",
       "      <td>38</td>\n",
       "      <td>832</td>\n",
       "      <td>2509</td>\n",
       "      <td>15</td>\n",
       "      <td>11</td>\n",
       "      <td>6</td>\n",
       "      <td>0</td>\n",
       "      <td>1</td>\n",
       "      <td>0</td>\n",
       "    </tr>\n",
       "    <tr>\n",
       "      <th>999</th>\n",
       "      <td>1000</td>\n",
       "      <td>1270</td>\n",
       "      <td>1</td>\n",
       "      <td>0.5</td>\n",
       "      <td>0</td>\n",
       "      <td>4</td>\n",
       "      <td>1</td>\n",
       "      <td>35</td>\n",
       "      <td>0.1</td>\n",
       "      <td>140</td>\n",
       "      <td>...</td>\n",
       "      <td>19</td>\n",
       "      <td>457</td>\n",
       "      <td>608</td>\n",
       "      <td>2828</td>\n",
       "      <td>9</td>\n",
       "      <td>2</td>\n",
       "      <td>3</td>\n",
       "      <td>1</td>\n",
       "      <td>0</td>\n",
       "      <td>1</td>\n",
       "    </tr>\n",
       "  </tbody>\n",
       "</table>\n",
       "<p>5 rows × 21 columns</p>\n",
       "</div>"
      ],
      "text/plain": [
       "       id  battery_power  blue  clock_speed  dual_sim  fc  four_g  int_memory  \\\n",
       "995   996           1700     1          1.9         0   0       1          54   \n",
       "996   997            609     0          1.8         1   0       0          13   \n",
       "997   998           1185     0          1.4         0   1       1           8   \n",
       "998   999           1533     1          0.5         1   0       0          50   \n",
       "999  1000           1270     1          0.5         0   4       1          35   \n",
       "\n",
       "     m_dep  mobile_wt  ...  pc  px_height  px_width   ram  sc_h  sc_w  \\\n",
       "995    0.5        170  ...  17        644       913  2121    14     8   \n",
       "996    0.9        186  ...   2       1152      1632  1933     8     1   \n",
       "997    0.5         80  ...  12        477       825  1223     5     0   \n",
       "998    0.4        171  ...  12         38       832  2509    15    11   \n",
       "999    0.1        140  ...  19        457       608  2828     9     2   \n",
       "\n",
       "     talk_time  three_g  touch_screen  wifi  \n",
       "995         15        1             1     0  \n",
       "996         19        0             1     1  \n",
       "997         14        1             0     0  \n",
       "998          6        0             1     0  \n",
       "999          3        1             0     1  \n",
       "\n",
       "[5 rows x 21 columns]"
      ]
     },
     "execution_count": 6,
     "metadata": {},
     "output_type": "execute_result"
    }
   ],
   "source": [
    "df_test.tail()"
   ]
  },
  {
   "cell_type": "code",
   "execution_count": 7,
   "id": "broken-sentence",
   "metadata": {
    "execution": {
     "iopub.execute_input": "2021-06-17T02:42:27.795232Z",
     "iopub.status.busy": "2021-06-17T02:42:27.794512Z",
     "iopub.status.idle": "2021-06-17T02:42:27.863981Z",
     "shell.execute_reply": "2021-06-17T02:42:27.863406Z",
     "shell.execute_reply.started": "2021-06-17T01:28:01.054391Z"
    },
    "papermill": {
     "duration": 0.114655,
     "end_time": "2021-06-17T02:42:27.864133",
     "exception": false,
     "start_time": "2021-06-17T02:42:27.749478",
     "status": "completed"
    },
    "tags": []
   },
   "outputs": [
    {
     "data": {
      "text/html": [
       "<div>\n",
       "<style scoped>\n",
       "    .dataframe tbody tr th:only-of-type {\n",
       "        vertical-align: middle;\n",
       "    }\n",
       "\n",
       "    .dataframe tbody tr th {\n",
       "        vertical-align: top;\n",
       "    }\n",
       "\n",
       "    .dataframe thead th {\n",
       "        text-align: right;\n",
       "    }\n",
       "</style>\n",
       "<table border=\"1\" class=\"dataframe\">\n",
       "  <thead>\n",
       "    <tr style=\"text-align: right;\">\n",
       "      <th></th>\n",
       "      <th>count</th>\n",
       "      <th>mean</th>\n",
       "      <th>std</th>\n",
       "      <th>min</th>\n",
       "      <th>25%</th>\n",
       "      <th>50%</th>\n",
       "      <th>75%</th>\n",
       "      <th>max</th>\n",
       "    </tr>\n",
       "  </thead>\n",
       "  <tbody>\n",
       "    <tr>\n",
       "      <th>battery_power</th>\n",
       "      <td>2000.0</td>\n",
       "      <td>1238.51850</td>\n",
       "      <td>439.418206</td>\n",
       "      <td>501.0</td>\n",
       "      <td>851.75</td>\n",
       "      <td>1226.0</td>\n",
       "      <td>1615.25</td>\n",
       "      <td>1998.0</td>\n",
       "    </tr>\n",
       "    <tr>\n",
       "      <th>blue</th>\n",
       "      <td>2000.0</td>\n",
       "      <td>0.49500</td>\n",
       "      <td>0.500100</td>\n",
       "      <td>0.0</td>\n",
       "      <td>0.00</td>\n",
       "      <td>0.0</td>\n",
       "      <td>1.00</td>\n",
       "      <td>1.0</td>\n",
       "    </tr>\n",
       "    <tr>\n",
       "      <th>clock_speed</th>\n",
       "      <td>2000.0</td>\n",
       "      <td>1.52225</td>\n",
       "      <td>0.816004</td>\n",
       "      <td>0.5</td>\n",
       "      <td>0.70</td>\n",
       "      <td>1.5</td>\n",
       "      <td>2.20</td>\n",
       "      <td>3.0</td>\n",
       "    </tr>\n",
       "    <tr>\n",
       "      <th>dual_sim</th>\n",
       "      <td>2000.0</td>\n",
       "      <td>0.50950</td>\n",
       "      <td>0.500035</td>\n",
       "      <td>0.0</td>\n",
       "      <td>0.00</td>\n",
       "      <td>1.0</td>\n",
       "      <td>1.00</td>\n",
       "      <td>1.0</td>\n",
       "    </tr>\n",
       "    <tr>\n",
       "      <th>fc</th>\n",
       "      <td>2000.0</td>\n",
       "      <td>4.30950</td>\n",
       "      <td>4.341444</td>\n",
       "      <td>0.0</td>\n",
       "      <td>1.00</td>\n",
       "      <td>3.0</td>\n",
       "      <td>7.00</td>\n",
       "      <td>19.0</td>\n",
       "    </tr>\n",
       "    <tr>\n",
       "      <th>four_g</th>\n",
       "      <td>2000.0</td>\n",
       "      <td>0.52150</td>\n",
       "      <td>0.499662</td>\n",
       "      <td>0.0</td>\n",
       "      <td>0.00</td>\n",
       "      <td>1.0</td>\n",
       "      <td>1.00</td>\n",
       "      <td>1.0</td>\n",
       "    </tr>\n",
       "    <tr>\n",
       "      <th>int_memory</th>\n",
       "      <td>2000.0</td>\n",
       "      <td>32.04650</td>\n",
       "      <td>18.145715</td>\n",
       "      <td>2.0</td>\n",
       "      <td>16.00</td>\n",
       "      <td>32.0</td>\n",
       "      <td>48.00</td>\n",
       "      <td>64.0</td>\n",
       "    </tr>\n",
       "    <tr>\n",
       "      <th>m_dep</th>\n",
       "      <td>2000.0</td>\n",
       "      <td>0.50175</td>\n",
       "      <td>0.288416</td>\n",
       "      <td>0.1</td>\n",
       "      <td>0.20</td>\n",
       "      <td>0.5</td>\n",
       "      <td>0.80</td>\n",
       "      <td>1.0</td>\n",
       "    </tr>\n",
       "    <tr>\n",
       "      <th>mobile_wt</th>\n",
       "      <td>2000.0</td>\n",
       "      <td>140.24900</td>\n",
       "      <td>35.399655</td>\n",
       "      <td>80.0</td>\n",
       "      <td>109.00</td>\n",
       "      <td>141.0</td>\n",
       "      <td>170.00</td>\n",
       "      <td>200.0</td>\n",
       "    </tr>\n",
       "    <tr>\n",
       "      <th>n_cores</th>\n",
       "      <td>2000.0</td>\n",
       "      <td>4.52050</td>\n",
       "      <td>2.287837</td>\n",
       "      <td>1.0</td>\n",
       "      <td>3.00</td>\n",
       "      <td>4.0</td>\n",
       "      <td>7.00</td>\n",
       "      <td>8.0</td>\n",
       "    </tr>\n",
       "    <tr>\n",
       "      <th>pc</th>\n",
       "      <td>2000.0</td>\n",
       "      <td>9.91650</td>\n",
       "      <td>6.064315</td>\n",
       "      <td>0.0</td>\n",
       "      <td>5.00</td>\n",
       "      <td>10.0</td>\n",
       "      <td>15.00</td>\n",
       "      <td>20.0</td>\n",
       "    </tr>\n",
       "    <tr>\n",
       "      <th>px_height</th>\n",
       "      <td>2000.0</td>\n",
       "      <td>645.10800</td>\n",
       "      <td>443.780811</td>\n",
       "      <td>0.0</td>\n",
       "      <td>282.75</td>\n",
       "      <td>564.0</td>\n",
       "      <td>947.25</td>\n",
       "      <td>1960.0</td>\n",
       "    </tr>\n",
       "    <tr>\n",
       "      <th>px_width</th>\n",
       "      <td>2000.0</td>\n",
       "      <td>1251.51550</td>\n",
       "      <td>432.199447</td>\n",
       "      <td>500.0</td>\n",
       "      <td>874.75</td>\n",
       "      <td>1247.0</td>\n",
       "      <td>1633.00</td>\n",
       "      <td>1998.0</td>\n",
       "    </tr>\n",
       "    <tr>\n",
       "      <th>ram</th>\n",
       "      <td>2000.0</td>\n",
       "      <td>2124.21300</td>\n",
       "      <td>1084.732044</td>\n",
       "      <td>256.0</td>\n",
       "      <td>1207.50</td>\n",
       "      <td>2146.5</td>\n",
       "      <td>3064.50</td>\n",
       "      <td>3998.0</td>\n",
       "    </tr>\n",
       "    <tr>\n",
       "      <th>sc_h</th>\n",
       "      <td>2000.0</td>\n",
       "      <td>12.30650</td>\n",
       "      <td>4.213245</td>\n",
       "      <td>5.0</td>\n",
       "      <td>9.00</td>\n",
       "      <td>12.0</td>\n",
       "      <td>16.00</td>\n",
       "      <td>19.0</td>\n",
       "    </tr>\n",
       "    <tr>\n",
       "      <th>sc_w</th>\n",
       "      <td>2000.0</td>\n",
       "      <td>5.76700</td>\n",
       "      <td>4.356398</td>\n",
       "      <td>0.0</td>\n",
       "      <td>2.00</td>\n",
       "      <td>5.0</td>\n",
       "      <td>9.00</td>\n",
       "      <td>18.0</td>\n",
       "    </tr>\n",
       "    <tr>\n",
       "      <th>talk_time</th>\n",
       "      <td>2000.0</td>\n",
       "      <td>11.01100</td>\n",
       "      <td>5.463955</td>\n",
       "      <td>2.0</td>\n",
       "      <td>6.00</td>\n",
       "      <td>11.0</td>\n",
       "      <td>16.00</td>\n",
       "      <td>20.0</td>\n",
       "    </tr>\n",
       "    <tr>\n",
       "      <th>three_g</th>\n",
       "      <td>2000.0</td>\n",
       "      <td>0.76150</td>\n",
       "      <td>0.426273</td>\n",
       "      <td>0.0</td>\n",
       "      <td>1.00</td>\n",
       "      <td>1.0</td>\n",
       "      <td>1.00</td>\n",
       "      <td>1.0</td>\n",
       "    </tr>\n",
       "    <tr>\n",
       "      <th>touch_screen</th>\n",
       "      <td>2000.0</td>\n",
       "      <td>0.50300</td>\n",
       "      <td>0.500116</td>\n",
       "      <td>0.0</td>\n",
       "      <td>0.00</td>\n",
       "      <td>1.0</td>\n",
       "      <td>1.00</td>\n",
       "      <td>1.0</td>\n",
       "    </tr>\n",
       "    <tr>\n",
       "      <th>wifi</th>\n",
       "      <td>2000.0</td>\n",
       "      <td>0.50700</td>\n",
       "      <td>0.500076</td>\n",
       "      <td>0.0</td>\n",
       "      <td>0.00</td>\n",
       "      <td>1.0</td>\n",
       "      <td>1.00</td>\n",
       "      <td>1.0</td>\n",
       "    </tr>\n",
       "    <tr>\n",
       "      <th>price_range</th>\n",
       "      <td>2000.0</td>\n",
       "      <td>1.50000</td>\n",
       "      <td>1.118314</td>\n",
       "      <td>0.0</td>\n",
       "      <td>0.75</td>\n",
       "      <td>1.5</td>\n",
       "      <td>2.25</td>\n",
       "      <td>3.0</td>\n",
       "    </tr>\n",
       "  </tbody>\n",
       "</table>\n",
       "</div>"
      ],
      "text/plain": [
       "                count        mean          std    min      25%     50%  \\\n",
       "battery_power  2000.0  1238.51850   439.418206  501.0   851.75  1226.0   \n",
       "blue           2000.0     0.49500     0.500100    0.0     0.00     0.0   \n",
       "clock_speed    2000.0     1.52225     0.816004    0.5     0.70     1.5   \n",
       "dual_sim       2000.0     0.50950     0.500035    0.0     0.00     1.0   \n",
       "fc             2000.0     4.30950     4.341444    0.0     1.00     3.0   \n",
       "four_g         2000.0     0.52150     0.499662    0.0     0.00     1.0   \n",
       "int_memory     2000.0    32.04650    18.145715    2.0    16.00    32.0   \n",
       "m_dep          2000.0     0.50175     0.288416    0.1     0.20     0.5   \n",
       "mobile_wt      2000.0   140.24900    35.399655   80.0   109.00   141.0   \n",
       "n_cores        2000.0     4.52050     2.287837    1.0     3.00     4.0   \n",
       "pc             2000.0     9.91650     6.064315    0.0     5.00    10.0   \n",
       "px_height      2000.0   645.10800   443.780811    0.0   282.75   564.0   \n",
       "px_width       2000.0  1251.51550   432.199447  500.0   874.75  1247.0   \n",
       "ram            2000.0  2124.21300  1084.732044  256.0  1207.50  2146.5   \n",
       "sc_h           2000.0    12.30650     4.213245    5.0     9.00    12.0   \n",
       "sc_w           2000.0     5.76700     4.356398    0.0     2.00     5.0   \n",
       "talk_time      2000.0    11.01100     5.463955    2.0     6.00    11.0   \n",
       "three_g        2000.0     0.76150     0.426273    0.0     1.00     1.0   \n",
       "touch_screen   2000.0     0.50300     0.500116    0.0     0.00     1.0   \n",
       "wifi           2000.0     0.50700     0.500076    0.0     0.00     1.0   \n",
       "price_range    2000.0     1.50000     1.118314    0.0     0.75     1.5   \n",
       "\n",
       "                   75%     max  \n",
       "battery_power  1615.25  1998.0  \n",
       "blue              1.00     1.0  \n",
       "clock_speed       2.20     3.0  \n",
       "dual_sim          1.00     1.0  \n",
       "fc                7.00    19.0  \n",
       "four_g            1.00     1.0  \n",
       "int_memory       48.00    64.0  \n",
       "m_dep             0.80     1.0  \n",
       "mobile_wt       170.00   200.0  \n",
       "n_cores           7.00     8.0  \n",
       "pc               15.00    20.0  \n",
       "px_height       947.25  1960.0  \n",
       "px_width       1633.00  1998.0  \n",
       "ram            3064.50  3998.0  \n",
       "sc_h             16.00    19.0  \n",
       "sc_w              9.00    18.0  \n",
       "talk_time        16.00    20.0  \n",
       "three_g           1.00     1.0  \n",
       "touch_screen      1.00     1.0  \n",
       "wifi              1.00     1.0  \n",
       "price_range       2.25     3.0  "
      ]
     },
     "execution_count": 7,
     "metadata": {},
     "output_type": "execute_result"
    }
   ],
   "source": [
    "df_train.describe().T"
   ]
  },
  {
   "cell_type": "code",
   "execution_count": 8,
   "id": "blind-harvard",
   "metadata": {
    "execution": {
     "iopub.execute_input": "2021-06-17T02:42:27.944952Z",
     "iopub.status.busy": "2021-06-17T02:42:27.944266Z",
     "iopub.status.idle": "2021-06-17T02:42:27.948308Z",
     "shell.execute_reply": "2021-06-17T02:42:27.948779Z",
     "shell.execute_reply.started": "2021-06-17T01:26:14.909472Z"
    },
    "papermill": {
     "duration": 0.048388,
     "end_time": "2021-06-17T02:42:27.948956",
     "exception": false,
     "start_time": "2021-06-17T02:42:27.900568",
     "status": "completed"
    },
    "tags": []
   },
   "outputs": [
    {
     "data": {
      "text/plain": [
       "battery_power    0\n",
       "blue             0\n",
       "clock_speed      0\n",
       "dual_sim         0\n",
       "fc               0\n",
       "four_g           0\n",
       "int_memory       0\n",
       "m_dep            0\n",
       "mobile_wt        0\n",
       "n_cores          0\n",
       "pc               0\n",
       "px_height        0\n",
       "px_width         0\n",
       "ram              0\n",
       "sc_h             0\n",
       "sc_w             0\n",
       "talk_time        0\n",
       "three_g          0\n",
       "touch_screen     0\n",
       "wifi             0\n",
       "price_range      0\n",
       "dtype: int64"
      ]
     },
     "execution_count": 8,
     "metadata": {},
     "output_type": "execute_result"
    }
   ],
   "source": [
    "df_train.isnull().sum()"
   ]
  },
  {
   "cell_type": "code",
   "execution_count": 9,
   "id": "breeding-engagement",
   "metadata": {
    "execution": {
     "iopub.execute_input": "2021-06-17T02:42:28.029893Z",
     "iopub.status.busy": "2021-06-17T02:42:28.029225Z",
     "iopub.status.idle": "2021-06-17T02:42:28.033221Z",
     "shell.execute_reply": "2021-06-17T02:42:28.032595Z",
     "shell.execute_reply.started": "2021-06-17T01:28:56.717612Z"
    },
    "papermill": {
     "duration": 0.045885,
     "end_time": "2021-06-17T02:42:28.033359",
     "exception": false,
     "start_time": "2021-06-17T02:42:27.987474",
     "status": "completed"
    },
    "tags": []
   },
   "outputs": [
    {
     "data": {
      "text/plain": [
       "Index(['battery_power', 'blue', 'clock_speed', 'dual_sim', 'fc', 'four_g',\n",
       "       'int_memory', 'm_dep', 'mobile_wt', 'n_cores', 'pc', 'px_height',\n",
       "       'px_width', 'ram', 'sc_h', 'sc_w', 'talk_time', 'three_g',\n",
       "       'touch_screen', 'wifi', 'price_range'],\n",
       "      dtype='object')"
      ]
     },
     "execution_count": 9,
     "metadata": {},
     "output_type": "execute_result"
    }
   ],
   "source": [
    "df_train.columns"
   ]
  },
  {
   "cell_type": "code",
   "execution_count": 10,
   "id": "composite-language",
   "metadata": {
    "execution": {
     "iopub.execute_input": "2021-06-17T02:42:28.114279Z",
     "iopub.status.busy": "2021-06-17T02:42:28.113571Z",
     "iopub.status.idle": "2021-06-17T02:42:28.116081Z",
     "shell.execute_reply": "2021-06-17T02:42:28.116566Z",
     "shell.execute_reply.started": "2021-06-17T01:59:22.102651Z"
    },
    "papermill": {
     "duration": 0.045693,
     "end_time": "2021-06-17T02:42:28.116733",
     "exception": false,
     "start_time": "2021-06-17T02:42:28.071040",
     "status": "completed"
    },
    "tags": []
   },
   "outputs": [],
   "source": [
    "cat_cols = ['blue', 'dual_sim', 'four_g', 'n_cores', 'three_g', 'touch_screen', 'wifi']"
   ]
  },
  {
   "cell_type": "code",
   "execution_count": 11,
   "id": "occupational-corporation",
   "metadata": {
    "execution": {
     "iopub.execute_input": "2021-06-17T02:42:28.196138Z",
     "iopub.status.busy": "2021-06-17T02:42:28.195464Z",
     "iopub.status.idle": "2021-06-17T02:42:28.270377Z",
     "shell.execute_reply": "2021-06-17T02:42:28.269410Z",
     "shell.execute_reply.started": "2021-06-17T01:59:22.109930Z"
    },
    "papermill": {
     "duration": 0.116183,
     "end_time": "2021-06-17T02:42:28.270592",
     "exception": false,
     "start_time": "2021-06-17T02:42:28.154409",
     "status": "completed"
    },
    "tags": []
   },
   "outputs": [
    {
     "ename": "NameError",
     "evalue": "name 'cat_feat' is not defined",
     "output_type": "error",
     "traceback": [
      "\u001b[0;31m---------------------------------------------------------------------------\u001b[0m",
      "\u001b[0;31mNameError\u001b[0m                                 Traceback (most recent call last)",
      "\u001b[0;32m<ipython-input-11-ecc8b68e0852>\u001b[0m in \u001b[0;36m<module>\u001b[0;34m\u001b[0m\n\u001b[0;32m----> 1\u001b[0;31m \u001b[0mdf_train\u001b[0m\u001b[0;34m[\u001b[0m\u001b[0mcat_cols\u001b[0m\u001b[0;34m]\u001b[0m \u001b[0;34m=\u001b[0m \u001b[0mdf_train\u001b[0m\u001b[0;34m[\u001b[0m\u001b[0mcat_feat\u001b[0m\u001b[0;34m]\u001b[0m\u001b[0;34m.\u001b[0m\u001b[0mastype\u001b[0m\u001b[0;34m(\u001b[0m\u001b[0;34m'category'\u001b[0m\u001b[0;34m)\u001b[0m\u001b[0;34m\u001b[0m\u001b[0;34m\u001b[0m\u001b[0m\n\u001b[0m",
      "\u001b[0;31mNameError\u001b[0m: name 'cat_feat' is not defined"
     ]
    }
   ],
   "source": [
    "df_train[cat_cols] = df_train[cat_feat].astype('category')"
   ]
  },
  {
   "cell_type": "code",
   "execution_count": 12,
   "id": "ancient-immunology",
   "metadata": {
    "execution": {
     "iopub.execute_input": "2021-06-17T02:42:28.351365Z",
     "iopub.status.busy": "2021-06-17T02:42:28.350757Z",
     "iopub.status.idle": "2021-06-17T02:42:28.353658Z",
     "shell.execute_reply": "2021-06-17T02:42:28.354153Z",
     "shell.execute_reply.started": "2021-06-17T01:59:22.128048Z"
    },
    "papermill": {
     "duration": 0.045691,
     "end_time": "2021-06-17T02:42:28.354312",
     "exception": false,
     "start_time": "2021-06-17T02:42:28.308621",
     "status": "completed"
    },
    "tags": []
   },
   "outputs": [],
   "source": [
    "num_cols = ['battery_power', 'clock_speed', 'fc','int_memory', 'm_dep', 'mobile_wt', \n",
    "            'pc', 'px_height', 'px_width', 'ram', 'sc_h', 'sc_w', 'talk_time']"
   ]
  },
  {
   "cell_type": "code",
   "execution_count": 13,
   "id": "attempted-shore",
   "metadata": {
    "execution": {
     "iopub.execute_input": "2021-06-17T02:42:28.434050Z",
     "iopub.status.busy": "2021-06-17T02:42:28.433379Z",
     "iopub.status.idle": "2021-06-17T02:42:28.436564Z",
     "shell.execute_reply": "2021-06-17T02:42:28.435938Z",
     "shell.execute_reply.started": "2021-06-17T02:06:01.851312Z"
    },
    "papermill": {
     "duration": 0.044716,
     "end_time": "2021-06-17T02:42:28.436698",
     "exception": false,
     "start_time": "2021-06-17T02:42:28.391982",
     "status": "completed"
    },
    "tags": []
   },
   "outputs": [],
   "source": [
    "labels = df_train['price_range']"
   ]
  },
  {
   "cell_type": "code",
   "execution_count": 14,
   "id": "powerful-contact",
   "metadata": {
    "execution": {
     "iopub.execute_input": "2021-06-17T02:42:28.519612Z",
     "iopub.status.busy": "2021-06-17T02:42:28.518925Z",
     "iopub.status.idle": "2021-06-17T02:42:28.681042Z",
     "shell.execute_reply": "2021-06-17T02:42:28.680401Z",
     "shell.execute_reply.started": "2021-06-17T01:50:53.166665Z"
    },
    "papermill": {
     "duration": 0.20664,
     "end_time": "2021-06-17T02:42:28.681176",
     "exception": false,
     "start_time": "2021-06-17T02:42:28.474536",
     "status": "completed"
    },
    "tags": []
   },
   "outputs": [
    {
     "data": {
      "image/png": "[encoded data removed]",
      "text/plain": [
       "<Figure size 720x360 with 1 Axes>"
      ]
     },
     "metadata": {
      "needs_background": "light"
     },
     "output_type": "display_data"
    }
   ],
   "source": [
    "plt.figure(figsize=(10,5))\n",
    "sns.countplot(data=df_train, x='price_range')\n",
    "plt.title('Price Range distribution across data', fontsize=12)\n",
    "plt.xlabel('Price Range', fontsize=10)\n",
    "plt.ylabel('Frequency', )\n",
    "plt.show()"
   ]
  },
  {
   "cell_type": "code",
   "execution_count": 15,
   "id": "mobile-canberra",
   "metadata": {
    "execution": {
     "iopub.execute_input": "2021-06-17T02:42:28.771471Z",
     "iopub.status.busy": "2021-06-17T02:42:28.770524Z",
     "iopub.status.idle": "2021-06-17T02:42:28.779462Z",
     "shell.execute_reply": "2021-06-17T02:42:28.778940Z",
     "shell.execute_reply.started": "2021-06-17T01:50:55.181996Z"
    },
    "papermill": {
     "duration": 0.059114,
     "end_time": "2021-06-17T02:42:28.779604",
     "exception": false,
     "start_time": "2021-06-17T02:42:28.720490",
     "status": "completed"
    },
    "tags": []
   },
   "outputs": [
    {
     "ename": "NameError",
     "evalue": "name 'num_feat' is not defined",
     "output_type": "error",
     "traceback": [
      "\u001b[0;31m---------------------------------------------------------------------------\u001b[0m",
      "\u001b[0;31mNameError\u001b[0m                                 Traceback (most recent call last)",
      "\u001b[0;32m<ipython-input-15-9a6c48e8507f>\u001b[0m in \u001b[0;36m<module>\u001b[0;34m\u001b[0m\n\u001b[0;32m----> 1\u001b[0;31m \u001b[0mcorrPear\u001b[0m \u001b[0;34m=\u001b[0m \u001b[0mdf_train\u001b[0m\u001b[0;34m[\u001b[0m\u001b[0mnum_feat\u001b[0m\u001b[0;34m]\u001b[0m\u001b[0;34m.\u001b[0m\u001b[0mcorr\u001b[0m\u001b[0;34m(\u001b[0m\u001b[0mmethod\u001b[0m\u001b[0;34m=\u001b[0m\u001b[0;34m'pearson'\u001b[0m\u001b[0;34m)\u001b[0m\u001b[0;34m\u001b[0m\u001b[0;34m\u001b[0m\u001b[0m\n\u001b[0m\u001b[1;32m      2\u001b[0m \u001b[0mcorrSpea\u001b[0m \u001b[0;34m=\u001b[0m \u001b[0mdf_train\u001b[0m\u001b[0;34m[\u001b[0m\u001b[0mnum_feat\u001b[0m\u001b[0;34m]\u001b[0m\u001b[0;34m.\u001b[0m\u001b[0mcorr\u001b[0m\u001b[0;34m(\u001b[0m\u001b[0mmethod\u001b[0m\u001b[0;34m=\u001b[0m\u001b[0;34m'spearman'\u001b[0m\u001b[0;34m)\u001b[0m\u001b[0;34m\u001b[0m\u001b[0;34m\u001b[0m\u001b[0m\n",
      "\u001b[0;31mNameError\u001b[0m: name 'num_feat' is not defined"
     ]
    }
   ],
   "source": [
    "corrPear = df_train[num_feat].corr(method='pearson')\n",
    "corrSpea = df_train[num_feat].corr(method='spearman')"
   ]
  },
  {
   "cell_type": "code",
   "execution_count": 16,
   "id": "private-valley",
   "metadata": {
    "execution": {
     "iopub.execute_input": "2021-06-17T02:42:28.871720Z",
     "iopub.status.busy": "2021-06-17T02:42:28.870139Z",
     "iopub.status.idle": "2021-06-17T02:42:28.878857Z",
     "shell.execute_reply": "2021-06-17T02:42:28.878323Z",
     "shell.execute_reply.started": "2021-06-17T01:50:55.389844Z"
    },
    "papermill": {
     "duration": 0.060868,
     "end_time": "2021-06-17T02:42:28.878995",
     "exception": false,
     "start_time": "2021-06-17T02:42:28.818127",
     "status": "completed"
    },
    "tags": []
   },
   "outputs": [
    {
     "ename": "NameError",
     "evalue": "name 'corrPear' is not defined",
     "output_type": "error",
     "traceback": [
      "\u001b[0;31m---------------------------------------------------------------------------\u001b[0m",
      "\u001b[0;31mNameError\u001b[0m                                 Traceback (most recent call last)",
      "\u001b[0;32m<ipython-input-16-88da2a02f20e>\u001b[0m in \u001b[0;36m<module>\u001b[0;34m\u001b[0m\n\u001b[1;32m      1\u001b[0m \u001b[0mplt\u001b[0m\u001b[0;34m.\u001b[0m\u001b[0mfigure\u001b[0m\u001b[0;34m(\u001b[0m\u001b[0mfigsize\u001b[0m\u001b[0;34m=\u001b[0m\u001b[0;34m(\u001b[0m\u001b[0;36m10\u001b[0m\u001b[0;34m,\u001b[0m\u001b[0;36m8\u001b[0m\u001b[0;34m)\u001b[0m\u001b[0;34m)\u001b[0m\u001b[0;34m\u001b[0m\u001b[0;34m\u001b[0m\u001b[0m\n\u001b[0;32m----> 2\u001b[0;31m \u001b[0msns\u001b[0m\u001b[0;34m.\u001b[0m\u001b[0mheatmap\u001b[0m\u001b[0;34m(\u001b[0m\u001b[0mcorrPear\u001b[0m\u001b[0;34m,\u001b[0m \u001b[0mannot\u001b[0m\u001b[0;34m=\u001b[0m\u001b[0;32mTrue\u001b[0m\u001b[0;34m)\u001b[0m\u001b[0;34m\u001b[0m\u001b[0;34m\u001b[0m\u001b[0m\n\u001b[0m\u001b[1;32m      3\u001b[0m \u001b[0mplt\u001b[0m\u001b[0;34m.\u001b[0m\u001b[0mxlabel\u001b[0m\u001b[0;34m(\u001b[0m\u001b[0;34m'columns'\u001b[0m\u001b[0;34m)\u001b[0m\u001b[0;34m\u001b[0m\u001b[0;34m\u001b[0m\u001b[0m\n\u001b[1;32m      4\u001b[0m \u001b[0mplt\u001b[0m\u001b[0;34m.\u001b[0m\u001b[0mylabel\u001b[0m\u001b[0;34m(\u001b[0m\u001b[0;34m'columns'\u001b[0m\u001b[0;34m)\u001b[0m\u001b[0;34m\u001b[0m\u001b[0;34m\u001b[0m\u001b[0m\n\u001b[1;32m      5\u001b[0m \u001b[0mplt\u001b[0m\u001b[0;34m.\u001b[0m\u001b[0mshow\u001b[0m\u001b[0;34m(\u001b[0m\u001b[0;34m)\u001b[0m\u001b[0;34m\u001b[0m\u001b[0;34m\u001b[0m\u001b[0m\n",
      "\u001b[0;31mNameError\u001b[0m: name 'corrPear' is not defined"
     ]
    },
    {
     "data": {
      "text/plain": [
       "<Figure size 720x576 with 0 Axes>"
      ]
     },
     "metadata": {},
     "output_type": "display_data"
    }
   ],
   "source": [
    "plt.figure(figsize=(10,8))\n",
    "sns.heatmap(corrPear, annot=True)\n",
    "plt.xlabel('columns')\n",
    "plt.ylabel('columns')\n",
    "plt.show()"
   ]
  },
  {
   "cell_type": "code",
   "execution_count": 17,
   "id": "settled-danger",
   "metadata": {
    "execution": {
     "iopub.execute_input": "2021-06-17T02:42:28.968671Z",
     "iopub.status.busy": "2021-06-17T02:42:28.968025Z",
     "iopub.status.idle": "2021-06-17T02:42:28.979812Z",
     "shell.execute_reply": "2021-06-17T02:42:28.979171Z",
     "shell.execute_reply.started": "2021-06-17T01:50:56.447592Z"
    },
    "papermill": {
     "duration": 0.061585,
     "end_time": "2021-06-17T02:42:28.980013",
     "exception": false,
     "start_time": "2021-06-17T02:42:28.918428",
     "status": "completed"
    },
    "tags": []
   },
   "outputs": [
    {
     "ename": "NameError",
     "evalue": "name 'corrSpea' is not defined",
     "output_type": "error",
     "traceback": [
      "\u001b[0;31m---------------------------------------------------------------------------\u001b[0m",
      "\u001b[0;31mNameError\u001b[0m                                 Traceback (most recent call last)",
      "\u001b[0;32m<ipython-input-17-6588d9640130>\u001b[0m in \u001b[0;36m<module>\u001b[0;34m\u001b[0m\n\u001b[1;32m      1\u001b[0m \u001b[0mplt\u001b[0m\u001b[0;34m.\u001b[0m\u001b[0mfigure\u001b[0m\u001b[0;34m(\u001b[0m\u001b[0mfigsize\u001b[0m\u001b[0;34m=\u001b[0m\u001b[0;34m(\u001b[0m\u001b[0;36m10\u001b[0m\u001b[0;34m,\u001b[0m\u001b[0;36m8\u001b[0m\u001b[0;34m)\u001b[0m\u001b[0;34m)\u001b[0m\u001b[0;34m\u001b[0m\u001b[0;34m\u001b[0m\u001b[0m\n\u001b[0;32m----> 2\u001b[0;31m \u001b[0msns\u001b[0m\u001b[0;34m.\u001b[0m\u001b[0mheatmap\u001b[0m\u001b[0;34m(\u001b[0m\u001b[0mcorrSpea\u001b[0m\u001b[0;34m,\u001b[0m \u001b[0mannot\u001b[0m\u001b[0;34m=\u001b[0m\u001b[0;32mTrue\u001b[0m\u001b[0;34m)\u001b[0m\u001b[0;34m\u001b[0m\u001b[0;34m\u001b[0m\u001b[0m\n\u001b[0m\u001b[1;32m      3\u001b[0m \u001b[0mplt\u001b[0m\u001b[0;34m.\u001b[0m\u001b[0mxlabel\u001b[0m\u001b[0;34m(\u001b[0m\u001b[0;34m'columns'\u001b[0m\u001b[0;34m)\u001b[0m\u001b[0;34m\u001b[0m\u001b[0;34m\u001b[0m\u001b[0m\n\u001b[1;32m      4\u001b[0m \u001b[0mplt\u001b[0m\u001b[0;34m.\u001b[0m\u001b[0mylabel\u001b[0m\u001b[0;34m(\u001b[0m\u001b[0;34m'columns'\u001b[0m\u001b[0;34m)\u001b[0m\u001b[0;34m\u001b[0m\u001b[0;34m\u001b[0m\u001b[0m\n\u001b[1;32m      5\u001b[0m \u001b[0mplt\u001b[0m\u001b[0;34m.\u001b[0m\u001b[0mshow\u001b[0m\u001b[0;34m(\u001b[0m\u001b[0;34m)\u001b[0m\u001b[0;34m\u001b[0m\u001b[0;34m\u001b[0m\u001b[0m\n",
      "\u001b[0;31mNameError\u001b[0m: name 'corrSpea' is not defined"
     ]
    },
    {
     "data": {
      "text/plain": [
       "<Figure size 720x576 with 0 Axes>"
      ]
     },
     "metadata": {},
     "output_type": "display_data"
    }
   ],
   "source": [
    "plt.figure(figsize=(10,8))\n",
    "sns.heatmap(corrSpea, annot=True)\n",
    "plt.xlabel('columns')\n",
    "plt.ylabel('columns')\n",
    "plt.show()"
   ]
  },
  {
   "cell_type": "code",
   "execution_count": 18,
   "id": "tamil-mount",
   "metadata": {
    "execution": {
     "iopub.execute_input": "2021-06-17T02:42:29.090100Z",
     "iopub.status.busy": "2021-06-17T02:42:29.089315Z",
     "iopub.status.idle": "2021-06-17T02:42:29.910279Z",
     "shell.execute_reply": "2021-06-17T02:42:29.909740Z",
     "shell.execute_reply.started": "2021-06-17T01:50:57.495054Z"
    },
    "papermill": {
     "duration": 0.889782,
     "end_time": "2021-06-17T02:42:29.910424",
     "exception": false,
     "start_time": "2021-06-17T02:42:29.020642",
     "status": "completed"
    },
    "tags": []
   },
   "outputs": [
    {
     "name": "stderr",
     "output_type": "stream",
     "text": [
      "/opt/conda/lib/python3.7/site-packages/seaborn/distributions.py:2557: FutureWarning: `distplot` is a deprecated function and will be removed in a future version. Please adapt your code to use either `displot` (a figure-level function with similar flexibility) or `histplot` (an axes-level function for histograms).\n",
      "  warnings.warn(msg, FutureWarning)\n",
      "/opt/conda/lib/python3.7/site-packages/seaborn/distributions.py:2557: FutureWarning: `distplot` is a deprecated function and will be removed in a future version. Please adapt your code to use either `displot` (a figure-level function with similar flexibility) or `histplot` (an axes-level function for histograms).\n",
      "  warnings.warn(msg, FutureWarning)\n",
      "/opt/conda/lib/python3.7/site-packages/seaborn/distributions.py:2557: FutureWarning: `distplot` is a deprecated function and will be removed in a future version. Please adapt your code to use either `displot` (a figure-level function with similar flexibility) or `histplot` (an axes-level function for histograms).\n",
      "  warnings.warn(msg, FutureWarning)\n",
      "/opt/conda/lib/python3.7/site-packages/seaborn/distributions.py:2557: FutureWarning: `distplot` is a deprecated function and will be removed in a future version. Please adapt your code to use either `displot` (a figure-level function with similar flexibility) or `histplot` (an axes-level function for histograms).\n",
      "  warnings.warn(msg, FutureWarning)\n"
     ]
    },
    {
     "data": {
      "image/png": "[encoded data removed]",
      "text/plain": [
       "<Figure size 1440x432 with 4 Axes>"
      ]
     },
     "metadata": {
      "needs_background": "light"
     },
     "output_type": "display_data"
    }
   ],
   "source": [
    "f, ax = plt.subplots(1, 4, figsize=(20,6))\n",
    "sns.distplot(df_train['battery_power'], fit=norm, color='#F65151', ax=ax[0])\n",
    "sns.distplot(df_train['clock_speed'], fit=norm, color='#DEF991', ax=ax[1])\n",
    "sns.distplot(df_train['fc'], fit=norm, color='#8ECAF7', ax=ax[2])\n",
    "sns.distplot(df_train['int_memory'], fit=norm, color='#DDA8F1', ax=ax[3])\n",
    "plt.show()"
   ]
  },
  {
   "cell_type": "code",
   "execution_count": 19,
   "id": "collectible-character",
   "metadata": {
    "execution": {
     "iopub.execute_input": "2021-06-17T02:42:30.042565Z",
     "iopub.status.busy": "2021-06-17T02:42:30.041841Z",
     "iopub.status.idle": "2021-06-17T02:42:30.695545Z",
     "shell.execute_reply": "2021-06-17T02:42:30.696033Z",
     "shell.execute_reply.started": "2021-06-17T01:51:39.829453Z"
    },
    "papermill": {
     "duration": 0.741986,
     "end_time": "2021-06-17T02:42:30.696194",
     "exception": false,
     "start_time": "2021-06-17T02:42:29.954208",
     "status": "completed"
    },
    "tags": []
   },
   "outputs": [
    {
     "name": "stderr",
     "output_type": "stream",
     "text": [
      "/opt/conda/lib/python3.7/site-packages/seaborn/distributions.py:2557: FutureWarning: `distplot` is a deprecated function and will be removed in a future version. Please adapt your code to use either `displot` (a figure-level function with similar flexibility) or `histplot` (an axes-level function for histograms).\n",
      "  warnings.warn(msg, FutureWarning)\n",
      "/opt/conda/lib/python3.7/site-packages/seaborn/distributions.py:2557: FutureWarning: `distplot` is a deprecated function and will be removed in a future version. Please adapt your code to use either `displot` (a figure-level function with similar flexibility) or `histplot` (an axes-level function for histograms).\n",
      "  warnings.warn(msg, FutureWarning)\n",
      "/opt/conda/lib/python3.7/site-packages/seaborn/distributions.py:2557: FutureWarning: `distplot` is a deprecated function and will be removed in a future version. Please adapt your code to use either `displot` (a figure-level function with similar flexibility) or `histplot` (an axes-level function for histograms).\n",
      "  warnings.warn(msg, FutureWarning)\n",
      "/opt/conda/lib/python3.7/site-packages/seaborn/distributions.py:2557: FutureWarning: `distplot` is a deprecated function and will be removed in a future version. Please adapt your code to use either `displot` (a figure-level function with similar flexibility) or `histplot` (an axes-level function for histograms).\n",
      "  warnings.warn(msg, FutureWarning)\n"
     ]
    },
    {
     "data": {
      "image/png": "[encoded data removed]",
      "text/plain": [
       "<Figure size 1440x432 with 4 Axes>"
      ]
     },
     "metadata": {
      "needs_background": "light"
     },
     "output_type": "display_data"
    }
   ],
   "source": [
    "f, ax = plt.subplots(1, 4, figsize=(20,6))\n",
    "sns.distplot(df_train['ram'], fit=norm, color='#F65151', ax=ax[0])\n",
    "sns.distplot(df_train['sc_h'], fit=norm, color='#DEF991', ax=ax[1])\n",
    "sns.distplot(df_train['sc_w'], fit=norm, color='#8ECAF7', ax=ax[2])\n",
    "sns.distplot(df_train['talk_time'], fit=norm, color='#DDA8F1', ax=ax[3])\n",
    "plt.show()"
   ]
  },
  {
   "cell_type": "code",
   "execution_count": 20,
   "id": "cloudy-leeds",
   "metadata": {
    "execution": {
     "iopub.execute_input": "2021-06-17T02:42:30.795481Z",
     "iopub.status.busy": "2021-06-17T02:42:30.794486Z",
     "iopub.status.idle": "2021-06-17T02:42:30.977764Z",
     "shell.execute_reply": "2021-06-17T02:42:30.977193Z",
     "shell.execute_reply.started": "2021-06-17T01:57:05.912791Z"
    },
    "papermill": {
     "duration": 0.235532,
     "end_time": "2021-06-17T02:42:30.977921",
     "exception": false,
     "start_time": "2021-06-17T02:42:30.742389",
     "status": "completed"
    },
    "tags": []
   },
   "outputs": [
    {
     "data": {
      "image/png": "[encoded data removed]",
      "text/plain": [
       "<Figure size 720x432 with 1 Axes>"
      ]
     },
     "metadata": {
      "needs_background": "light"
     },
     "output_type": "display_data"
    }
   ],
   "source": [
    "plt.figure(figsize=(10,6))\n",
    "sns.boxplot(data=df_train, x='price_range', y='ram')\n",
    "plt.show()"
   ]
  },
  {
   "cell_type": "code",
   "execution_count": 21,
   "id": "approximate-kinase",
   "metadata": {
    "execution": {
     "iopub.execute_input": "2021-06-17T02:42:31.096611Z",
     "iopub.status.busy": "2021-06-17T02:42:31.095387Z",
     "iopub.status.idle": "2021-06-17T02:42:31.652168Z",
     "shell.execute_reply": "2021-06-17T02:42:31.651603Z",
     "shell.execute_reply.started": "2021-06-17T01:56:04.585417Z"
    },
    "papermill": {
     "duration": 0.625745,
     "end_time": "2021-06-17T02:42:31.652308",
     "exception": false,
     "start_time": "2021-06-17T02:42:31.026563",
     "status": "completed"
    },
    "tags": []
   },
   "outputs": [
    {
     "data": {
      "image/png": "[encoded data removed]",
      "text/plain": [
       "<Figure size 1440x432 with 4 Axes>"
      ]
     },
     "metadata": {
      "needs_background": "light"
     },
     "output_type": "display_data"
    }
   ],
   "source": [
    "f, ax = plt.subplots(1, 4, figsize=(20,6))\n",
    "sns.countplot(data=df_train, x='blue', hue='price_range', ax=ax[0])\n",
    "sns.countplot(data=df_train, x='four_g', ax=ax[1])\n",
    "sns.countplot(data=df_train, x='wifi', ax=ax[2])\n",
    "sns.countplot(data=df_train, x='n_cores', ax=ax[3])\n",
    "plt.show()"
   ]
  },
  {
   "cell_type": "code",
   "execution_count": 22,
   "id": "attempted-arbitration",
   "metadata": {
    "execution": {
     "iopub.execute_input": "2021-06-17T02:42:31.756819Z",
     "iopub.status.busy": "2021-06-17T02:42:31.756067Z",
     "iopub.status.idle": "2021-06-17T02:42:31.758458Z",
     "shell.execute_reply": "2021-06-17T02:42:31.758981Z",
     "shell.execute_reply.started": "2021-06-17T02:01:37.958304Z"
    },
    "papermill": {
     "duration": 0.058688,
     "end_time": "2021-06-17T02:42:31.759149",
     "exception": false,
     "start_time": "2021-06-17T02:42:31.700461",
     "status": "completed"
    },
    "tags": []
   },
   "outputs": [],
   "source": [
    "df_cat = df_train.drop(num_cols+['price_range'], axis=1)\n",
    "df_num = df_train.drop(cat_cols+['price_range'], axis=1)"
   ]
  },
  {
   "cell_type": "code",
   "execution_count": 23,
   "id": "cooked-picnic",
   "metadata": {
    "execution": {
     "iopub.execute_input": "2021-06-17T02:42:31.859866Z",
     "iopub.status.busy": "2021-06-17T02:42:31.859184Z",
     "iopub.status.idle": "2021-06-17T02:42:31.875282Z",
     "shell.execute_reply": "2021-06-17T02:42:31.874754Z",
     "shell.execute_reply.started": "2021-06-17T02:01:38.946400Z"
    },
    "papermill": {
     "duration": 0.068792,
     "end_time": "2021-06-17T02:42:31.875428",
     "exception": false,
     "start_time": "2021-06-17T02:42:31.806636",
     "status": "completed"
    },
    "tags": []
   },
   "outputs": [
    {
     "data": {
      "text/html": [
       "<div>\n",
       "<style scoped>\n",
       "    .dataframe tbody tr th:only-of-type {\n",
       "        vertical-align: middle;\n",
       "    }\n",
       "\n",
       "    .dataframe tbody tr th {\n",
       "        vertical-align: top;\n",
       "    }\n",
       "\n",
       "    .dataframe thead th {\n",
       "        text-align: right;\n",
       "    }\n",
       "</style>\n",
       "<table border=\"1\" class=\"dataframe\">\n",
       "  <thead>\n",
       "    <tr style=\"text-align: right;\">\n",
       "      <th></th>\n",
       "      <th>blue</th>\n",
       "      <th>dual_sim</th>\n",
       "      <th>four_g</th>\n",
       "      <th>n_cores</th>\n",
       "      <th>three_g</th>\n",
       "      <th>touch_screen</th>\n",
       "      <th>wifi</th>\n",
       "    </tr>\n",
       "  </thead>\n",
       "  <tbody>\n",
       "    <tr>\n",
       "      <th>0</th>\n",
       "      <td>0</td>\n",
       "      <td>0</td>\n",
       "      <td>0</td>\n",
       "      <td>2</td>\n",
       "      <td>0</td>\n",
       "      <td>0</td>\n",
       "      <td>1</td>\n",
       "    </tr>\n",
       "    <tr>\n",
       "      <th>1</th>\n",
       "      <td>1</td>\n",
       "      <td>1</td>\n",
       "      <td>1</td>\n",
       "      <td>3</td>\n",
       "      <td>1</td>\n",
       "      <td>1</td>\n",
       "      <td>0</td>\n",
       "    </tr>\n",
       "    <tr>\n",
       "      <th>2</th>\n",
       "      <td>1</td>\n",
       "      <td>1</td>\n",
       "      <td>1</td>\n",
       "      <td>5</td>\n",
       "      <td>1</td>\n",
       "      <td>1</td>\n",
       "      <td>0</td>\n",
       "    </tr>\n",
       "    <tr>\n",
       "      <th>3</th>\n",
       "      <td>1</td>\n",
       "      <td>0</td>\n",
       "      <td>0</td>\n",
       "      <td>6</td>\n",
       "      <td>1</td>\n",
       "      <td>0</td>\n",
       "      <td>0</td>\n",
       "    </tr>\n",
       "    <tr>\n",
       "      <th>4</th>\n",
       "      <td>1</td>\n",
       "      <td>0</td>\n",
       "      <td>1</td>\n",
       "      <td>2</td>\n",
       "      <td>1</td>\n",
       "      <td>1</td>\n",
       "      <td>0</td>\n",
       "    </tr>\n",
       "    <tr>\n",
       "      <th>...</th>\n",
       "      <td>...</td>\n",
       "      <td>...</td>\n",
       "      <td>...</td>\n",
       "      <td>...</td>\n",
       "      <td>...</td>\n",
       "      <td>...</td>\n",
       "      <td>...</td>\n",
       "    </tr>\n",
       "    <tr>\n",
       "      <th>1995</th>\n",
       "      <td>1</td>\n",
       "      <td>1</td>\n",
       "      <td>1</td>\n",
       "      <td>6</td>\n",
       "      <td>1</td>\n",
       "      <td>1</td>\n",
       "      <td>0</td>\n",
       "    </tr>\n",
       "    <tr>\n",
       "      <th>1996</th>\n",
       "      <td>1</td>\n",
       "      <td>1</td>\n",
       "      <td>0</td>\n",
       "      <td>4</td>\n",
       "      <td>1</td>\n",
       "      <td>1</td>\n",
       "      <td>1</td>\n",
       "    </tr>\n",
       "    <tr>\n",
       "      <th>1997</th>\n",
       "      <td>0</td>\n",
       "      <td>1</td>\n",
       "      <td>1</td>\n",
       "      <td>8</td>\n",
       "      <td>1</td>\n",
       "      <td>1</td>\n",
       "      <td>0</td>\n",
       "    </tr>\n",
       "    <tr>\n",
       "      <th>1998</th>\n",
       "      <td>0</td>\n",
       "      <td>0</td>\n",
       "      <td>1</td>\n",
       "      <td>5</td>\n",
       "      <td>1</td>\n",
       "      <td>1</td>\n",
       "      <td>1</td>\n",
       "    </tr>\n",
       "    <tr>\n",
       "      <th>1999</th>\n",
       "      <td>1</td>\n",
       "      <td>1</td>\n",
       "      <td>1</td>\n",
       "      <td>6</td>\n",
       "      <td>1</td>\n",
       "      <td>1</td>\n",
       "      <td>1</td>\n",
       "    </tr>\n",
       "  </tbody>\n",
       "</table>\n",
       "<p>2000 rows × 7 columns</p>\n",
       "</div>"
      ],
      "text/plain": [
       "      blue  dual_sim  four_g  n_cores  three_g  touch_screen  wifi\n",
       "0        0         0       0        2        0             0     1\n",
       "1        1         1       1        3        1             1     0\n",
       "2        1         1       1        5        1             1     0\n",
       "3        1         0       0        6        1             0     0\n",
       "4        1         0       1        2        1             1     0\n",
       "...    ...       ...     ...      ...      ...           ...   ...\n",
       "1995     1         1       1        6        1             1     0\n",
       "1996     1         1       0        4        1             1     1\n",
       "1997     0         1       1        8        1             1     0\n",
       "1998     0         0       1        5        1             1     1\n",
       "1999     1         1       1        6        1             1     1\n",
       "\n",
       "[2000 rows x 7 columns]"
      ]
     },
     "execution_count": 23,
     "metadata": {},
     "output_type": "execute_result"
    }
   ],
   "source": [
    "dummy = pd.get_dummies(df_cat)\n",
    "dummy"
   ]
  },
  {
   "cell_type": "code",
   "execution_count": 24,
   "id": "british-consensus",
   "metadata": {
    "execution": {
     "iopub.execute_input": "2021-06-17T02:42:31.979404Z",
     "iopub.status.busy": "2021-06-17T02:42:31.978577Z",
     "iopub.status.idle": "2021-06-17T02:42:32.172055Z",
     "shell.execute_reply": "2021-06-17T02:42:32.171513Z",
     "shell.execute_reply.started": "2021-06-17T02:04:39.808326Z"
    },
    "papermill": {
     "duration": 0.247946,
     "end_time": "2021-06-17T02:42:32.172194",
     "exception": false,
     "start_time": "2021-06-17T02:42:31.924248",
     "status": "completed"
    },
    "tags": []
   },
   "outputs": [
    {
     "data": {
      "text/plain": [
       "(      battery_power  clock_speed        fc  int_memory     m_dep  mobile_wt  \\\n",
       " 0          0.227789         0.68  0.052632    0.080645  0.555556   0.900000   \n",
       " 1          0.347361         0.00  0.000000    0.822581  0.666667   0.466667   \n",
       " 2          0.041416         0.00  0.105263    0.629032  0.888889   0.541667   \n",
       " 3          0.076152         0.80  0.000000    0.129032  0.777778   0.425000   \n",
       " 4          0.881764         0.28  0.684211    0.677419  0.555556   0.508333   \n",
       " ...             ...          ...       ...         ...       ...        ...   \n",
       " 1995       0.195725         0.00  0.000000    0.000000  0.777778   0.216667   \n",
       " 1996       0.977956         0.84  0.000000    0.596774  0.111111   0.891667   \n",
       " 1997       0.941884         0.16  0.052632    0.548387  0.666667   0.233333   \n",
       " 1998       0.675351         0.16  0.210526    0.709677  0.000000   0.541667   \n",
       " 1999       0.006012         0.60  0.263158    0.693548  0.888889   0.733333   \n",
       " \n",
       "         pc  px_height  px_width       ram      sc_h      sc_w  talk_time  \n",
       " 0     0.10   0.010204  0.170895  0.612774  0.285714  0.388889   0.944444  \n",
       " 1     0.30   0.461735  0.993324  0.634687  0.857143  0.166667   0.277778  \n",
       " 2     0.30   0.644388  0.811749  0.627205  0.428571  0.111111   0.388889  \n",
       " 3     0.45   0.620408  0.858478  0.671566  0.785714  0.444444   0.500000  \n",
       " 4     0.70   0.616327  0.475300  0.308658  0.214286  0.111111   0.722222  \n",
       " ...    ...        ...       ...       ...       ...       ...        ...  \n",
       " 1995  0.70   0.623469  0.927904  0.110102  0.571429  0.222222   0.944444  \n",
       " 1996  0.15   0.466837  0.977971  0.474613  0.428571  0.555556   0.777778  \n",
       " 1997  0.15   0.442857  0.755674  0.748530  0.285714  0.055556   0.166667  \n",
       " 1998  0.25   0.171429  0.113485  0.163816  0.928571  0.555556   0.944444  \n",
       " 1999  0.80   0.246429  0.169559  0.978888  1.000000  0.222222   0.000000  \n",
       " \n",
       " [2000 rows x 13 columns],\n",
       "       battery_power  clock_speed        fc  int_memory     m_dep  mobile_wt  \\\n",
       " 0         -0.902597     0.830779 -0.762495   -1.380644  0.340740   1.349249   \n",
       " 1         -0.495139    -1.253064 -0.992890    1.155024  0.687548  -0.120059   \n",
       " 2         -1.537686    -1.253064 -0.532099    0.493546  1.381165   0.134244   \n",
       " 3         -1.419319     1.198517 -0.992890   -1.215274  1.034357  -0.261339   \n",
       " 4          1.325906    -0.395011  2.002254    0.658915  0.340740   0.021220   \n",
       " ...             ...          ...       ...         ...       ...        ...   \n",
       " 1995      -1.011860    -1.253064 -0.992890   -1.656260  1.034357  -0.967737   \n",
       " 1996       1.653694     1.321096 -0.992890    0.383299 -1.046495   1.320993   \n",
       " 1997       1.530773    -0.762748 -0.762495    0.217930  0.687548  -0.911225   \n",
       " 1998       0.622527    -0.762748 -0.071307    0.769162 -1.393304   0.134244   \n",
       " 1999      -1.658331     0.585621  0.159088    0.714039  1.381165   0.784130   \n",
       " \n",
       "             pc  px_height  px_width       ram      sc_h      sc_w  talk_time  \n",
       " 0    -1.305750  -1.408949 -1.146784  0.391703 -0.784983  0.283103   1.462493  \n",
       " 1    -0.645989   0.585778  1.704465  0.467317  1.114266 -0.635317  -0.734267  \n",
       " 2    -0.645989   1.392684  1.074968  0.441498 -0.310171 -0.864922  -0.368140  \n",
       " 3    -0.151168   1.286750  1.236971  0.594569  0.876859  0.512708  -0.002014  \n",
       " 4     0.673534   1.268718 -0.091452 -0.657666 -1.022389 -0.864922   0.730240  \n",
       " ...        ...        ...       ...       ...       ...       ...        ...  \n",
       " 1995  0.673534   1.300273  1.477661 -1.342799  0.164641 -0.405712   1.462493  \n",
       " 1996 -1.140810   0.608317  1.651235 -0.085031 -0.310171  0.971917   0.913303  \n",
       " 1997 -1.140810   0.502383  0.880565  0.860139 -0.784983 -1.094526  -1.100394  \n",
       " 1998 -0.810929  -0.696707 -1.345816 -1.157454  1.351672  0.971917   1.462493  \n",
       " 1999  1.003414  -0.365380 -1.151413  1.655004  1.589078 -0.405712  -1.649584  \n",
       " \n",
       " [2000 rows x 13 columns])"
      ]
     },
     "execution_count": 24,
     "metadata": {},
     "output_type": "execute_result"
    }
   ],
   "source": [
    "from sklearn.preprocessing import MinMaxScaler, StandardScaler\n",
    "\n",
    "mm_scaler = MinMaxScaler()\n",
    "st_scaler = StandardScaler()\n",
    "df_mmsc = mm_scaler.fit_transform(df_num)\n",
    "df_stsc = st_scaler.fit_transform(df_num)\n",
    "df_mmsc = pd.DataFrame(df_mmsc, columns=df_num.columns)\n",
    "df_stsc = pd.DataFrame(df_stsc, columns=df_num.columns)\n",
    "df_mmsc, df_stsc"
   ]
  },
  {
   "cell_type": "code",
   "execution_count": 25,
   "id": "harmful-opinion",
   "metadata": {
    "execution": {
     "iopub.execute_input": "2021-06-17T02:42:32.275536Z",
     "iopub.status.busy": "2021-06-17T02:42:32.274746Z",
     "iopub.status.idle": "2021-06-17T02:42:32.278735Z",
     "shell.execute_reply": "2021-06-17T02:42:32.278133Z",
     "shell.execute_reply.started": "2021-06-17T02:05:26.552758Z"
    },
    "papermill": {
     "duration": 0.057987,
     "end_time": "2021-06-17T02:42:32.278892",
     "exception": false,
     "start_time": "2021-06-17T02:42:32.220905",
     "status": "completed"
    },
    "tags": []
   },
   "outputs": [],
   "source": [
    "df_mmsc_comp = pd.concat([df_mmsc, dummy], axis=1)\n",
    "df_stsc_comp = pd.concat([df_stsc, dummy], axis=1)"
   ]
  },
  {
   "cell_type": "code",
   "execution_count": 26,
   "id": "editorial-liabilities",
   "metadata": {
    "execution": {
     "iopub.execute_input": "2021-06-17T02:42:32.384347Z",
     "iopub.status.busy": "2021-06-17T02:42:32.383562Z",
     "iopub.status.idle": "2021-06-17T02:42:32.457157Z",
     "shell.execute_reply": "2021-06-17T02:42:32.456577Z",
     "shell.execute_reply.started": "2021-06-17T02:12:46.353703Z"
    },
    "papermill": {
     "duration": 0.128767,
     "end_time": "2021-06-17T02:42:32.457292",
     "exception": false,
     "start_time": "2021-06-17T02:42:32.328525",
     "status": "completed"
    },
    "tags": []
   },
   "outputs": [],
   "source": [
    "from sklearn.model_selection import train_test_split\n",
    "\n",
    "X_train, X_test, y_train, y_test = train_test_split(df_mmsc_comp, labels, test_size=0.2, shuffle=True, random_state=42)\n",
    "X_train2, X_test2, y_train2, y_test2 = train_test_split(df_stsc_comp, labels, test_size=0.2, shuffle=True, random_state=42)\n",
    "\n",
    "X_train, X_val, y_train, y_val = train_test_split(X_train, y_train, test_size=0.1, shuffle=True, random_state=42)\n",
    "X_train2, X_val2, y_train2, y_val2 = train_test_split(X_train2, y_train2, test_size=0.1, shuffle=True, random_state=42)"
   ]
  },
  {
   "cell_type": "code",
   "execution_count": 27,
   "id": "composite-terry",
   "metadata": {
    "execution": {
     "iopub.execute_input": "2021-06-17T02:42:32.561678Z",
     "iopub.status.busy": "2021-06-17T02:42:32.560935Z",
     "iopub.status.idle": "2021-06-17T02:42:33.290164Z",
     "shell.execute_reply": "2021-06-17T02:42:33.289443Z",
     "shell.execute_reply.started": "2021-06-17T02:17:10.029530Z"
    },
    "papermill": {
     "duration": 0.784374,
     "end_time": "2021-06-17T02:42:33.290379",
     "exception": false,
     "start_time": "2021-06-17T02:42:32.506005",
     "status": "completed"
    },
    "tags": []
   },
   "outputs": [
    {
     "data": {
      "text/html": [
       "<style type='text/css'>\n",
       ".datatable table.frame { margin-bottom: 0; }\n",
       ".datatable table.frame thead { border-bottom: none; }\n",
       ".datatable table.frame tr.coltypes td {  color: #FFFFFF;  line-height: 6px;  padding: 0 0.5em;}\n",
       ".datatable .bool    { background: #DDDD99; }\n",
       ".datatable .object  { background: #565656; }\n",
       ".datatable .int     { background: #5D9E5D; }\n",
       ".datatable .float   { background: #4040CC; }\n",
       ".datatable .str     { background: #CC4040; }\n",
       ".datatable .row_index {  background: var(--jp-border-color3);  border-right: 1px solid var(--jp-border-color0);  color: var(--jp-ui-font-color3);  font-size: 9px;}\n",
       ".datatable .frame tr.coltypes .row_index {  background: var(--jp-border-color0);}\n",
       ".datatable th:nth-child(2) { padding-left: 12px; }\n",
       ".datatable .hellipsis {  color: var(--jp-cell-editor-border-color);}\n",
       ".datatable .vellipsis {  background: var(--jp-layout-color0);  color: var(--jp-cell-editor-border-color);}\n",
       ".datatable .na {  color: var(--jp-cell-editor-border-color);  font-size: 80%;}\n",
       ".datatable .footer { font-size: 9px; }\n",
       ".datatable .frame_dimensions {  background: var(--jp-border-color3);  border-top: 1px solid var(--jp-border-color0);  color: var(--jp-ui-font-color3);  display: inline-block;  opacity: 0.6;  padding: 1px 10px 1px 5px;}\n",
       "</style>\n"
      ],
      "text/plain": [
       "<IPython.core.display.HTML object>"
      ]
     },
     "metadata": {},
     "output_type": "display_data"
    }
   ],
   "source": [
    "import sklearn\n",
    "from sklearn.model_selection import KFold, cross_validate, cross_val_score\n",
    "from sklearn.model_selection import GridSearchCV, RandomizedSearchCV\n",
    "from sklearn.metrics import confusion_matrix, accuracy_score, precision_score\n",
    "from sklearn.metrics import recall_score, f1_score, roc_auc_score\n",
    "from sklearn.metrics import classification_report\n",
    "\n",
    "from sklearn import tree\n",
    "from catboost import CatBoostClassifier\n",
    "from sklearn.neighbors import KNeighborsClassifier\n",
    "from sklearn.ensemble import RandomForestClassifier, GradientBoostingClassifier\n",
    "from sklearn.naive_bayes import GaussianNB\n",
    "from lightgbm import LGBMClassifier\n",
    "from xgboost import XGBClassifier"
   ]
  },
  {
   "cell_type": "code",
   "execution_count": 28,
   "id": "understood-voltage",
   "metadata": {
    "execution": {
     "iopub.execute_input": "2021-06-17T02:42:33.399042Z",
     "iopub.status.busy": "2021-06-17T02:42:33.398366Z",
     "iopub.status.idle": "2021-06-17T02:42:33.401807Z",
     "shell.execute_reply": "2021-06-17T02:42:33.401314Z",
     "shell.execute_reply.started": "2021-06-17T02:24:10.821190Z"
    },
    "papermill": {
     "duration": 0.061216,
     "end_time": "2021-06-17T02:42:33.401958",
     "exception": false,
     "start_time": "2021-06-17T02:42:33.340742",
     "status": "completed"
    },
    "tags": []
   },
   "outputs": [],
   "source": [
    "catbst = CatBoostClassifier(random_state=42)\n",
    "knc = KNeighborsClassifier()\n",
    "rf = RandomForestClassifier(random_state=42)\n",
    "gb = GradientBoostingClassifier(random_state=42)\n",
    "gnb = GaussianNB()\n",
    "lgbm = LGBMClassifier(random_state=42)\n",
    "xgb = XGBClassifier(random_state=42)"
   ]
  },
  {
   "cell_type": "code",
   "execution_count": 29,
   "id": "controlled-briefs",
   "metadata": {
    "execution": {
     "iopub.execute_input": "2021-06-17T02:42:33.512149Z",
     "iopub.status.busy": "2021-06-17T02:42:33.505977Z",
     "iopub.status.idle": "2021-06-17T02:42:33.909767Z",
     "shell.execute_reply": "2021-06-17T02:42:33.909263Z",
     "shell.execute_reply.started": "2021-06-17T02:25:23.202749Z"
    },
    "papermill": {
     "duration": 0.458881,
     "end_time": "2021-06-17T02:42:33.909932",
     "exception": false,
     "start_time": "2021-06-17T02:42:33.451051",
     "status": "completed"
    },
    "tags": []
   },
   "outputs": [
    {
     "name": "stdout",
     "output_type": "stream",
     "text": [
      "              precision    recall  f1-score   support\n",
      "\n",
      "           0       0.92      0.94      0.93        47\n",
      "           1       0.80      0.83      0.81        29\n",
      "           2       0.85      0.88      0.86        40\n",
      "           3       0.95      0.89      0.92        44\n",
      "\n",
      "    accuracy                           0.89       160\n",
      "   macro avg       0.88      0.88      0.88       160\n",
      "weighted avg       0.89      0.89      0.89       160\n",
      "\n"
     ]
    }
   ],
   "source": [
    "rf_model = rf.fit(X_train, y_train)\n",
    "pred = rf_model.predict(X_val)\n",
    "\n",
    "print(classification_report(y_val, pred))"
   ]
  },
  {
   "cell_type": "code",
   "execution_count": 30,
   "id": "proper-worst",
   "metadata": {
    "execution": {
     "iopub.execute_input": "2021-06-17T02:42:34.017257Z",
     "iopub.status.busy": "2021-06-17T02:42:34.016546Z",
     "iopub.status.idle": "2021-06-17T02:42:34.418470Z",
     "shell.execute_reply": "2021-06-17T02:42:34.417923Z",
     "shell.execute_reply.started": "2021-06-17T02:33:22.628032Z"
    },
    "papermill": {
     "duration": 0.459053,
     "end_time": "2021-06-17T02:42:34.418619",
     "exception": false,
     "start_time": "2021-06-17T02:42:33.959566",
     "status": "completed"
    },
    "tags": []
   },
   "outputs": [
    {
     "name": "stdout",
     "output_type": "stream",
     "text": [
      "              precision    recall  f1-score   support\n",
      "\n",
      "           0       0.93      0.95      0.94       105\n",
      "           1       0.85      0.85      0.85        91\n",
      "           2       0.80      0.86      0.83        92\n",
      "           3       0.96      0.88      0.92       112\n",
      "\n",
      "    accuracy                           0.89       400\n",
      "   macro avg       0.88      0.89      0.88       400\n",
      "weighted avg       0.89      0.89      0.89       400\n",
      "\n"
     ]
    }
   ],
   "source": [
    "rf_model = rf.fit(X_train2, y_train2)\n",
    "pred = rf_model.predict(X_test2)\n",
    "\n",
    "print(classification_report(y_test2, pred))"
   ]
  },
  {
   "cell_type": "code",
   "execution_count": 31,
   "id": "searching-bunny",
   "metadata": {
    "execution": {
     "iopub.execute_input": "2021-06-17T02:42:34.526127Z",
     "iopub.status.busy": "2021-06-17T02:42:34.525175Z",
     "iopub.status.idle": "2021-06-17T02:42:36.376456Z",
     "shell.execute_reply": "2021-06-17T02:42:36.375770Z",
     "shell.execute_reply.started": "2021-06-17T02:25:52.232496Z"
    },
    "papermill": {
     "duration": 1.90808,
     "end_time": "2021-06-17T02:42:36.376597",
     "exception": false,
     "start_time": "2021-06-17T02:42:34.468517",
     "status": "completed"
    },
    "tags": []
   },
   "outputs": [
    {
     "name": "stdout",
     "output_type": "stream",
     "text": [
      "              precision    recall  f1-score   support\n",
      "\n",
      "           0       0.92      0.98      0.95        47\n",
      "           1       0.88      0.79      0.84        29\n",
      "           2       0.85      0.82      0.84        40\n",
      "           3       0.89      0.91      0.90        44\n",
      "\n",
      "    accuracy                           0.89       160\n",
      "   macro avg       0.88      0.88      0.88       160\n",
      "weighted avg       0.89      0.89      0.89       160\n",
      "\n"
     ]
    }
   ],
   "source": [
    "gb_model = gb.fit(X_train, y_train)\n",
    "pred = gb_model.predict(X_val)\n",
    "\n",
    "print(classification_report(y_val, pred))"
   ]
  },
  {
   "cell_type": "code",
   "execution_count": 32,
   "id": "scheduled-christian",
   "metadata": {
    "execution": {
     "iopub.execute_input": "2021-06-17T02:42:36.484898Z",
     "iopub.status.busy": "2021-06-17T02:42:36.483298Z",
     "iopub.status.idle": "2021-06-17T02:42:36.980183Z",
     "shell.execute_reply": "2021-06-17T02:42:36.980788Z",
     "shell.execute_reply.started": "2021-06-17T02:33:27.159918Z"
    },
    "papermill": {
     "duration": 0.552833,
     "end_time": "2021-06-17T02:42:36.981004",
     "exception": false,
     "start_time": "2021-06-17T02:42:36.428171",
     "status": "completed"
    },
    "tags": []
   },
   "outputs": [
    {
     "name": "stdout",
     "output_type": "stream",
     "text": [
      "[02:42:36] WARNING: ../src/learner.cc:1061: Starting in XGBoost 1.3.0, the default evaluation metric used with the objective 'multi:softprob' was changed from 'merror' to 'mlogloss'. Explicitly set eval_metric if you'd like to restore the old behavior.\n"
     ]
    },
    {
     "name": "stderr",
     "output_type": "stream",
     "text": [
      "/opt/conda/lib/python3.7/site-packages/xgboost/sklearn.py:888: UserWarning: The use of label encoder in XGBClassifier is deprecated and will be removed in a future release. To remove this warning, do the following: 1) Pass option use_label_encoder=False when constructing XGBClassifier object; and 2) Encode your labels (y) as integers starting with 0, i.e. 0, 1, 2, ..., [num_class - 1].\n",
      "  warnings.warn(label_encoder_deprecation_msg, UserWarning)\n"
     ]
    },
    {
     "name": "stdout",
     "output_type": "stream",
     "text": [
      "              precision    recall  f1-score   support\n",
      "\n",
      "           0       0.94      0.98      0.96        47\n",
      "           1       0.89      0.86      0.88        29\n",
      "           2       0.87      0.85      0.86        40\n",
      "           3       0.91      0.91      0.91        44\n",
      "\n",
      "    accuracy                           0.91       160\n",
      "   macro avg       0.90      0.90      0.90       160\n",
      "weighted avg       0.91      0.91      0.91       160\n",
      "\n"
     ]
    }
   ],
   "source": [
    "xgb_model = xgb.fit(X_train, y_train)\n",
    "pred = xgb_model.predict(X_val)\n",
    "\n",
    "print(classification_report(y_val, pred))"
   ]
  },
  {
   "cell_type": "code",
   "execution_count": 33,
   "id": "persistent-skill",
   "metadata": {
    "execution": {
     "iopub.execute_input": "2021-06-17T02:42:37.091977Z",
     "iopub.status.busy": "2021-06-17T02:42:37.091019Z",
     "iopub.status.idle": "2021-06-17T02:42:37.655160Z",
     "shell.execute_reply": "2021-06-17T02:42:37.656206Z",
     "shell.execute_reply.started": "2021-06-17T02:26:49.627762Z"
    },
    "papermill": {
     "duration": 0.622231,
     "end_time": "2021-06-17T02:42:37.656467",
     "exception": false,
     "start_time": "2021-06-17T02:42:37.034236",
     "status": "completed"
    },
    "tags": []
   },
   "outputs": [
    {
     "name": "stdout",
     "output_type": "stream",
     "text": [
      "              precision    recall  f1-score   support\n",
      "\n",
      "           0       0.94      0.96      0.95        47\n",
      "           1       0.86      0.86      0.86        29\n",
      "           2       0.85      0.88      0.86        40\n",
      "           3       0.93      0.89      0.91        44\n",
      "\n",
      "    accuracy                           0.90       160\n",
      "   macro avg       0.90      0.90      0.90       160\n",
      "weighted avg       0.90      0.90      0.90       160\n",
      "\n"
     ]
    }
   ],
   "source": [
    "lgbm_model = lgbm.fit(X_train, y_train)\n",
    "pred = lgbm_model.predict(X_val)\n",
    "\n",
    "print(classification_report(y_val, pred))"
   ]
  },
  {
   "cell_type": "code",
   "execution_count": 34,
   "id": "floral-chocolate",
   "metadata": {
    "execution": {
     "iopub.execute_input": "2021-06-17T02:42:37.775408Z",
     "iopub.status.busy": "2021-06-17T02:42:37.774642Z",
     "iopub.status.idle": "2021-06-17T02:42:37.780132Z",
     "shell.execute_reply": "2021-06-17T02:42:37.780624Z",
     "shell.execute_reply.started": "2021-06-17T02:33:47.985329Z"
    },
    "papermill": {
     "duration": 0.07184,
     "end_time": "2021-06-17T02:42:37.780820",
     "exception": false,
     "start_time": "2021-06-17T02:42:37.708980",
     "status": "completed"
    },
    "tags": []
   },
   "outputs": [
    {
     "name": "stdout",
     "output_type": "stream",
     "text": [
      "              precision    recall  f1-score   support\n",
      "\n",
      "           0       0.96      0.95      0.96       105\n",
      "           1       0.89      0.95      0.91        91\n",
      "           2       0.87      0.86      0.86        92\n",
      "           3       0.94      0.90      0.92       112\n",
      "\n",
      "    accuracy                           0.92       400\n",
      "   macro avg       0.91      0.91      0.91       400\n",
      "weighted avg       0.92      0.92      0.92       400\n",
      "\n"
     ]
    }
   ],
   "source": [
    "pred = xgb_model.predict(X_test)\n",
    "print(classification_report(y_test, pred))"
   ]
  },
  {
   "cell_type": "code",
   "execution_count": 35,
   "id": "conservative-north",
   "metadata": {
    "execution": {
     "iopub.execute_input": "2021-06-17T02:42:37.894062Z",
     "iopub.status.busy": "2021-06-17T02:42:37.893042Z",
     "iopub.status.idle": "2021-06-17T02:42:37.895569Z",
     "shell.execute_reply": "2021-06-17T02:42:37.896055Z",
     "shell.execute_reply.started": "2021-06-17T02:27:49.980665Z"
    },
    "papermill": {
     "duration": 0.061835,
     "end_time": "2021-06-17T02:42:37.896252",
     "exception": false,
     "start_time": "2021-06-17T02:42:37.834417",
     "status": "completed"
    },
    "tags": []
   },
   "outputs": [],
   "source": [
    "df_test.drop('id', axis=1, inplace=True)"
   ]
  },
  {
   "cell_type": "code",
   "execution_count": 36,
   "id": "derived-extreme",
   "metadata": {
    "execution": {
     "iopub.execute_input": "2021-06-17T02:42:38.004235Z",
     "iopub.status.busy": "2021-06-17T02:42:38.003216Z",
     "iopub.status.idle": "2021-06-17T02:42:38.022071Z",
     "shell.execute_reply": "2021-06-17T02:42:38.022610Z",
     "shell.execute_reply.started": "2021-06-17T02:28:04.187623Z"
    },
    "papermill": {
     "duration": 0.074604,
     "end_time": "2021-06-17T02:42:38.022777",
     "exception": false,
     "start_time": "2021-06-17T02:42:37.948173",
     "status": "completed"
    },
    "tags": []
   },
   "outputs": [
    {
     "data": {
      "text/html": [
       "<div>\n",
       "<style scoped>\n",
       "    .dataframe tbody tr th:only-of-type {\n",
       "        vertical-align: middle;\n",
       "    }\n",
       "\n",
       "    .dataframe tbody tr th {\n",
       "        vertical-align: top;\n",
       "    }\n",
       "\n",
       "    .dataframe thead th {\n",
       "        text-align: right;\n",
       "    }\n",
       "</style>\n",
       "<table border=\"1\" class=\"dataframe\">\n",
       "  <thead>\n",
       "    <tr style=\"text-align: right;\">\n",
       "      <th></th>\n",
       "      <th>battery_power</th>\n",
       "      <th>blue</th>\n",
       "      <th>clock_speed</th>\n",
       "      <th>dual_sim</th>\n",
       "      <th>fc</th>\n",
       "      <th>four_g</th>\n",
       "      <th>int_memory</th>\n",
       "      <th>m_dep</th>\n",
       "      <th>mobile_wt</th>\n",
       "      <th>n_cores</th>\n",
       "      <th>pc</th>\n",
       "      <th>px_height</th>\n",
       "      <th>px_width</th>\n",
       "      <th>ram</th>\n",
       "      <th>sc_h</th>\n",
       "      <th>sc_w</th>\n",
       "      <th>talk_time</th>\n",
       "      <th>three_g</th>\n",
       "      <th>touch_screen</th>\n",
       "      <th>wifi</th>\n",
       "    </tr>\n",
       "  </thead>\n",
       "  <tbody>\n",
       "    <tr>\n",
       "      <th>0</th>\n",
       "      <td>1043</td>\n",
       "      <td>1</td>\n",
       "      <td>1.8</td>\n",
       "      <td>1</td>\n",
       "      <td>14</td>\n",
       "      <td>0</td>\n",
       "      <td>5</td>\n",
       "      <td>0.1</td>\n",
       "      <td>193</td>\n",
       "      <td>3</td>\n",
       "      <td>16</td>\n",
       "      <td>226</td>\n",
       "      <td>1412</td>\n",
       "      <td>3476</td>\n",
       "      <td>12</td>\n",
       "      <td>7</td>\n",
       "      <td>2</td>\n",
       "      <td>0</td>\n",
       "      <td>1</td>\n",
       "      <td>0</td>\n",
       "    </tr>\n",
       "    <tr>\n",
       "      <th>1</th>\n",
       "      <td>841</td>\n",
       "      <td>1</td>\n",
       "      <td>0.5</td>\n",
       "      <td>1</td>\n",
       "      <td>4</td>\n",
       "      <td>1</td>\n",
       "      <td>61</td>\n",
       "      <td>0.8</td>\n",
       "      <td>191</td>\n",
       "      <td>5</td>\n",
       "      <td>12</td>\n",
       "      <td>746</td>\n",
       "      <td>857</td>\n",
       "      <td>3895</td>\n",
       "      <td>6</td>\n",
       "      <td>0</td>\n",
       "      <td>7</td>\n",
       "      <td>1</td>\n",
       "      <td>0</td>\n",
       "      <td>0</td>\n",
       "    </tr>\n",
       "    <tr>\n",
       "      <th>2</th>\n",
       "      <td>1807</td>\n",
       "      <td>1</td>\n",
       "      <td>2.8</td>\n",
       "      <td>0</td>\n",
       "      <td>1</td>\n",
       "      <td>0</td>\n",
       "      <td>27</td>\n",
       "      <td>0.9</td>\n",
       "      <td>186</td>\n",
       "      <td>3</td>\n",
       "      <td>4</td>\n",
       "      <td>1270</td>\n",
       "      <td>1366</td>\n",
       "      <td>2396</td>\n",
       "      <td>17</td>\n",
       "      <td>10</td>\n",
       "      <td>10</td>\n",
       "      <td>0</td>\n",
       "      <td>1</td>\n",
       "      <td>1</td>\n",
       "    </tr>\n",
       "    <tr>\n",
       "      <th>3</th>\n",
       "      <td>1546</td>\n",
       "      <td>0</td>\n",
       "      <td>0.5</td>\n",
       "      <td>1</td>\n",
       "      <td>18</td>\n",
       "      <td>1</td>\n",
       "      <td>25</td>\n",
       "      <td>0.5</td>\n",
       "      <td>96</td>\n",
       "      <td>8</td>\n",
       "      <td>20</td>\n",
       "      <td>295</td>\n",
       "      <td>1752</td>\n",
       "      <td>3893</td>\n",
       "      <td>10</td>\n",
       "      <td>0</td>\n",
       "      <td>7</td>\n",
       "      <td>1</td>\n",
       "      <td>1</td>\n",
       "      <td>0</td>\n",
       "    </tr>\n",
       "    <tr>\n",
       "      <th>4</th>\n",
       "      <td>1434</td>\n",
       "      <td>0</td>\n",
       "      <td>1.4</td>\n",
       "      <td>0</td>\n",
       "      <td>11</td>\n",
       "      <td>1</td>\n",
       "      <td>49</td>\n",
       "      <td>0.5</td>\n",
       "      <td>108</td>\n",
       "      <td>6</td>\n",
       "      <td>18</td>\n",
       "      <td>749</td>\n",
       "      <td>810</td>\n",
       "      <td>1773</td>\n",
       "      <td>15</td>\n",
       "      <td>8</td>\n",
       "      <td>7</td>\n",
       "      <td>1</td>\n",
       "      <td>0</td>\n",
       "      <td>1</td>\n",
       "    </tr>\n",
       "  </tbody>\n",
       "</table>\n",
       "</div>"
      ],
      "text/plain": [
       "   battery_power  blue  clock_speed  dual_sim  fc  four_g  int_memory  m_dep  \\\n",
       "0           1043     1          1.8         1  14       0           5    0.1   \n",
       "1            841     1          0.5         1   4       1          61    0.8   \n",
       "2           1807     1          2.8         0   1       0          27    0.9   \n",
       "3           1546     0          0.5         1  18       1          25    0.5   \n",
       "4           1434     0          1.4         0  11       1          49    0.5   \n",
       "\n",
       "   mobile_wt  n_cores  pc  px_height  px_width   ram  sc_h  sc_w  talk_time  \\\n",
       "0        193        3  16        226      1412  3476    12     7          2   \n",
       "1        191        5  12        746       857  3895     6     0          7   \n",
       "2        186        3   4       1270      1366  2396    17    10         10   \n",
       "3         96        8  20        295      1752  3893    10     0          7   \n",
       "4        108        6  18        749       810  1773    15     8          7   \n",
       "\n",
       "   three_g  touch_screen  wifi  \n",
       "0        0             1     0  \n",
       "1        1             0     0  \n",
       "2        0             1     1  \n",
       "3        1             1     0  \n",
       "4        1             0     1  "
      ]
     },
     "execution_count": 36,
     "metadata": {},
     "output_type": "execute_result"
    }
   ],
   "source": [
    "df_test.head()"
   ]
  },
  {
   "cell_type": "code",
   "execution_count": 37,
   "id": "electric-subdivision",
   "metadata": {
    "execution": {
     "iopub.execute_input": "2021-06-17T02:42:38.132660Z",
     "iopub.status.busy": "2021-06-17T02:42:38.131704Z",
     "iopub.status.idle": "2021-06-17T02:42:38.171521Z",
     "shell.execute_reply": "2021-06-17T02:42:38.172118Z",
     "shell.execute_reply.started": "2021-06-17T02:28:55.613846Z"
    },
    "papermill": {
     "duration": 0.096459,
     "end_time": "2021-06-17T02:42:38.172287",
     "exception": false,
     "start_time": "2021-06-17T02:42:38.075828",
     "status": "completed"
    },
    "tags": []
   },
   "outputs": [
    {
     "ename": "NameError",
     "evalue": "name 'cat_feat' is not defined",
     "output_type": "error",
     "traceback": [
      "\u001b[0;31m---------------------------------------------------------------------------\u001b[0m",
      "\u001b[0;31mNameError\u001b[0m                                 Traceback (most recent call last)",
      "\u001b[0;32m<ipython-input-37-9505aa96903d>\u001b[0m in \u001b[0;36m<module>\u001b[0;34m\u001b[0m\n\u001b[0;32m----> 1\u001b[0;31m \u001b[0mdf_test\u001b[0m\u001b[0;34m[\u001b[0m\u001b[0mcat_cols\u001b[0m\u001b[0;34m]\u001b[0m \u001b[0;34m=\u001b[0m \u001b[0mdf_test\u001b[0m\u001b[0;34m[\u001b[0m\u001b[0mcat_feat\u001b[0m\u001b[0;34m]\u001b[0m\u001b[0;34m.\u001b[0m\u001b[0mastype\u001b[0m\u001b[0;34m(\u001b[0m\u001b[0;34m'category'\u001b[0m\u001b[0;34m)\u001b[0m\u001b[0;34m\u001b[0m\u001b[0;34m\u001b[0m\u001b[0m\n\u001b[0m",
      "\u001b[0;31mNameError\u001b[0m: name 'cat_feat' is not defined"
     ]
    }
   ],
   "source": [
    "df_test[cat_cols] = df_test[cat_feat].astype('category')\n"
   ]
  },
  {
   "cell_type": "code",
   "execution_count": 38,
   "id": "orange-annex",
   "metadata": {
    "execution": {
     "iopub.execute_input": "2021-06-17T02:42:38.281813Z",
     "iopub.status.busy": "2021-06-17T02:42:38.280901Z",
     "iopub.status.idle": "2021-06-17T02:42:38.287039Z",
     "shell.execute_reply": "2021-06-17T02:42:38.287569Z",
     "shell.execute_reply.started": "2021-06-17T02:36:09.317584Z"
    },
    "papermill": {
     "duration": 0.06247,
     "end_time": "2021-06-17T02:42:38.287739",
     "exception": false,
     "start_time": "2021-06-17T02:42:38.225269",
     "status": "completed"
    },
    "tags": []
   },
   "outputs": [],
   "source": [
    "test_cat = df_test[cat_cols]\n",
    "test_num = df_test.drop(cat_cols, axis=1)"
   ]
  },
  {
   "cell_type": "code",
   "execution_count": 39,
   "id": "difficult-aquarium",
   "metadata": {
    "execution": {
     "iopub.execute_input": "2021-06-17T02:42:38.396980Z",
     "iopub.status.busy": "2021-06-17T02:42:38.396042Z",
     "iopub.status.idle": "2021-06-17T02:42:38.412515Z",
     "shell.execute_reply": "2021-06-17T02:42:38.413077Z",
     "shell.execute_reply.started": "2021-06-17T02:35:21.557272Z"
    },
    "papermill": {
     "duration": 0.07286,
     "end_time": "2021-06-17T02:42:38.413264",
     "exception": false,
     "start_time": "2021-06-17T02:42:38.340404",
     "status": "completed"
    },
    "tags": []
   },
   "outputs": [
    {
     "data": {
      "text/html": [
       "<div>\n",
       "<style scoped>\n",
       "    .dataframe tbody tr th:only-of-type {\n",
       "        vertical-align: middle;\n",
       "    }\n",
       "\n",
       "    .dataframe tbody tr th {\n",
       "        vertical-align: top;\n",
       "    }\n",
       "\n",
       "    .dataframe thead th {\n",
       "        text-align: right;\n",
       "    }\n",
       "</style>\n",
       "<table border=\"1\" class=\"dataframe\">\n",
       "  <thead>\n",
       "    <tr style=\"text-align: right;\">\n",
       "      <th></th>\n",
       "      <th>blue</th>\n",
       "      <th>dual_sim</th>\n",
       "      <th>four_g</th>\n",
       "      <th>n_cores</th>\n",
       "      <th>three_g</th>\n",
       "      <th>touch_screen</th>\n",
       "      <th>wifi</th>\n",
       "    </tr>\n",
       "  </thead>\n",
       "  <tbody>\n",
       "    <tr>\n",
       "      <th>0</th>\n",
       "      <td>1</td>\n",
       "      <td>1</td>\n",
       "      <td>0</td>\n",
       "      <td>3</td>\n",
       "      <td>0</td>\n",
       "      <td>1</td>\n",
       "      <td>0</td>\n",
       "    </tr>\n",
       "    <tr>\n",
       "      <th>1</th>\n",
       "      <td>1</td>\n",
       "      <td>1</td>\n",
       "      <td>1</td>\n",
       "      <td>5</td>\n",
       "      <td>1</td>\n",
       "      <td>0</td>\n",
       "      <td>0</td>\n",
       "    </tr>\n",
       "    <tr>\n",
       "      <th>2</th>\n",
       "      <td>1</td>\n",
       "      <td>0</td>\n",
       "      <td>0</td>\n",
       "      <td>3</td>\n",
       "      <td>0</td>\n",
       "      <td>1</td>\n",
       "      <td>1</td>\n",
       "    </tr>\n",
       "    <tr>\n",
       "      <th>3</th>\n",
       "      <td>0</td>\n",
       "      <td>1</td>\n",
       "      <td>1</td>\n",
       "      <td>8</td>\n",
       "      <td>1</td>\n",
       "      <td>1</td>\n",
       "      <td>0</td>\n",
       "    </tr>\n",
       "    <tr>\n",
       "      <th>4</th>\n",
       "      <td>0</td>\n",
       "      <td>0</td>\n",
       "      <td>1</td>\n",
       "      <td>6</td>\n",
       "      <td>1</td>\n",
       "      <td>0</td>\n",
       "      <td>1</td>\n",
       "    </tr>\n",
       "    <tr>\n",
       "      <th>...</th>\n",
       "      <td>...</td>\n",
       "      <td>...</td>\n",
       "      <td>...</td>\n",
       "      <td>...</td>\n",
       "      <td>...</td>\n",
       "      <td>...</td>\n",
       "      <td>...</td>\n",
       "    </tr>\n",
       "    <tr>\n",
       "      <th>995</th>\n",
       "      <td>1</td>\n",
       "      <td>0</td>\n",
       "      <td>1</td>\n",
       "      <td>7</td>\n",
       "      <td>1</td>\n",
       "      <td>1</td>\n",
       "      <td>0</td>\n",
       "    </tr>\n",
       "    <tr>\n",
       "      <th>996</th>\n",
       "      <td>0</td>\n",
       "      <td>1</td>\n",
       "      <td>0</td>\n",
       "      <td>4</td>\n",
       "      <td>0</td>\n",
       "      <td>1</td>\n",
       "      <td>1</td>\n",
       "    </tr>\n",
       "    <tr>\n",
       "      <th>997</th>\n",
       "      <td>0</td>\n",
       "      <td>0</td>\n",
       "      <td>1</td>\n",
       "      <td>1</td>\n",
       "      <td>1</td>\n",
       "      <td>0</td>\n",
       "      <td>0</td>\n",
       "    </tr>\n",
       "    <tr>\n",
       "      <th>998</th>\n",
       "      <td>1</td>\n",
       "      <td>1</td>\n",
       "      <td>0</td>\n",
       "      <td>2</td>\n",
       "      <td>0</td>\n",
       "      <td>1</td>\n",
       "      <td>0</td>\n",
       "    </tr>\n",
       "    <tr>\n",
       "      <th>999</th>\n",
       "      <td>1</td>\n",
       "      <td>0</td>\n",
       "      <td>1</td>\n",
       "      <td>6</td>\n",
       "      <td>1</td>\n",
       "      <td>0</td>\n",
       "      <td>1</td>\n",
       "    </tr>\n",
       "  </tbody>\n",
       "</table>\n",
       "<p>1000 rows × 7 columns</p>\n",
       "</div>"
      ],
      "text/plain": [
       "     blue  dual_sim  four_g  n_cores  three_g  touch_screen  wifi\n",
       "0       1         1       0        3        0             1     0\n",
       "1       1         1       1        5        1             0     0\n",
       "2       1         0       0        3        0             1     1\n",
       "3       0         1       1        8        1             1     0\n",
       "4       0         0       1        6        1             0     1\n",
       "..    ...       ...     ...      ...      ...           ...   ...\n",
       "995     1         0       1        7        1             1     0\n",
       "996     0         1       0        4        0             1     1\n",
       "997     0         0       1        1        1             0     0\n",
       "998     1         1       0        2        0             1     0\n",
       "999     1         0       1        6        1             0     1\n",
       "\n",
       "[1000 rows x 7 columns]"
      ]
     },
     "execution_count": 39,
     "metadata": {},
     "output_type": "execute_result"
    }
   ],
   "source": [
    "dummy_test = pd.get_dummies(test_cat)\n",
    "dummy_test"
   ]
  },
  {
   "cell_type": "code",
   "execution_count": 40,
   "id": "sporting-regular",
   "metadata": {
    "execution": {
     "iopub.execute_input": "2021-06-17T02:42:38.523119Z",
     "iopub.status.busy": "2021-06-17T02:42:38.522180Z",
     "iopub.status.idle": "2021-06-17T02:42:38.531082Z",
     "shell.execute_reply": "2021-06-17T02:42:38.531624Z",
     "shell.execute_reply.started": "2021-06-17T02:37:38.892849Z"
    },
    "papermill": {
     "duration": 0.065407,
     "end_time": "2021-06-17T02:42:38.531782",
     "exception": false,
     "start_time": "2021-06-17T02:42:38.466375",
     "status": "completed"
    },
    "tags": []
   },
   "outputs": [],
   "source": [
    "test_stsc = st_scaler.fit_transform(test_num)\n",
    "test_stsc = pd.DataFrame(test_stsc, columns=test_num.columns)"
   ]
  },
  {
   "cell_type": "code",
   "execution_count": 41,
   "id": "roman-attribute",
   "metadata": {
    "execution": {
     "iopub.execute_input": "2021-06-17T02:42:38.642148Z",
     "iopub.status.busy": "2021-06-17T02:42:38.641182Z",
     "iopub.status.idle": "2021-06-17T02:42:38.646092Z",
     "shell.execute_reply": "2021-06-17T02:42:38.646605Z",
     "shell.execute_reply.started": "2021-06-17T02:38:16.622830Z"
    },
    "papermill": {
     "duration": 0.061801,
     "end_time": "2021-06-17T02:42:38.646765",
     "exception": false,
     "start_time": "2021-06-17T02:42:38.584964",
     "status": "completed"
    },
    "tags": []
   },
   "outputs": [],
   "source": [
    "df_test_comp = pd.concat([test_stsc, dummy_test], axis=1)"
   ]
  },
  {
   "cell_type": "code",
   "execution_count": 42,
   "id": "threaded-handle",
   "metadata": {
    "execution": {
     "iopub.execute_input": "2021-06-17T02:42:38.758130Z",
     "iopub.status.busy": "2021-06-17T02:42:38.757198Z",
     "iopub.status.idle": "2021-06-17T02:42:38.773991Z",
     "shell.execute_reply": "2021-06-17T02:42:38.774478Z",
     "shell.execute_reply.started": "2021-06-17T02:39:08.405339Z"
    },
    "papermill": {
     "duration": 0.073609,
     "end_time": "2021-06-17T02:42:38.774668",
     "exception": false,
     "start_time": "2021-06-17T02:42:38.701059",
     "status": "completed"
    },
    "tags": []
   },
   "outputs": [
    {
     "data": {
      "text/plain": [
       "array([2, 3, 1, 3, 0, 3, 3, 0, 3, 0, 3, 3, 0, 0, 1, 0, 0, 0, 3, 1, 0, 3,\n",
       "       0, 0, 3, 0, 1, 0, 2, 0, 1, 0, 3, 0, 0, 0, 3, 0, 2, 0, 1, 1, 0, 0,\n",
       "       0, 0, 0, 2, 0, 2, 0, 0, 2, 0, 3, 0, 3, 0, 0, 3, 3, 3, 0, 0, 0, 0,\n",
       "       0, 2, 0, 1, 0, 1, 1, 3, 3, 0, 1, 0, 0, 3, 0, 3, 3, 0, 3, 0, 2, 0,\n",
       "       3, 0, 0, 0, 2, 0, 1, 0, 0, 0, 0, 2, 0, 0, 0, 3, 0, 1, 0, 0, 1, 2,\n",
       "       2, 3, 0, 3, 3, 3, 3, 0, 3, 0, 0, 2, 1, 0, 0, 0, 3, 2, 3, 1, 0, 1,\n",
       "       0, 0, 3, 0, 0, 0, 3, 2, 0, 3, 0, 1, 2, 3, 3, 3, 0, 3, 2, 3, 0, 0,\n",
       "       2, 0, 3, 3, 3, 2, 2, 2, 3, 3, 3, 3, 0, 0, 3, 0, 0, 0, 0, 1, 0, 0,\n",
       "       0, 0, 0, 1, 0, 0, 0, 0, 1, 2, 0, 0, 0, 0, 0, 1, 0, 3, 0, 0, 2, 0,\n",
       "       2, 3, 0, 1, 2, 3, 3, 0, 1, 0, 0, 0, 0, 1, 0, 3, 3, 3, 0, 1, 0, 3,\n",
       "       1, 2, 3, 0, 0, 0, 0, 2, 0, 0, 0, 1, 0, 0, 3, 0, 2, 0, 3, 0, 0, 0,\n",
       "       0, 2, 0, 2, 2, 3, 0, 0, 3, 0, 0, 2, 3, 3, 0, 3, 0, 1, 3, 1, 0, 3,\n",
       "       3, 2, 3, 0, 0, 0, 0, 2, 0, 0, 3, 0, 0, 3, 0, 0, 2, 0, 0, 3, 2, 3,\n",
       "       2, 1, 0, 3, 2, 1, 3, 1, 1, 0, 0, 0, 2, 3, 0, 0, 0, 3, 0, 3, 0, 0,\n",
       "       0, 0, 1, 2, 0, 3, 1, 2, 0, 1, 0, 0, 0, 0, 3, 0, 0, 0, 0, 2, 0, 0,\n",
       "       3, 3, 0, 2, 3, 1, 3, 0, 3, 3, 1, 2, 3, 2, 3, 0, 3, 0, 3, 0, 3, 0,\n",
       "       2, 3, 0, 0, 0, 3, 0, 3, 0, 3, 0, 0, 0, 0, 2, 0, 0, 1, 0, 0, 0, 3,\n",
       "       2, 0, 0, 0, 0, 3, 2, 0, 3, 0, 1, 2, 0, 0, 3, 0, 0, 2, 2, 0, 1, 0,\n",
       "       0, 0, 0, 3, 1, 0, 0, 0, 0, 0, 0, 1, 0, 0, 0, 1, 0, 3, 1, 3, 0, 2,\n",
       "       0, 2, 0, 0, 0, 0, 0, 0, 3, 1, 3, 3, 0, 3, 0, 2, 0, 2, 1, 0, 1, 0,\n",
       "       0, 0, 0, 0, 0, 0, 0, 0, 0, 2, 2, 0, 2, 3, 0, 0, 2, 0, 0, 0, 3, 1,\n",
       "       3, 0, 3, 0, 0, 3, 3, 3, 0, 0, 0, 0, 3, 0, 0, 0, 0, 0, 0, 1, 0, 3,\n",
       "       3, 3, 2, 3, 0, 0, 1, 2, 3, 3, 0, 0, 2, 0, 0, 1, 0, 0, 0, 2, 0, 0,\n",
       "       0, 3, 0, 0, 2, 0, 2, 0, 3, 0, 1, 2, 0, 3, 0, 2, 3, 0, 0, 0, 3, 3,\n",
       "       0, 1, 1, 3, 2, 0, 2, 0, 2, 0, 3, 3, 0, 1, 2, 1, 3, 0, 0, 0, 3, 0,\n",
       "       3, 2, 3, 0, 0, 0, 0, 3, 0, 0, 3, 0, 3, 0, 0, 3, 3, 3, 1, 3, 3, 0,\n",
       "       0, 0, 2, 2, 3, 0, 0, 0, 0, 0, 1, 0, 0, 0, 2, 1, 3, 0, 0, 2, 0, 3,\n",
       "       2, 0, 0, 3, 0, 1, 0, 0, 0, 0, 0, 0, 0, 0, 0, 0, 0, 0, 2, 3, 0, 0,\n",
       "       3, 0, 0, 3, 2, 0, 0, 0, 0, 0, 3, 0, 3, 0, 3, 0, 0, 3, 3, 0, 0, 0,\n",
       "       2, 0, 2, 1, 0, 3, 0, 1, 0, 2, 0, 0, 0, 0, 0, 1, 0, 2, 0, 3, 1, 0,\n",
       "       0, 3, 1, 0, 0, 3, 0, 3, 3, 0, 0, 0, 0, 2, 0, 3, 2, 0, 2, 1, 3, 0,\n",
       "       0, 3, 0, 0, 0, 3, 1, 0, 0, 2, 0, 0, 3, 0, 0, 0, 0, 2, 0, 0, 0, 0,\n",
       "       0, 0, 3, 0, 0, 0, 0, 0, 0, 0, 3, 0, 3, 2, 3, 0, 0, 0, 0, 0, 0, 0,\n",
       "       0, 0, 0, 0, 0, 0, 0, 3, 3, 0, 3, 0, 2, 3, 0, 0, 0, 0, 0, 0, 3, 0,\n",
       "       0, 3, 0, 0, 0, 2, 3, 3, 0, 3, 0, 3, 1, 0, 0, 0, 2, 3, 0, 0, 0, 0,\n",
       "       2, 0, 0, 3, 2, 0, 3, 0, 0, 0, 0, 0, 3, 0, 0, 0, 1, 0, 0, 0, 0, 0,\n",
       "       2, 0, 0, 0, 0, 3, 2, 3, 3, 0, 0, 0, 0, 0, 0, 0, 2, 0, 0, 1, 0, 2,\n",
       "       2, 2, 0, 1, 0, 0, 0, 3, 0, 0, 3, 0, 2, 0, 0, 1, 2, 2, 0, 2, 3, 0,\n",
       "       0, 0, 2, 3, 0, 3, 0, 0, 0, 0, 0, 0, 1, 0, 3, 1, 0, 0, 3, 3, 0, 0,\n",
       "       0, 1, 0, 2, 2, 0, 0, 3, 0, 0, 3, 0, 1, 3, 0, 0, 0, 0, 3, 3, 0, 2,\n",
       "       3, 0, 2, 3, 2, 0, 0, 3, 1, 0, 0, 0, 0, 0, 0, 0, 0, 2, 0, 0, 0, 0,\n",
       "       0, 0, 3, 0, 0, 0, 0, 3, 0, 0, 0, 2, 2, 1, 3, 0, 3, 2, 2, 0, 3, 0,\n",
       "       0, 3, 0, 0, 0, 0, 2, 2, 0, 3, 0, 2, 2, 0, 3, 0, 2, 2, 0, 0, 2, 3,\n",
       "       0, 0, 0, 0, 3, 0, 2, 0, 1, 1, 0, 2, 3, 2, 3, 0, 0, 0, 0, 1, 2, 3,\n",
       "       3, 0, 2, 0, 1, 0, 3, 0, 0, 3, 0, 0, 0, 0, 3, 2, 1, 0, 0, 0, 0, 3,\n",
       "       2, 3, 2, 0, 0, 0, 0, 0, 1, 1])"
      ]
     },
     "execution_count": 42,
     "metadata": {},
     "output_type": "execute_result"
    }
   ],
   "source": [
    "y_pred = xgb_model.predict(df_test_comp)\n",
    "y_pred"
   ]
  },
  {
   "cell_type": "code",
   "execution_count": null,
   "id": "chemical-screw",
   "metadata": {
    "papermill": {
     "duration": 0.054163,
     "end_time": "2021-06-17T02:42:38.885152",
     "exception": false,
     "start_time": "2021-06-17T02:42:38.830989",
     "status": "completed"
    },
    "tags": []
   },
   "outputs": [],
   "source": []
  }
 ],
 "metadata": {
  "kernelspec": {
   "display_name": "Python 3",
   "language": "python",
   "name": "python3"
  },
  "language_info": {
   "codemirror_mode": {
    "name": "ipython",
    "version": 3
   },
   "file_extension": ".py",
   "mimetype": "text/x-python",
   "name": "python",
   "nbconvert_exporter": "python",
   "pygments_lexer": "ipython3",
   "version": "3.7.9"
  },
  "papermill": {
   "default_parameters": {},
   "duration": 19.513193,
   "end_time": "2021-06-17T02:42:39.650906",
   "environment_variables": {},
   "exception": null,
   "input_path": "__notebook__.ipynb",
   "output_path": "__notebook__.ipynb",
   "parameters": {},
   "start_time": "2021-06-17T02:42:20.137713",
   "version": "2.3.2"
  }
 },
 "nbformat": 4,
 "nbformat_minor": 5
}
